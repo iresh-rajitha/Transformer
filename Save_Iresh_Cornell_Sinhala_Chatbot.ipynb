{
 "cells": [
  {
   "cell_type": "markdown",
   "metadata": {
    "id": "nd8ddC7NQ8uZ"
   },
   "source": [
    "# Transformer Chatbot"
   ]
  },
  {
   "cell_type": "code",
   "execution_count": null,
   "metadata": {
    "colab": {
     "base_uri": "https://localhost:8080/"
    },
    "id": "mb_5bl7G_n30",
    "outputId": "00c4761e-d102-4ccc-9ca6-a81fb6bd1869"
   },
   "outputs": [
    {
     "name": "stdout",
     "output_type": "stream",
     "text": [
      "Looking in indexes: https://pypi.org/simple, https://us-python.pkg.dev/colab-wheels/public/simple/\n",
      "Requirement already satisfied: tensorflow==2.11.0 in /usr/local/lib/python3.9/dist-packages (2.11.0)\n",
      "Requirement already satisfied: absl-py>=1.0.0 in /usr/local/lib/python3.9/dist-packages (from tensorflow==2.11.0) (1.4.0)\n",
      "Requirement already satisfied: libclang>=13.0.0 in /usr/local/lib/python3.9/dist-packages (from tensorflow==2.11.0) (15.0.6.1)\n",
      "Requirement already satisfied: tensorflow-estimator<2.12,>=2.11.0 in /usr/local/lib/python3.9/dist-packages (from tensorflow==2.11.0) (2.11.0)\n",
      "Requirement already satisfied: astunparse>=1.6.0 in /usr/local/lib/python3.9/dist-packages (from tensorflow==2.11.0) (1.6.3)\n",
      "Requirement already satisfied: wrapt>=1.11.0 in /usr/local/lib/python3.9/dist-packages (from tensorflow==2.11.0) (1.15.0)\n",
      "Requirement already satisfied: typing-extensions>=3.6.6 in /usr/local/lib/python3.9/dist-packages (from tensorflow==2.11.0) (4.5.0)\n",
      "Requirement already satisfied: termcolor>=1.1.0 in /usr/local/lib/python3.9/dist-packages (from tensorflow==2.11.0) (2.2.0)\n",
      "Requirement already satisfied: h5py>=2.9.0 in /usr/local/lib/python3.9/dist-packages (from tensorflow==2.11.0) (3.8.0)\n",
      "Requirement already satisfied: grpcio<2.0,>=1.24.3 in /usr/local/lib/python3.9/dist-packages (from tensorflow==2.11.0) (1.51.3)\n",
      "Requirement already satisfied: six>=1.12.0 in /usr/local/lib/python3.9/dist-packages (from tensorflow==2.11.0) (1.15.0)\n",
      "Requirement already satisfied: setuptools in /usr/local/lib/python3.9/dist-packages (from tensorflow==2.11.0) (63.4.3)\n",
      "Requirement already satisfied: tensorflow-io-gcs-filesystem>=0.23.1 in /usr/local/lib/python3.9/dist-packages (from tensorflow==2.11.0) (0.31.0)\n",
      "Requirement already satisfied: keras<2.12,>=2.11.0 in /usr/local/lib/python3.9/dist-packages (from tensorflow==2.11.0) (2.11.0)\n",
      "Requirement already satisfied: flatbuffers>=2.0 in /usr/local/lib/python3.9/dist-packages (from tensorflow==2.11.0) (23.3.3)\n",
      "Requirement already satisfied: opt-einsum>=2.3.2 in /usr/local/lib/python3.9/dist-packages (from tensorflow==2.11.0) (3.3.0)\n",
      "Requirement already satisfied: numpy>=1.20 in /usr/local/lib/python3.9/dist-packages (from tensorflow==2.11.0) (1.24.2)\n",
      "Requirement already satisfied: gast<=0.4.0,>=0.2.1 in /usr/local/lib/python3.9/dist-packages (from tensorflow==2.11.0) (0.4.0)\n",
      "Requirement already satisfied: packaging in /usr/local/lib/python3.9/dist-packages (from tensorflow==2.11.0) (23.0)\n",
      "Requirement already satisfied: tensorboard<2.12,>=2.11 in /usr/local/lib/python3.9/dist-packages (from tensorflow==2.11.0) (2.11.2)\n",
      "Requirement already satisfied: google-pasta>=0.1.1 in /usr/local/lib/python3.9/dist-packages (from tensorflow==2.11.0) (0.2.0)\n",
      "Requirement already satisfied: protobuf<3.20,>=3.9.2 in /usr/local/lib/python3.9/dist-packages (from tensorflow==2.11.0) (3.19.6)\n",
      "Requirement already satisfied: wheel<1.0,>=0.23.0 in /usr/local/lib/python3.9/dist-packages (from astunparse>=1.6.0->tensorflow==2.11.0) (0.40.0)\n",
      "Requirement already satisfied: requests<3,>=2.21.0 in /usr/local/lib/python3.9/dist-packages (from tensorboard<2.12,>=2.11->tensorflow==2.11.0) (2.27.1)\n",
      "Requirement already satisfied: werkzeug>=1.0.1 in /usr/local/lib/python3.9/dist-packages (from tensorboard<2.12,>=2.11->tensorflow==2.11.0) (2.2.3)\n",
      "Requirement already satisfied: google-auth-oauthlib<0.5,>=0.4.1 in /usr/local/lib/python3.9/dist-packages (from tensorboard<2.12,>=2.11->tensorflow==2.11.0) (0.4.6)\n",
      "Requirement already satisfied: tensorboard-plugin-wit>=1.6.0 in /usr/local/lib/python3.9/dist-packages (from tensorboard<2.12,>=2.11->tensorflow==2.11.0) (1.8.1)\n",
      "Requirement already satisfied: markdown>=2.6.8 in /usr/local/lib/python3.9/dist-packages (from tensorboard<2.12,>=2.11->tensorflow==2.11.0) (3.4.1)\n",
      "Requirement already satisfied: tensorboard-data-server<0.7.0,>=0.6.0 in /usr/local/lib/python3.9/dist-packages (from tensorboard<2.12,>=2.11->tensorflow==2.11.0) (0.6.1)\n",
      "Requirement already satisfied: google-auth<3,>=1.6.3 in /usr/local/lib/python3.9/dist-packages (from tensorboard<2.12,>=2.11->tensorflow==2.11.0) (2.16.2)\n",
      "Requirement already satisfied: cachetools<6.0,>=2.0.0 in /usr/local/lib/python3.9/dist-packages (from google-auth<3,>=1.6.3->tensorboard<2.12,>=2.11->tensorflow==2.11.0) (5.3.0)\n",
      "Requirement already satisfied: pyasn1-modules>=0.2.1 in /usr/local/lib/python3.9/dist-packages (from google-auth<3,>=1.6.3->tensorboard<2.12,>=2.11->tensorflow==2.11.0) (0.2.8)\n",
      "Requirement already satisfied: rsa<5,>=3.1.4 in /usr/local/lib/python3.9/dist-packages (from google-auth<3,>=1.6.3->tensorboard<2.12,>=2.11->tensorflow==2.11.0) (4.9)\n",
      "Requirement already satisfied: requests-oauthlib>=0.7.0 in /usr/local/lib/python3.9/dist-packages (from google-auth-oauthlib<0.5,>=0.4.1->tensorboard<2.12,>=2.11->tensorflow==2.11.0) (1.3.1)\n",
      "Requirement already satisfied: importlib-metadata>=4.4 in /usr/local/lib/python3.9/dist-packages (from markdown>=2.6.8->tensorboard<2.12,>=2.11->tensorflow==2.11.0) (6.0.0)\n",
      "Requirement already satisfied: charset-normalizer~=2.0.0 in /usr/local/lib/python3.9/dist-packages (from requests<3,>=2.21.0->tensorboard<2.12,>=2.11->tensorflow==2.11.0) (2.0.12)\n",
      "Requirement already satisfied: urllib3<1.27,>=1.21.1 in /usr/local/lib/python3.9/dist-packages (from requests<3,>=2.21.0->tensorboard<2.12,>=2.11->tensorflow==2.11.0) (1.26.15)\n",
      "Requirement already satisfied: idna<4,>=2.5 in /usr/local/lib/python3.9/dist-packages (from requests<3,>=2.21.0->tensorboard<2.12,>=2.11->tensorflow==2.11.0) (3.4)\n",
      "Requirement already satisfied: certifi>=2017.4.17 in /usr/local/lib/python3.9/dist-packages (from requests<3,>=2.21.0->tensorboard<2.12,>=2.11->tensorflow==2.11.0) (2022.12.7)\n",
      "Requirement already satisfied: MarkupSafe>=2.1.1 in /usr/local/lib/python3.9/dist-packages (from werkzeug>=1.0.1->tensorboard<2.12,>=2.11->tensorflow==2.11.0) (2.1.2)\n",
      "Requirement already satisfied: zipp>=0.5 in /usr/local/lib/python3.9/dist-packages (from importlib-metadata>=4.4->markdown>=2.6.8->tensorboard<2.12,>=2.11->tensorflow==2.11.0) (3.15.0)\n",
      "Requirement already satisfied: pyasn1<0.5.0,>=0.4.6 in /usr/local/lib/python3.9/dist-packages (from pyasn1-modules>=0.2.1->google-auth<3,>=1.6.3->tensorboard<2.12,>=2.11->tensorflow==2.11.0) (0.4.8)\n",
      "Requirement already satisfied: oauthlib>=3.0.0 in /usr/local/lib/python3.9/dist-packages (from requests-oauthlib>=0.7.0->google-auth-oauthlib<0.5,>=0.4.1->tensorboard<2.12,>=2.11->tensorflow==2.11.0) (3.2.2)\n",
      "Looking in indexes: https://pypi.org/simple, https://us-python.pkg.dev/colab-wheels/public/simple/\n",
      "Requirement already satisfied: tensorflow-datasets==4.1.0 in /usr/local/lib/python3.9/dist-packages (4.1.0)\n",
      "Requirement already satisfied: six in /usr/local/lib/python3.9/dist-packages (from tensorflow-datasets==4.1.0) (1.15.0)\n",
      "Requirement already satisfied: dill in /usr/local/lib/python3.9/dist-packages (from tensorflow-datasets==4.1.0) (0.3.6)\n",
      "Requirement already satisfied: tqdm in /usr/local/lib/python3.9/dist-packages (from tensorflow-datasets==4.1.0) (4.65.0)\n",
      "Requirement already satisfied: numpy in /usr/local/lib/python3.9/dist-packages (from tensorflow-datasets==4.1.0) (1.24.2)\n",
      "Requirement already satisfied: termcolor in /usr/local/lib/python3.9/dist-packages (from tensorflow-datasets==4.1.0) (2.2.0)\n",
      "Requirement already satisfied: future in /usr/local/lib/python3.9/dist-packages (from tensorflow-datasets==4.1.0) (0.18.3)\n",
      "Requirement already satisfied: promise in /usr/local/lib/python3.9/dist-packages (from tensorflow-datasets==4.1.0) (2.3)\n",
      "Requirement already satisfied: absl-py in /usr/local/lib/python3.9/dist-packages (from tensorflow-datasets==4.1.0) (1.4.0)\n",
      "Requirement already satisfied: requests>=2.19.0 in /usr/local/lib/python3.9/dist-packages (from tensorflow-datasets==4.1.0) (2.27.1)\n",
      "Requirement already satisfied: tensorflow-metadata in /usr/local/lib/python3.9/dist-packages (from tensorflow-datasets==4.1.0) (1.12.0)\n",
      "Requirement already satisfied: protobuf>=3.6.1 in /usr/local/lib/python3.9/dist-packages (from tensorflow-datasets==4.1.0) (3.19.6)\n",
      "Requirement already satisfied: attrs>=18.1.0 in /usr/local/lib/python3.9/dist-packages (from tensorflow-datasets==4.1.0) (22.2.0)\n",
      "Requirement already satisfied: certifi>=2017.4.17 in /usr/local/lib/python3.9/dist-packages (from requests>=2.19.0->tensorflow-datasets==4.1.0) (2022.12.7)\n",
      "Requirement already satisfied: idna<4,>=2.5 in /usr/local/lib/python3.9/dist-packages (from requests>=2.19.0->tensorflow-datasets==4.1.0) (3.4)\n",
      "Requirement already satisfied: charset-normalizer~=2.0.0 in /usr/local/lib/python3.9/dist-packages (from requests>=2.19.0->tensorflow-datasets==4.1.0) (2.0.12)\n",
      "Requirement already satisfied: urllib3<1.27,>=1.21.1 in /usr/local/lib/python3.9/dist-packages (from requests>=2.19.0->tensorflow-datasets==4.1.0) (1.26.15)\n",
      "Requirement already satisfied: googleapis-common-protos<2,>=1.52.0 in /usr/local/lib/python3.9/dist-packages (from tensorflow-metadata->tensorflow-datasets==4.1.0) (1.58.0)\n",
      "Tensorflow version 2.11.0\n"
     ]
    }
   ],
   "source": [
    "from __future__ import absolute_import, division, print_function, unicode_literals\n",
    "\n",
    "import sys\n",
    "\n",
    "# !pip install tensorflow==2.11.0\n",
    "!pip install tensorflow==2.14.0\n",
    "# import tensorflow as tf\n",
    "\n",
    "tf.random.set_seed(1234)\n",
    "AUTO = tf.data.experimental.AUTOTUNE\n",
    "\n",
    "# !pip install tensorflow-datasets==4.1.0\n",
    "import tensorflow_datasets as tfds\n",
    "\n",
    "import os\n",
    "import re\n",
    "import numpy as np\n",
    "from time import time\n",
    "import matplotlib.pyplot as plt\n",
    "import random\n",
    "\n",
    "import pdb\n",
    "\n",
    "\n",
    "print(\"Tensorflow version {}\".format(tf.__version__))"
   ]
  },
  {
   "cell_type": "markdown",
   "metadata": {
    "id": "-YXFrSnNE_2j"
   },
   "source": [
    "### GPU / TPU initialization\n",
    "\n",
    "On Google Colab, select `TPU` or `GPU` hardware accelerator.\n"
   ]
  },
  {
   "cell_type": "code",
   "execution_count": null,
   "metadata": {
    "colab": {
     "base_uri": "https://localhost:8080/"
    },
    "id": "Rz2ZbpAREmRA",
    "outputId": "b4efdb4d-a57e-4c14-9eba-e933851df6c6"
   },
   "outputs": [
    {
     "name": "stdout",
     "output_type": "stream",
     "text": [
      "Running on TPU ['10.6.212.162:8470']\n"
     ]
    },
    {
     "name": "stderr",
     "output_type": "stream",
     "text": [
      "WARNING:tensorflow:TPU system grpc://10.6.212.162:8470 has already been initialized. Reinitializing the TPU can cause previously created variables on TPU to be lost.\n",
      "WARNING:absl:`tf.distribute.experimental.TPUStrategy` is deprecated, please use  the non experimental symbol `tf.distribute.TPUStrategy` instead.\n"
     ]
    },
    {
     "name": "stdout",
     "output_type": "stream",
     "text": [
      "REPLICAS: 8\n"
     ]
    }
   ],
   "source": [
    "try:\n",
    "    tpu = tf.distribute.cluster_resolver.TPUClusterResolver()\n",
    "    print('Running on TPU {}'.format(tpu.cluster_spec().as_dict()['worker']))\n",
    "except ValueError:\n",
    "    tpu = None\n",
    "\n",
    "if tpu:\n",
    "    tf.config.experimental_connect_to_cluster(tpu)\n",
    "    tf.tpu.experimental.initialize_tpu_system(tpu)\n",
    "    strategy = tf.distribute.experimental.TPUStrategy(tpu)\n",
    "else:\n",
    "    strategy = tf.distribute.get_strategy()\n",
    "\n",
    "print(\"REPLICAS: {}\".format(strategy.num_replicas_in_sync))"
   ]
  },
  {
   "cell_type": "markdown",
   "metadata": {
    "id": "skMfzRV5cEnb"
   },
   "source": [
    "## Hyperparameters\n",
    "\n",
    "To keep this example small and relatively fast, the values for *num_layers, d_model, and units* have been reduced. See the [paper](https://arxiv.org/abs/1706.03762) for all the other versions of the transformer."
   ]
  },
  {
   "cell_type": "code",
   "execution_count": null,
   "metadata": {
    "id": "alnYEatYcHp7"
   },
   "outputs": [],
   "source": [
    "ATTEMPT = 1\n",
    "# Maximum sentence length\n",
    "MAX_LENGTH = 20\n",
    "\n",
    "# Maximum number of samples to preprocess\n",
    "MAX_SAMPLES = 70000 # 0 = for All of data otherwise mention the size\n",
    "\n",
    "# Cut off value of words in the dictionary\n",
    "TRESHOLD_VALUE = 1\n",
    "\n",
    "# For tf.data.Dataset\n",
    "BATCH_SIZE = 8 * strategy.num_replicas_in_sync\n",
    "BUFFER_SIZE = 20000 #Shuffle data in the dataset\n",
    "\n",
    "# For Transformer\n",
    "NUM_LAYERS = 2\n",
    "D_MODEL = 512\n",
    "NUM_HEADS = 16\n",
    "UNITS = 512\n",
    "DROPOUT = 0.3\n",
    "\n",
    "EPOCHS = 4\n",
    "TRAINING_RATIO = 0.9"
   ]
  },
  {
   "cell_type": "markdown",
   "metadata": {
    "id": "y0AqALdZCbCW"
   },
   "source": [
    "## Prepare Dataset"
   ]
  },
  {
   "cell_type": "markdown",
   "metadata": {
    "id": "BBNC2BjZjbMU"
   },
   "source": [
    "### load data"
   ]
  },
  {
   "cell_type": "code",
   "execution_count": null,
   "metadata": {
    "id": "HLKMVOVh33B2"
   },
   "outputs": [],
   "source": [
    "import pandas as pd\n",
    "# Old dataset\n",
    "# data_set_url = 'https://raw.githubusercontent.com/DevindiSiwurathna/Cornell_Chatbot-V_1.0/main/sinhala.csv'\n",
    "# data_set_url = 'https://raw.githubusercontent.com/iresh-rajitha/Sinhala_dataset/main/sinhala_data.csv'\n",
    "# data_set_url = 'https://raw.githubusercontent.com/DevindiSiwurathna/Sinhala-DataSet/main/Final%20Last%20Sinhala%20Data%20Set%20Original.csv' #57 000\n",
    "data_set_url = 'https://raw.githubusercontent.com/dalin-aranga/Sinhala-Dataset/main/Final.csv'\n",
    "\n",
    "\n",
    "b_data=pd.read_csv( data_set_url , header = None)\n",
    "b_data=b_data.astype(str)\n",
    "# b_data.drop(b_data.columns[[1]], axis = 1, inplace = True)\n",
    "if MAX_SAMPLES == 0 or len(b_data[:][1:]) < MAX_SAMPLES:\n",
    "  b_data = b_data[:][1:]\n",
    "else:\n",
    "  b_data = b_data[:][1:MAX_SAMPLES]"
   ]
  },
  {
   "cell_type": "markdown",
   "metadata": {
    "id": "Yb7p5PucjeF6"
   },
   "source": [
    "### Seperate Questions and Answers"
   ]
  },
  {
   "cell_type": "code",
   "execution_count": null,
   "metadata": {
    "id": "DUiUb3Jb5U1M"
   },
   "outputs": [],
   "source": [
    "questions = b_data[0].tolist()\n",
    "answers = b_data[1].tolist()"
   ]
  },
  {
   "cell_type": "code",
   "execution_count": null,
   "metadata": {
    "colab": {
     "base_uri": "https://localhost:8080/"
    },
    "id": "OshBSw7ux7uC",
    "outputId": "00f8f43f-8825-49a5-ccff-0b0021b30bd1"
   },
   "outputs": [
    {
     "name": "stdout",
     "output_type": "stream",
     "text": [
      "Question :ඔයා ඇයි ඔය ගහ කපන්නේ?Answer :ඒක මෙතනට ඕනි නැති නිසා\n",
      "Question :මොකද්ද ඒකට එයා දැම්මේ?Answer :දන්නෙ නෑ\n",
      "Question :ඔබ වැනිලා අයිස්ක්‍රීම් කන්න කැමතිදAnswer :ඔව් මම කැමතියි\n",
      "Question : ඔයාගේ නම් මොකද්දAnswer :අසිත\n"
     ]
    }
   ],
   "source": [
    "for i in random.sample(range(1, 1000), 4):\n",
    "  print(\"Question :\"+questions[i] + \"Answer :\"+answers[i])"
   ]
  },
  {
   "cell_type": "code",
   "execution_count": null,
   "metadata": {
    "colab": {
     "base_uri": "https://localhost:8080/"
    },
    "id": "7JOlbhcDsNio",
    "outputId": "d0db6ae6-d183-47d1-d8e9-54ad3890d6fd"
   },
   "outputs": [
    {
     "data": {
      "text/plain": [
       "31644"
      ]
     },
     "execution_count": 93,
     "metadata": {},
     "output_type": "execute_result"
    }
   ],
   "source": [
    "len(answers)"
   ]
  },
  {
   "cell_type": "markdown",
   "metadata": {
    "id": "613LMOyGjKjB"
   },
   "source": [
    "## Sinhala Preprocessor"
   ]
  },
  {
   "cell_type": "code",
   "execution_count": null,
   "metadata": {
    "id": "m_siZxIFjN_Z"
   },
   "outputs": [],
   "source": [
    "# -*- coding: utf-8 -*-\n",
    "import re\n",
    "\n",
    "\n",
    "class SinhalaPreprocessor:\n",
    "\n",
    "    @classmethod\n",
    "    def preprocess_sentence(cls, sentence):\n",
    "        # There are some &quote while the words\n",
    "        sentence = re.sub(r\"&quot\", \" \", sentence)\n",
    "        # - and long hypen should replace with space\n",
    "        sentence = re.sub(r\"([\\-–])\", \" \", sentence)\n",
    "        # stripe \"  සිංහල    භාෂාව \" => \" සිංහල භාෂාව \"\n",
    "        sentence = sentence.strip()\n",
    "        # 40,000 -> 40000\n",
    "        sentence = re.sub(r\",000\", r\"000\", sentence)\n",
    "        # <u>නැගෙනහිර යුරෝපය</u> => නැගෙනහිර යුරෝපය U can be simple or capital\n",
    "        # Here anything could be between the tag\n",
    "        sentence = re.sub(r\"(<.*?>)+(.*?)(<.*?>)*\", r\" \\2 \", sentence)\n",
    "        # Here I consider ? . ! , as single words\n",
    "        sentence = re.sub(r\"([?.!,])\", r\" \\1 \", sentence)\n",
    "        # 100ක් -> 100 ක්\n",
    "        sentence = re.sub(r\"([\\d]+)\", r\" \\1 \", sentence)\n",
    "        # remove `~@#$%^&*()_+=/><':;}{[]|\\ “‘\n",
    "        sentence = re.sub(r\"([“‘`~@#$%^&*()_+=/><':;}{\\[\\]\\\\|])\", \"\", sentence)\n",
    "        # remove double quotes\n",
    "        sentence = re.sub(r'[\" \"]+', \" \", sentence)\n",
    "        return sentence\n",
    "\n",
    "    @classmethod\n",
    "    def preprocess_sentences(cls, sentences):\n",
    "        new_sentences = []\n",
    "        for sentence in sentences:\n",
    "            new_sentences.append(cls.preprocess_sentence(sentence))\n",
    "        return new_sentences\n",
    "\n",
    "# u([\\u0D80-\\u0DFF]+)u - to recognize sinhala words\n"
   ]
  },
  {
   "cell_type": "code",
   "execution_count": null,
   "metadata": {
    "id": "cEDOOvwAkAJa"
   },
   "outputs": [],
   "source": [
    "sinhala_pre = SinhalaPreprocessor()\n",
    "questions = sinhala_pre.preprocess_sentences(questions)\n",
    "answers = sinhala_pre.preprocess_sentences(answers)\n",
    "# questions = sinhala_pre.preprocess_sentences(questions)"
   ]
  },
  {
   "cell_type": "markdown",
   "metadata": {
    "id": "nkdmN2Jvoftq"
   },
   "source": [
    "## Seperate Train and test data"
   ]
  },
  {
   "cell_type": "code",
   "execution_count": null,
   "metadata": {
    "id": "6LTGqKb3pFST"
   },
   "outputs": [],
   "source": [
    "import math\n",
    "\n",
    "training_len = math.floor(len(questions)*TRAINING_RATIO)\n",
    "\n",
    "train_questions = questions[:training_len]\n",
    "train_answers = answers[:training_len]\n",
    "\n",
    "test_questions = questions[training_len:]\n",
    "test_answers = answers[training_len:]"
   ]
  },
  {
   "cell_type": "code",
   "execution_count": null,
   "metadata": {
    "colab": {
     "base_uri": "https://localhost:8080/"
    },
    "id": "PpxwPd_Aqo13",
    "outputId": "6a0e3863-b8f5-40f7-8fac-cee68914da8f"
   },
   "outputs": [
    {
     "data": {
      "text/plain": [
       "31644"
      ]
     },
     "execution_count": 97,
     "metadata": {},
     "output_type": "execute_result"
    }
   ],
   "source": [
    "len(train_questions) + len(test_questions)"
   ]
  },
  {
   "cell_type": "markdown",
   "metadata": {
    "id": "frludohSj8xj"
   },
   "source": [
    "### Number of Questions"
   ]
  },
  {
   "cell_type": "code",
   "execution_count": null,
   "metadata": {
    "colab": {
     "base_uri": "https://localhost:8080/"
    },
    "id": "mtEEj_8Y5d08",
    "outputId": "ac4a307b-3010-4ba4-c42d-05d22d95e1d4"
   },
   "outputs": [
    {
     "data": {
      "text/plain": [
       "31644"
      ]
     },
     "execution_count": 98,
     "metadata": {},
     "output_type": "execute_result"
    }
   ],
   "source": [
    "len(questions)"
   ]
  },
  {
   "cell_type": "markdown",
   "metadata": {
    "id": "AtNDe806kDgr"
   },
   "source": [
    "### Sample question and Answer"
   ]
  },
  {
   "cell_type": "code",
   "execution_count": null,
   "metadata": {
    "colab": {
     "base_uri": "https://localhost:8080/"
    },
    "id": "mfOOK5f7Wm6c",
    "outputId": "2bb2f3e4-e562-4b9e-b650-c6e4dae0c1b6"
   },
   "outputs": [
    {
     "name": "stdout",
     "output_type": "stream",
     "text": [
      "Sample question: කීයටද යන්නේ\n",
      "Sample answer:  8 30 ට මම මෙහෙ යනවා\n"
     ]
    }
   ],
   "source": [
    "print('Sample question: {}'.format(train_questions[20]))\n",
    "print('Sample answer: {}'.format(train_answers[20]))"
   ]
  },
  {
   "cell_type": "markdown",
   "metadata": {
    "id": "lb7Dw4dFuB3o"
   },
   "source": [
    "## Sinhala Tokenizer"
   ]
  },
  {
   "cell_type": "code",
   "execution_count": null,
   "metadata": {
    "id": "BgQ_48lVuGb9"
   },
   "outputs": [],
   "source": [
    "import json\n",
    "import pickle\n",
    "\n",
    "\n",
    "class SinhalaTokenizer:\n",
    "    def __init__(self):\n",
    "        self.sentence2int = {}\n",
    "        self.int2word = {}\n",
    "        self.vocab_size = 0\n",
    "\n",
    "    def build_dictionaries(self, s , threshold_val):\n",
    "        # count each unique words\n",
    "        word2count = {}\n",
    "        for sentence in s:\n",
    "            for word in sentence.split():\n",
    "                if word not in word2count:\n",
    "                    word2count[word] = 1\n",
    "                else:\n",
    "                    word2count[word] += 1\n",
    "\n",
    "        # take equal or above count according to the threshold value\n",
    "        threshold_value = threshold_val\n",
    "        self.sentence2int = {}\n",
    "        word_number = 0\n",
    "\n",
    "        # adding tokens\n",
    "        tokens = ['<PAD>', '<EOS>', '<OUT>', '<SOS>']\n",
    "        for token in tokens:\n",
    "            self.sentence2int[token] = len(self.sentence2int) + 1\n",
    "            word_number += 1\n",
    "\n",
    "        # tokenizing word\n",
    "        for word, count in word2count.items():\n",
    "            if count >= threshold_value:\n",
    "                self.sentence2int[word] = word_number\n",
    "                word_number += 1\n",
    "\n",
    "        self.vocab_size = word_number\n",
    "\n",
    "        # Creating the inverse dictionary of the sentence2int dictionary\n",
    "        self.int2word = {w_i: w for w, w_i in self.sentence2int.items()}\n",
    "\n",
    "        # return tokenized sentences\n",
    "        # sentences_into_int = []\n",
    "        # for sentence in s:\n",
    "        #     ints = []\n",
    "        #     for word in sentence.split():\n",
    "        #         if word not in self.sentence2int:\n",
    "        #             ints.append(self.sentence2int['<OUT>'])\n",
    "        #         else:\n",
    "        #             ints.append(self.sentence2int[word])\n",
    "        #     sentences_into_int.append(ints)\n",
    "        # print(self.int2word)\n",
    "\n",
    "    def encode(self, sentence):\n",
    "        # return tokenized sentences\n",
    "        ints = []\n",
    "        for word in sentence.split():\n",
    "            if word not in self.sentence2int:\n",
    "                ints.append(self.sentence2int['<OUT>'])\n",
    "            else:\n",
    "                ints.append(self.sentence2int[word])\n",
    "        return ints\n",
    "\n",
    "    def decode(self, ints):\n",
    "        sentence = ''\n",
    "        for i in ints:\n",
    "            if i not in self.int2word:\n",
    "                sentence = sentence + ' ' + self.int2word['<OUT>']\n",
    "            else:\n",
    "                sentence = sentence + ' ' + self.int2word[i]\n",
    "        return sentence\n",
    "\n",
    "    def save_data_to_pickle_file(self, name):\n",
    "        f = open(name, \"wb\")\n",
    "        pickle.dump([self.int2word, self.sentence2int], f)\n",
    "        f.close()\n",
    "\n",
    "    def create_data_using_pickle_file(self, path):\n",
    "        a_file = open(path, \"rb\")\n",
    "        self.int2word, self.sentence2int = pickle.load(a_file)\n",
    "        self.vocab_size = len(self.int2word)\n",
    "\n",
    "    def save_sinhala_words_to_txt(self):\n",
    "        with open('Sinhala_dictionary.txt', 'w', encoding='utf-8') as convert_file:\n",
    "            convert_file.write(json.dumps(self.sentence2int, ensure_ascii=False, indent=4, sort_keys=True))\n"
   ]
  },
  {
   "cell_type": "markdown",
   "metadata": {
    "id": "Yxf7Dy20kXKe"
   },
   "source": [
    "## Process data to train"
   ]
  },
  {
   "cell_type": "code",
   "execution_count": null,
   "metadata": {
    "id": "s6XX2udMTCQt"
   },
   "outputs": [],
   "source": [
    "# Build tokenizer using tfds for both questions and answers\n",
    "tokenizer = SinhalaTokenizer()\n",
    "tokenizer.build_dictionaries(train_questions + train_answers + test_questions +test_answers, TRESHOLD_VALUE)\n",
    "tokenizer.save_data_to_pickle_file(\"data.pkl\")\n",
    "tokenizer.save_sinhala_words_to_txt()\n",
    "# Define start and end token to indicate the start and end of a sentence\n",
    "START_TOKEN, END_TOKEN = [tokenizer.vocab_size], [tokenizer.vocab_size + 1]\n",
    "\n",
    "# Vocabulary size plus start and end token\n",
    "VOCAB_SIZE = tokenizer.vocab_size + 2"
   ]
  },
  {
   "cell_type": "code",
   "execution_count": null,
   "metadata": {
    "colab": {
     "base_uri": "https://localhost:8080/"
    },
    "id": "ChpYKZZSSN-8",
    "outputId": "7a30c81b-529d-409d-87b3-6b529419a122"
   },
   "outputs": [
    {
     "data": {
      "text/plain": [
       "17665"
      ]
     },
     "execution_count": 102,
     "metadata": {},
     "output_type": "execute_result"
    }
   ],
   "source": [
    "tokenizer.vocab_size"
   ]
  },
  {
   "cell_type": "code",
   "execution_count": null,
   "metadata": {
    "colab": {
     "base_uri": "https://localhost:8080/",
     "height": 35
    },
    "id": "_ekcdSBJ8oMF",
    "outputId": "497cd8c1-1911-4100-d70f-c550efde0267"
   },
   "outputs": [
    {
     "data": {
      "application/vnd.google.colaboratory.intrinsic+json": {
       "type": "string"
      },
      "text/plain": [
       "'කීයටද යන්නේ'"
      ]
     },
     "execution_count": 103,
     "metadata": {},
     "output_type": "execute_result"
    }
   ],
   "source": [
    "questions[20]"
   ]
  },
  {
   "cell_type": "code",
   "execution_count": null,
   "metadata": {
    "colab": {
     "base_uri": "https://localhost:8080/",
     "height": 35
    },
    "id": "ClUAGFe1s_3r",
    "outputId": "b2d65ec9-abcb-4f0e-c91b-4892c28739c8"
   },
   "outputs": [
    {
     "data": {
      "application/vnd.google.colaboratory.intrinsic+json": {
       "type": "string"
      },
      "text/plain": [
       "'කීයටද යන්නේ'"
      ]
     },
     "execution_count": 104,
     "metadata": {},
     "output_type": "execute_result"
    }
   ],
   "source": [
    "train_questions[20]"
   ]
  },
  {
   "cell_type": "code",
   "execution_count": null,
   "metadata": {
    "colab": {
     "base_uri": "https://localhost:8080/"
    },
    "id": "h5h8pvRUTFt5",
    "outputId": "f3249bee-28e7-457d-f281-21f88d67e4f6"
   },
   "outputs": [
    {
     "name": "stdout",
     "output_type": "stream",
     "text": [
      "Tokenized sample question: [4, 5]\n"
     ]
    }
   ],
   "source": [
    "print('Tokenized sample question: {}'.format(tokenizer.encode(questions[20])))"
   ]
  },
  {
   "cell_type": "code",
   "execution_count": null,
   "metadata": {
    "colab": {
     "base_uri": "https://localhost:8080/"
    },
    "id": "jfwQkI0ztMUr",
    "outputId": "d4ba2e94-72b0-42d6-e6ff-291129ffadbb"
   },
   "outputs": [
    {
     "name": "stdout",
     "output_type": "stream",
     "text": [
      "Tokenized sample question: [4, 5]\n"
     ]
    }
   ],
   "source": [
    "print('Tokenized sample question: {}'.format(tokenizer.encode(train_questions[20])))"
   ]
  },
  {
   "cell_type": "code",
   "execution_count": null,
   "metadata": {
    "id": "YESTPgeg_XgT"
   },
   "outputs": [],
   "source": [
    "# Tokenize, filter and pad sentences\n",
    "def tokenize_and_filter(inputs, outputs):\n",
    "  tokenized_inputs, tokenized_outputs = [], []\n",
    "  for (sentence1, sentence2) in zip(inputs, outputs):\n",
    "\n",
    "    # tokenize sentence\n",
    "    sentence1 = START_TOKEN + tokenizer.encode(sentence1) + END_TOKEN\n",
    "    sentence2 = START_TOKEN + tokenizer.encode(sentence2) + END_TOKEN\n",
    "\n",
    "    # check tokenized sentence max length\n",
    "    if len(sentence1) <= MAX_LENGTH and len(sentence2) <= MAX_LENGTH:\n",
    "      tokenized_inputs.append(sentence1)\n",
    "      tokenized_outputs.append(sentence2)\n",
    "\n",
    "    # pad tokenized sentences\n",
    "  tokenized_inputs = tf.keras.preprocessing.sequence.pad_sequences(\n",
    "      tokenized_inputs, maxlen=MAX_LENGTH, padding = 'post')\n",
    "  tokenized_outputs = tf.keras.preprocessing.sequence.pad_sequences(\n",
    "      tokenized_outputs, maxlen=MAX_LENGTH, padding= 'post')\n",
    "\n",
    "  return tokenized_inputs, tokenized_outputs\n",
    "\n",
    "\n",
    "train_questions, train_answers = tokenize_and_filter(train_questions, train_answers)\n",
    "test_questions, test_answers = tokenize_and_filter(test_questions, test_answers)"
   ]
  },
  {
   "cell_type": "code",
   "execution_count": null,
   "metadata": {
    "colab": {
     "base_uri": "https://localhost:8080/"
    },
    "id": "mcO5OjACG3Mh",
    "outputId": "0edde000-c38b-4525-8f89-2ef6e4ee49c4"
   },
   "outputs": [
    {
     "data": {
      "text/plain": [
       "array([[17665,     4,     5, ...,     0,     0,     0],\n",
       "       [17665,     6,     7, ...,     0,     0,     0],\n",
       "       [17665,     9,    10, ...,     0,     0,     0],\n",
       "       ...,\n",
       "       [17665,  6072,     5, ...,     0,     0,     0],\n",
       "       [17665,  4232,  2927, ...,     0,     0,     0],\n",
       "       [17665,    56,  4232, ...,     0,     0,     0]], dtype=int32)"
      ]
     },
     "execution_count": 108,
     "metadata": {},
     "output_type": "execute_result"
    }
   ],
   "source": [
    "# questions1.append()\n",
    "train_questions\n",
    "# np.append(questions1, [0,9,7,] , axis=0)"
   ]
  },
  {
   "cell_type": "code",
   "execution_count": null,
   "metadata": {
    "colab": {
     "base_uri": "https://localhost:8080/"
    },
    "id": "Uv8guBKH96US",
    "outputId": "a21e23e0-e5de-42b1-d92b-2a32dee1e6af"
   },
   "outputs": [
    {
     "data": {
      "text/plain": [
       "31644"
      ]
     },
     "execution_count": 109,
     "metadata": {},
     "output_type": "execute_result"
    }
   ],
   "source": [
    "len(questions)"
   ]
  },
  {
   "cell_type": "code",
   "execution_count": null,
   "metadata": {
    "colab": {
     "base_uri": "https://localhost:8080/"
    },
    "id": "pohHm8IRWlIH",
    "outputId": "91b4b286-abac-4830-e408-5f824b095898"
   },
   "outputs": [
    {
     "name": "stdout",
     "output_type": "stream",
     "text": [
      "Vocab size: 17667\n",
      "Number of samples: 28462\n"
     ]
    }
   ],
   "source": [
    "print('Vocab size: {}'.format(VOCAB_SIZE))\n",
    "print('Number of samples: {}'.format(len(train_questions)))"
   ]
  },
  {
   "cell_type": "markdown",
   "metadata": {
    "id": "RG0L8yTrEyGH"
   },
   "source": [
    "## Tokenized words"
   ]
  },
  {
   "cell_type": "markdown",
   "metadata": {
    "id": "S50jT4upWh5c"
   },
   "source": [
    "### Create `tf.data.Dataset`\n",
    "\n",
    "We are going to use the [tf.data.Dataset API](https://www.tensorflow.org/api_docs/python/tf/data) to contruct our input pipline in order to utilize features like caching and prefetching to speed up the training process.\n",
    "\n",
    "The transformer is an auto-regressive model: it makes predictions one part at a time, and uses its output so far to decide what to do next.\n",
    "\n",
    "During training this example uses teacher-forcing. Teacher forcing is passing the true output to the next time step regardless of what the model predicts at the current time step.\n",
    "\n",
    "As the transformer predicts each word, self-attention allows it to look at the previous words in the input sequence to better predict the next word.\n",
    "\n",
    "To prevent the model from peaking at the expected output the model uses a look-ahead mask.\n",
    "\n",
    "Target is divided into `decoder_inputs` which padded as an input to the decoder and `cropped_targets` for calculating our loss and accuracy."
   ]
  },
  {
   "cell_type": "code",
   "execution_count": null,
   "metadata": {
    "id": "WaznzPwot3as"
   },
   "outputs": [],
   "source": [
    "def make_dataset(data_questions, data_answers):\n",
    "  dataset = tf.data.Dataset.from_tensor_slices((\n",
    "      {\n",
    "          'inputs': data_questions,\n",
    "          'dec_inputs': data_answers[:, :-1]\n",
    "      },\n",
    "      {\n",
    "          'outputs': data_answers[:, 1:]\n",
    "      },\n",
    "  ))\n",
    "\n",
    "  dataset = dataset.cache()\n",
    "  dataset = dataset.shuffle(BUFFER_SIZE)\n",
    "  dataset = dataset.batch(BATCH_SIZE)\n",
    "  dataset = dataset.prefetch(tf.data.experimental.AUTOTUNE)\n",
    "  return dataset"
   ]
  },
  {
   "cell_type": "code",
   "execution_count": null,
   "metadata": {
    "id": "MdIDTMzOuS9q"
   },
   "outputs": [],
   "source": [
    "train_dataset = make_dataset(train_questions,train_answers)\n",
    "test_dataset = make_dataset(test_questions,test_answers)"
   ]
  },
  {
   "cell_type": "code",
   "execution_count": null,
   "metadata": {
    "colab": {
     "base_uri": "https://localhost:8080/"
    },
    "id": "mU8yNWpwPlS7",
    "outputId": "d806796f-d8c2-4b8a-e57a-70774fd9995b"
   },
   "outputs": [
    {
     "name": "stdout",
     "output_type": "stream",
     "text": [
      "<PrefetchDataset element_spec=({'inputs': TensorSpec(shape=(None, 20), dtype=tf.int32, name=None), 'dec_inputs': TensorSpec(shape=(None, 19), dtype=tf.int32, name=None)}, {'outputs': TensorSpec(shape=(None, 19), dtype=tf.int32, name=None)})>\n"
     ]
    }
   ],
   "source": [
    "print(train_dataset)"
   ]
  },
  {
   "cell_type": "markdown",
   "metadata": {
    "id": "s9eeMPjGXmI1"
   },
   "source": [
    "## Attention\n",
    "\n"
   ]
  },
  {
   "cell_type": "markdown",
   "metadata": {
    "id": "uctkwvPZVSzu"
   },
   "source": [
    "### Scaled dot product Attention\n",
    "\n",
    "The scaled dot-product attention function used by the transformer takes three inputs: Q (query), K (key), V (value). The equation used to calculate the attention weights is:\n",
    "\n",
    "$$\\Large{Attention(Q, K, V) = softmax_k(\\frac{QK^T}{\\sqrt{d_k}}) V} $$\n",
    "\n",
    "As the softmax normalization is done on the `key`, its values decide the amount of importance given to the `query`.\n",
    "\n",
    "The output represents the multiplication of the attention weights and the `value` vector. This ensures that the words we want to focus on are kept as is and the irrelevant words are flushed out.\n",
    "\n",
    "The dot-product attention is scaled by a factor of square root of the depth. This is done because for large values of depth, the dot product grows large in magnitude pushing the softmax function where it has small gradients resulting in a very hard softmax.\n",
    "\n",
    "For example, consider that `query` and `key` have a mean of 0 and variance of 1. Their matrix multiplication will have a mean of 0 and variance of `dk`. Hence, *square root of `dk`* is used for scaling (and not any other number) because the matmul of `query` and `key` should have a mean of 0 and variance of 1, so that we get a gentler softmax.\n",
    "\n",
    "The mask is multiplied with *-1e9 (close to negative infinity).* This is done because the mask is summed with the scaled matrix multiplication of `query` and `key` and is applied immediately before a softmax. The goal is to zero out these cells, and large negative inputs to softmax are near zero in the output."
   ]
  },
  {
   "cell_type": "code",
   "execution_count": null,
   "metadata": {
    "id": "ENfqAFna_50H"
   },
   "outputs": [],
   "source": [
    "def scaled_dot_product_attention(query, key, value, mask):\n",
    "  \"\"\"Calculate the attention weights. \"\"\"\n",
    "  matmul_qk = tf.matmul(query, key, transpose_b=True)\n",
    "\n",
    "  # scale matmul_qk\n",
    "  depth = tf.cast(tf.shape(key)[-1], tf.float32)\n",
    "  logits = matmul_qk / tf.math.sqrt(depth)\n",
    "\n",
    "  # add the mask to zero out padding tokens\n",
    "  if mask is not None:\n",
    "    logits += (mask * -1e9)\n",
    "\n",
    "  # softmax is normalized on the last axis (seq_len_k)\n",
    "  attention_weights = tf.nn.softmax(logits, axis=-1)\n",
    "\n",
    "  output = tf.matmul(attention_weights, value)\n",
    "\n",
    "  return output"
   ]
  },
  {
   "cell_type": "markdown",
   "metadata": {
    "id": "XwmOB9HvVbyh"
   },
   "source": [
    "### Multi-head attention\n",
    "\n",
    "<img src=\"https://www.tensorflow.org/images/tutorials/transformer/multi_head_attention.png\" width=\"500\" alt=\"multi-head attention\">\n",
    "\n",
    "\n",
    "Multi-head attention consists of four parts:\n",
    "* Linear layers and split into heads.\n",
    "* Scaled dot-product attention.\n",
    "* Concatenation of heads.\n",
    "* Final linear layer.\n",
    "\n",
    "Each multi-head attention block gets three inputs; Q (query), K (key), V (value). These are put through linear (Dense) layers and split up into multiple heads.\n",
    "\n",
    "The `scaled_dot_product_attention` defined above is applied to each head (broadcasted for efficiency). An appropriate mask must be used in the attention step.  The attention output for each head is then concatenated (using `tf.transpose`, and `tf.reshape`) and put through a final `Dense` layer.\n",
    "\n",
    "Instead of one single attention head, `query`, `key`, and `value` are split into multiple heads because it allows the model to jointly attend to information at different positions from different representational spaces. After the split each head has a reduced dimensionality, so the total computation cost is the same as a single head attention with full dimensionality."
   ]
  },
  {
   "cell_type": "code",
   "execution_count": null,
   "metadata": {
    "id": "L9eYssGIAG4h"
   },
   "outputs": [],
   "source": [
    "class MultiHeadAttention(tf.keras.layers.Layer):\n",
    "\n",
    "  def __init__(self, d_model, num_heads, name=\"multi_head_attention\"):\n",
    "    super(MultiHeadAttention, self).__init__(name=name)\n",
    "    self.num_heads = num_heads\n",
    "    self.d_model = d_model\n",
    "\n",
    "    assert d_model % self.num_heads == 0\n",
    "\n",
    "    self.depth = d_model // self.num_heads\n",
    "\n",
    "    self.query_dense = tf.keras.layers.Dense(units=d_model)\n",
    "    self.key_dense = tf.keras.layers.Dense(units=d_model)\n",
    "    self.value_dense = tf.keras.layers.Dense(units=d_model)\n",
    "\n",
    "    self.dense = tf.keras.layers.Dense(units=d_model)\n",
    "\n",
    "  def get_config(self):\n",
    "        config = super(MultiHeadAttention,self).get_config()\n",
    "        config.update({\n",
    "            'num_heads':self.num_heads,\n",
    "            'd_model':self.d_model,\n",
    "        })\n",
    "        return config\n",
    "\n",
    "  def split_heads(self, inputs, batch_size):\n",
    "    inputs = tf.keras.layers.Lambda(lambda inputs:tf.reshape(\n",
    "        inputs, shape=(batch_size, -1, self.num_heads, self.depth)))(inputs)\n",
    "    return tf.keras.layers.Lambda(lambda inputs: tf.transpose(inputs, perm=[0, 2, 1, 3]))(inputs)\n",
    "\n",
    "  def call(self, inputs):\n",
    "    query, key, value, mask = inputs['query'], inputs['key'], inputs[\n",
    "        'value'], inputs['mask']\n",
    "    batch_size = tf.shape(query)[0]\n",
    "\n",
    "    # linear layers\n",
    "    query = self.query_dense(query)\n",
    "    key = self.key_dense(key)\n",
    "    value = self.value_dense(value)\n",
    "\n",
    "    # split heads\n",
    "    query = self.split_heads(query, batch_size)\n",
    "    key = self.split_heads(key, batch_size)\n",
    "    value = self.split_heads(value, batch_size)\n",
    "\n",
    "    # scaled dot-product attention\n",
    "    scaled_attention = scaled_dot_product_attention(query, key, value, mask)\n",
    "    scaled_attention = tf.keras.layers.Lambda(lambda scaled_attention: tf.transpose(\n",
    "        scaled_attention, perm=[0, 2, 1, 3]))(scaled_attention)\n",
    "\n",
    "    # concatenation of heads\n",
    "    concat_attention = tf.keras.layers.Lambda(lambda scaled_attention: tf.reshape(scaled_attention,\n",
    "                                  (batch_size, -1, self.d_model)))(scaled_attention)\n",
    "\n",
    "    # final linear layer\n",
    "    outputs = self.dense(concat_attention)\n",
    "\n",
    "    return outputs"
   ]
  },
  {
   "cell_type": "markdown",
   "metadata": {
    "id": "eDUX7Oa8Xudj"
   },
   "source": [
    "## Transformer"
   ]
  },
  {
   "cell_type": "markdown",
   "metadata": {
    "id": "x5QlgXsxYirg"
   },
   "source": [
    "### Masking\n",
    "\n"
   ]
  },
  {
   "cell_type": "markdown",
   "metadata": {
    "id": "0CX5H8A-Wybj"
   },
   "source": [
    "`create_padding_mask` and `create_look_ahead` are helper functions to creating masks to mask out padded tokens, we are going to use these helper functions as `tf.keras.layers.Lambda` layers.\n",
    "\n",
    "Mask all the pad tokens (value `0`) in the batch to ensure the model does not treat padding as input."
   ]
  },
  {
   "cell_type": "code",
   "execution_count": null,
   "metadata": {
    "id": "imCQ0jrvWhC7"
   },
   "outputs": [],
   "source": [
    "def create_padding_mask(x):\n",
    "  mask = tf.cast(tf.math.equal(x, 0), tf.float32)\n",
    "  # (batch_size, 1, 1, sequence length)\n",
    "  return mask[:, tf.newaxis, tf.newaxis, :]"
   ]
  },
  {
   "cell_type": "code",
   "execution_count": null,
   "metadata": {
    "colab": {
     "base_uri": "https://localhost:8080/"
    },
    "id": "IrwtsqrfWd-3",
    "outputId": "83d3a165-cc51-4e4e-e279-72d0649ae9ec"
   },
   "outputs": [
    {
     "name": "stdout",
     "output_type": "stream",
     "text": [
      "tf.Tensor(\n",
      "[[[[0. 0. 1. 0. 1.]]]\n",
      "\n",
      "\n",
      " [[[1. 1. 1. 0. 0.]]]], shape=(2, 1, 1, 5), dtype=float32)\n"
     ]
    }
   ],
   "source": [
    "print(create_padding_mask(tf.constant([[1, 2, 0, 3, 0], [0, 0, 0, 4, 5]])))"
   ]
  },
  {
   "cell_type": "markdown",
   "metadata": {
    "id": "qJAicy1zW1QT"
   },
   "source": [
    "Look-ahead mask to mask the future tokens in a sequence.\n",
    "We also mask out pad tokens.\n",
    "\n",
    "i.e. To predict the third word, only the first and second word will be used"
   ]
  },
  {
   "cell_type": "code",
   "execution_count": null,
   "metadata": {
    "id": "HSVdD2zKWaXx"
   },
   "outputs": [],
   "source": [
    "def create_look_ahead_mask(x):\n",
    "  seq_len = tf.shape(x)[1]\n",
    "  look_ahead_mask = 1 - tf.linalg.band_part(tf.ones((seq_len, seq_len)), -1, 0)\n",
    "  padding_mask = create_padding_mask(x)\n",
    "  return tf.maximum(look_ahead_mask, padding_mask)"
   ]
  },
  {
   "cell_type": "code",
   "execution_count": null,
   "metadata": {
    "colab": {
     "base_uri": "https://localhost:8080/"
    },
    "id": "xhwz9xzxWcod",
    "outputId": "ec435240-72f3-4a1c-b1e3-34bb8bd91daf"
   },
   "outputs": [
    {
     "name": "stdout",
     "output_type": "stream",
     "text": [
      "tf.Tensor(\n",
      "[[[[0. 1. 1. 1. 1.]\n",
      "   [0. 0. 1. 1. 1.]\n",
      "   [0. 0. 1. 1. 1.]\n",
      "   [0. 0. 1. 0. 1.]\n",
      "   [0. 0. 1. 0. 0.]]]], shape=(1, 1, 5, 5), dtype=float32)\n"
     ]
    }
   ],
   "source": [
    "print(create_look_ahead_mask(tf.constant([[1, 2, 0, 4, 5]])))"
   ]
  },
  {
   "cell_type": "markdown",
   "metadata": {
    "id": "TpR7kz4jFkPJ"
   },
   "source": [
    "### Positional encoding\n",
    "\n",
    "Since this model doesn't contain any recurrence or convolution, positional encoding is added to give the model some information about the relative position of the words in the sentence.\n",
    "\n",
    "The positional encoding vector is added to the embedding vector. Embeddings represent a token in a d-dimensional space where tokens with similar meaning will be closer to each other. But the embeddings do not encode the relative position of words in a sentence. So after adding the positional encoding, words will be closer to each other based on the *similarity of their meaning and their position in the sentence*, in the d-dimensional space.\n",
    "\n",
    "See the notebook on [positional encoding](https://github.com/tensorflow/examples/blob/master/community/en/position_encoding.ipynb) to learn more about it. The formula for calculating the positional encoding is as follows:\n",
    "\n",
    "$$\\Large{PE_{(pos, 2i)} = sin(pos / 10000^{2i / d_{model}})} $$\n",
    "$$\\Large{PE_{(pos, 2i+1)} = cos(pos / 10000^{2i / d_{model}})} $$"
   ]
  },
  {
   "cell_type": "code",
   "execution_count": null,
   "metadata": {
    "id": "-9Oibz2es-qW"
   },
   "outputs": [],
   "source": [
    "class PositionalEncoding(tf.keras.layers.Layer):\n",
    "\n",
    "  def __init__(self, position, d_model):\n",
    "    super(PositionalEncoding, self).__init__()\n",
    "    self.pos_encoding = self.positional_encoding(position, d_model)\n",
    "\n",
    "  def get_config(self):\n",
    "\n",
    "        config = super(PositionalEncoding, self).get_config()\n",
    "        config.update({\n",
    "            'position': self.position,\n",
    "            'd_model': self.d_model,\n",
    "\n",
    "        })\n",
    "        return config\n",
    "\n",
    "  def get_angles(self, position, i, d_model):\n",
    "    angles = 1 / tf.pow(10000, (2 * (i // 2)) / tf.cast(d_model, tf.float32))\n",
    "    return position * angles\n",
    "\n",
    "  def positional_encoding(self, position, d_model):\n",
    "    angle_rads = self.get_angles(\n",
    "        position=tf.range(position, dtype=tf.float32)[:, tf.newaxis],\n",
    "        i=tf.range(d_model, dtype=tf.float32)[tf.newaxis, :],\n",
    "        d_model=d_model)\n",
    "    # apply sin to even index in the array\n",
    "    sines = tf.math.sin(angle_rads[:, 0::2])\n",
    "    # apply cos to odd index in the array\n",
    "    cosines = tf.math.cos(angle_rads[:, 1::2])\n",
    "\n",
    "    pos_encoding = tf.concat([sines, cosines], axis=-1)\n",
    "    pos_encoding = pos_encoding[tf.newaxis, ...]\n",
    "    return tf.cast(pos_encoding, tf.float32)\n",
    "\n",
    "  def call(self, inputs):\n",
    "    return inputs + self.pos_encoding[:, :tf.shape(inputs)[1], :]"
   ]
  },
  {
   "cell_type": "code",
   "execution_count": null,
   "metadata": {
    "colab": {
     "base_uri": "https://localhost:8080/",
     "height": 283
    },
    "id": "UC_fQehi3_Yh",
    "outputId": "31867688-015e-4056-f6e7-0f2394848571"
   },
   "outputs": [
    {
     "data": {
      "image/png": "[encoded data removed]",
      "text/plain": [
       "<Figure size 432x288 with 2 Axes>"
      ]
     },
     "metadata": {},
     "output_type": "display_data"
    }
   ],
   "source": [
    "sample_pos_encoding = PositionalEncoding(50, 512)\n",
    "\n",
    "plt.pcolormesh(sample_pos_encoding.pos_encoding.numpy()[0], cmap='RdBu')\n",
    "plt.xlabel('Depth')\n",
    "plt.xlim((0, 512))\n",
    "plt.ylabel('Position')\n",
    "plt.colorbar()\n",
    "plt.show()"
   ]
  },
  {
   "cell_type": "markdown",
   "metadata": {
    "id": "HVazCemoW2Ye"
   },
   "source": [
    "### Encoder Layer\n",
    "\n",
    "Each encoder layer consists of sublayers:\n",
    "\n",
    "1. Multi-head attention (with padding mask)\n",
    "2. 2 dense layers followed by dropout\n",
    "\n",
    "Each of these sublayers has a residual connection around it followed by a layer normalization. Residual connections help in avoiding the vanishing gradient problem in deep networks.\n",
    "\n",
    "The output of each sublayer is `LayerNorm(x + Sublayer(x))`. The normalization is done on the `d_model` (last) axis."
   ]
  },
  {
   "cell_type": "code",
   "execution_count": null,
   "metadata": {
    "id": "5guJOLJmfcuX"
   },
   "outputs": [],
   "source": [
    "def encoder_layer(units, d_model, num_heads, dropout, name=\"encoder_layer\"):\n",
    "  inputs = tf.keras.Input(shape=(None, d_model), name=\"inputs\")\n",
    "  padding_mask = tf.keras.Input(shape=(1, 1, None), name=\"padding_mask\")\n",
    "\n",
    "  attention = MultiHeadAttention(\n",
    "      d_model, num_heads, name=\"attention\")({\n",
    "          'query': inputs,\n",
    "          'key': inputs,\n",
    "          'value': inputs,\n",
    "          'mask': padding_mask\n",
    "      })\n",
    "  attention = tf.keras.layers.Dropout(rate=dropout)(attention)\n",
    "  add_attention = tf.keras.layers.add([inputs,attention])\n",
    "  attention = tf.keras.layers.LayerNormalization(epsilon=1e-6)(add_attention)\n",
    "\n",
    "  outputs = tf.keras.layers.Dense(units=units, activation='relu')(attention)\n",
    "  outputs = tf.keras.layers.Dense(units=d_model)(outputs)\n",
    "  outputs = tf.keras.layers.Dropout(rate=dropout)(outputs)\n",
    "  add_attention = tf.keras.layers.add([attention,outputs])\n",
    "  outputs = tf.keras.layers.LayerNormalization(epsilon=1e-6)(add_attention)\n",
    "\n",
    "  return tf.keras.Model(\n",
    "      inputs=[inputs, padding_mask], outputs=outputs, name=name)"
   ]
  },
  {
   "cell_type": "code",
   "execution_count": null,
   "metadata": {
    "id": "K16BIGSKfkve"
   },
   "outputs": [],
   "source": [
    "sample_encoder_layer = encoder_layer(\n",
    "    units=512,\n",
    "    d_model=128,\n",
    "    num_heads=4,\n",
    "    dropout=0.3,\n",
    "    name=\"sample_encoder_layer\")\n",
    "\n",
    "# tf.keras.utils.plot_model(\n",
    "#     sample_encoder_layer, to_file='encoder_layer.png', show_shapes=True,\n",
    "#     layer_range=None,\n",
    "#     show_layer_activations=False)\n",
    "\n"
   ]
  },
  {
   "cell_type": "markdown",
   "metadata": {
    "id": "9r8lWGClfi_1"
   },
   "source": [
    "### Encoder\n",
    "\n",
    "The Encoder consists of:\n",
    "1.   Input Embedding\n",
    "2.   Positional Encoding\n",
    "3.   `num_layers` encoder layers\n",
    "\n",
    "The input is put through an embedding which is summed with the positional encoding. The output of this summation is the input to the encoder layers. The output of the encoder is the input to the decoder."
   ]
  },
  {
   "cell_type": "code",
   "execution_count": null,
   "metadata": {
    "id": "LRfugon5Wy-Y"
   },
   "outputs": [],
   "source": [
    "def encoder(vocab_size,\n",
    "            num_layers,\n",
    "            units,\n",
    "            d_model,\n",
    "            num_heads,\n",
    "            dropout,\n",
    "            name=\"encoder\"):\n",
    "  inputs = tf.keras.Input(shape=(None,), name=\"inputs\")\n",
    "  padding_mask = tf.keras.Input(shape=(1, 1, None), name=\"padding_mask\")\n",
    "\n",
    "  embeddings = tf.keras.layers.Embedding(vocab_size, d_model)(inputs)\n",
    "  embeddings *= tf.keras.layers.Lambda(lambda d_model: tf.math.sqrt(tf.cast(d_model, tf.float32)))(d_model)\n",
    "  embeddings = PositionalEncoding(vocab_size,d_model)(embeddings)\n",
    "\n",
    "  outputs = tf.keras.layers.Dropout(rate=dropout)(embeddings)\n",
    "\n",
    "  for i in range(num_layers):\n",
    "    outputs = encoder_layer(\n",
    "        units=units,\n",
    "        d_model=d_model,\n",
    "        num_heads=num_heads,\n",
    "        dropout=dropout,\n",
    "        name=\"encoder_layer_{}\".format(i),\n",
    "    )([outputs, padding_mask])\n",
    "\n",
    "  return tf.keras.Model(\n",
    "      inputs=[inputs, padding_mask], outputs=outputs, name=name)"
   ]
  },
  {
   "cell_type": "code",
   "execution_count": null,
   "metadata": {
    "colab": {
     "base_uri": "https://localhost:8080/",
     "height": 754
    },
    "id": "bNxCnjrvglnx",
    "outputId": "d219fdc7-e19d-44d5-81d0-f333e1424a55"
   },
   "outputs": [
    {
     "data": {
      "image/png": "[encoded data removed]",
      "text/plain": [
       "<IPython.core.display.Image object>"
      ]
     },
     "execution_count": 125,
     "metadata": {},
     "output_type": "execute_result"
    }
   ],
   "source": [
    "sample_encoder = encoder(\n",
    "    vocab_size=6000,\n",
    "    num_layers=2,\n",
    "    units=512,\n",
    "    d_model=128,\n",
    "    num_heads=4,\n",
    "    dropout=0.3,\n",
    "    name=\"sample_encoder\")\n",
    "\n",
    "tf.keras.utils.plot_model(\n",
    "   sample_encoder, to_file='encoder.png', show_shapes=True)"
   ]
  },
  {
   "cell_type": "markdown",
   "metadata": {
    "id": "af66azvgW9P-"
   },
   "source": [
    "### Decoder Layer\n",
    "\n",
    "Each decoder layer consists of sublayers:\n",
    "\n",
    "1.   Masked multi-head attention (with look ahead mask and padding mask)\n",
    "2.   Multi-head attention (with padding mask). `value` and `key` receive the *encoder output* as inputs. `query` receives the *output from the masked multi-head attention sublayer.*\n",
    "3.   2 dense layers followed by dropout\n",
    "\n",
    "Each of these sublayers has a residual connection around it followed by a layer normalization. The output of each sublayer is `LayerNorm(x + Sublayer(x))`. The normalization is done on the `d_model` (last) axis.\n",
    "\n",
    "As `query` receives the output from decoder's first attention block, and `key` receives the encoder output, the attention weights represent the importance given to the decoder's input based on the encoder's output. In other words, the decoder predicts the next word by looking at the encoder output and self-attending to its own output. See the demonstration above in the scaled dot product attention section."
   ]
  },
  {
   "cell_type": "code",
   "execution_count": null,
   "metadata": {
    "id": "6mLvvNMWgDnf"
   },
   "outputs": [],
   "source": [
    "def decoder_layer(units, d_model, num_heads, dropout, name=\"decoder_layer\"):\n",
    "  inputs = tf.keras.Input(shape=(None, d_model), name=\"inputs\")\n",
    "  enc_outputs = tf.keras.Input(shape=(None, d_model), name=\"encoder_outputs\")\n",
    "  look_ahead_mask = tf.keras.Input(\n",
    "      shape=(1, None, None), name=\"look_ahead_mask\")\n",
    "  padding_mask = tf.keras.Input(shape=(1, 1, None), name='padding_mask')\n",
    "\n",
    "  attention1 = MultiHeadAttention(\n",
    "      d_model, num_heads, name=\"attention_1\")(inputs={\n",
    "          'query': inputs,\n",
    "          'key': inputs,\n",
    "          'value': inputs,\n",
    "          'mask': look_ahead_mask\n",
    "      })\n",
    "  add_attention = tf.keras.layers.add([attention1,inputs])\n",
    "  attention1 = tf.keras.layers.LayerNormalization(epsilon=1e-6)(add_attention)\n",
    "\n",
    "  attention2 = MultiHeadAttention(\n",
    "      d_model, num_heads, name=\"attention_2\")(inputs={\n",
    "          'query': attention1,\n",
    "          'key': enc_outputs,\n",
    "          'value': enc_outputs,\n",
    "          'mask': padding_mask\n",
    "      })\n",
    "  attention2 = tf.keras.layers.Dropout(rate=dropout)(attention2)\n",
    "  add_attention = tf.keras.layers.add([attention2,attention1])\n",
    "  attention2 = tf.keras.layers.LayerNormalization(epsilon=1e-6)(add_attention)\n",
    "\n",
    "  outputs = tf.keras.layers.Dense(units=units, activation='relu')(attention2)\n",
    "  outputs = tf.keras.layers.Dense(units=d_model)(outputs)\n",
    "  outputs = tf.keras.layers.Dropout(rate=dropout)(outputs)\n",
    "  add_attention = tf.keras.layers.add([outputs,attention2])\n",
    "  outputs = tf.keras.layers.LayerNormalization(epsilon=1e-6)(add_attention)\n",
    "\n",
    "  return tf.keras.Model(\n",
    "      inputs=[inputs, enc_outputs, look_ahead_mask, padding_mask],\n",
    "      outputs=outputs,\n",
    "      name=name)"
   ]
  },
  {
   "cell_type": "code",
   "execution_count": null,
   "metadata": {
    "id": "8M1NrQ_NgEaM"
   },
   "outputs": [],
   "source": [
    "sample_decoder_layer = decoder_layer(\n",
    "    units=512,\n",
    "    d_model=128,\n",
    "    num_heads=4,\n",
    "    dropout=0.3,\n",
    "    name=\"sample_decoder_layer\")\n",
    "\n",
    "# tf.keras.utils.plot_model(\n",
    "#     sample_decoder_layer, to_file='decoder_layer.png', show_shapes=True)"
   ]
  },
  {
   "cell_type": "markdown",
   "metadata": {
    "id": "NPSKnjS-gE_q"
   },
   "source": [
    "### Decoder\n",
    "\n",
    "The Decoder consists of:\n",
    "1.   Output Embedding\n",
    "2.   Positional Encoding\n",
    "3.   N decoder layers\n",
    "\n",
    "The target is put through an embedding which is summed with the positional encoding. The output of this summation is the input to the decoder layers. The output of the decoder is the input to the final linear layer."
   ]
  },
  {
   "cell_type": "code",
   "execution_count": null,
   "metadata": {
    "id": "dYRx7YzCW4bu"
   },
   "outputs": [],
   "source": [
    "def decoder(vocab_size,\n",
    "            num_layers,\n",
    "            units,\n",
    "            d_model,\n",
    "            num_heads,\n",
    "            dropout,\n",
    "            name='decoder'):\n",
    "  inputs = tf.keras.Input(shape=(None,), name='inputs')\n",
    "  enc_outputs = tf.keras.Input(shape=(None, d_model), name='encoder_outputs')\n",
    "  look_ahead_mask = tf.keras.Input(\n",
    "      shape=(1, None, None), name='look_ahead_mask')\n",
    "  padding_mask = tf.keras.Input(shape=(1, 1, None), name='padding_mask')\n",
    "\n",
    "  embeddings = tf.keras.layers.Embedding(vocab_size, d_model)(inputs)\n",
    "  embeddings *= tf.keras.layers.Lambda(lambda d_model: tf.math.sqrt(tf.cast(d_model, tf.float32)))(d_model)\n",
    "  embeddings = PositionalEncoding(vocab_size, d_model)(embeddings)\n",
    "\n",
    "  outputs = tf.keras.layers.Dropout(rate=dropout)(embeddings)\n",
    "\n",
    "  for i in range(num_layers):\n",
    "    outputs = decoder_layer(\n",
    "        units=units,\n",
    "        d_model=d_model,\n",
    "        num_heads=num_heads,\n",
    "        dropout=dropout,\n",
    "        name='decoder_layer_{}'.format(i),\n",
    "    )(inputs=[outputs, enc_outputs, look_ahead_mask, padding_mask])\n",
    "\n",
    "  return tf.keras.Model(\n",
    "      inputs=[inputs, enc_outputs, look_ahead_mask, padding_mask],\n",
    "      outputs=outputs,\n",
    "      name=name)"
   ]
  },
  {
   "cell_type": "code",
   "execution_count": null,
   "metadata": {
    "colab": {
     "base_uri": "https://localhost:8080/",
     "height": 720
    },
    "id": "tUdK8jb9hlTZ",
    "outputId": "f71930f9-0623-4426-dbf9-4a19d6e07823"
   },
   "outputs": [
    {
     "data": {
      "image/png": "[encoded data removed]",
      "text/plain": [
       "<IPython.core.display.Image object>"
      ]
     },
     "execution_count": 129,
     "metadata": {},
     "output_type": "execute_result"
    }
   ],
   "source": [
    "sample_decoder = decoder(\n",
    "    vocab_size=8192,\n",
    "    num_layers=2,\n",
    "    units=512,\n",
    "    d_model=128,\n",
    "    num_heads=4,\n",
    "    dropout=0.3,\n",
    "    name=\"sample_decoder\")\n",
    "\n",
    "tf.keras.utils.plot_model(\n",
    "    sample_decoder, to_file='decoder.png', show_shapes=True)"
   ]
  },
  {
   "cell_type": "markdown",
   "metadata": {
    "id": "yl0o97RJXAqw"
   },
   "source": [
    "### Transformer\n",
    "\n",
    "Transformer consists of the encoder, decoder and a final linear layer. The output of the decoder is the input to the linear layer and its output is returned."
   ]
  },
  {
   "cell_type": "code",
   "execution_count": null,
   "metadata": {
    "id": "TW-v7Fz6XAfC"
   },
   "outputs": [],
   "source": [
    "def transformer(vocab_size,\n",
    "                num_layers,\n",
    "                units,\n",
    "                d_model,\n",
    "                num_heads,\n",
    "                dropout,\n",
    "                name=\"transformer\"):\n",
    "  inputs = tf.keras.Input(shape=(None,), name=\"inputs\")\n",
    "  dec_inputs = tf.keras.Input(shape=(None,), name=\"dec_inputs\")\n",
    "\n",
    "  enc_padding_mask = tf.keras.layers.Lambda(\n",
    "      create_padding_mask, output_shape=(1, 1, None),\n",
    "      name='enc_padding_mask')(inputs)\n",
    "  # mask the future tokens for decoder inputs at the 1st attention block\n",
    "  look_ahead_mask = tf.keras.layers.Lambda(\n",
    "      create_look_ahead_mask,\n",
    "      output_shape=(1, None, None),\n",
    "      name='look_ahead_mask')(dec_inputs)\n",
    "  # mask the encoder outputs for the 2nd attention block\n",
    "  dec_padding_mask = tf.keras.layers.Lambda(\n",
    "      create_padding_mask, output_shape=(1, 1, None),\n",
    "      name='dec_padding_mask')(inputs)\n",
    "\n",
    "  enc_outputs = encoder(\n",
    "      vocab_size=vocab_size,\n",
    "      num_layers=num_layers,\n",
    "      units=units,\n",
    "      d_model=d_model,\n",
    "      num_heads=num_heads,\n",
    "      dropout=dropout,\n",
    "  )(inputs=[inputs, enc_padding_mask])\n",
    "\n",
    "  dec_outputs = decoder(\n",
    "      vocab_size=vocab_size,\n",
    "      num_layers=num_layers,\n",
    "      units=units,\n",
    "      d_model=d_model,\n",
    "      num_heads=num_heads,\n",
    "      dropout=dropout,\n",
    "  )(inputs=[dec_inputs, enc_outputs, look_ahead_mask, dec_padding_mask])\n",
    "\n",
    "  outputs = tf.keras.layers.Dense(units=vocab_size, name=\"outputs\")(dec_outputs)\n",
    "\n",
    "  return tf.keras.Model(inputs=[inputs, dec_inputs], outputs=outputs, name=name)"
   ]
  },
  {
   "cell_type": "code",
   "execution_count": null,
   "metadata": {
    "colab": {
     "base_uri": "https://localhost:8080/",
     "height": 533
    },
    "id": "aihJLVq_iJ_T",
    "outputId": "d044d614-2b4e-449d-f315-4999c903467f"
   },
   "outputs": [
    {
     "data": {
      "image/png": "[encoded data removed]",
      "text/plain": [
       "<IPython.core.display.Image object>"
      ]
     },
     "execution_count": 131,
     "metadata": {},
     "output_type": "execute_result"
    }
   ],
   "source": [
    "sample_transformer = transformer(\n",
    "    vocab_size=8192,\n",
    "    num_layers=4,\n",
    "    units=512,\n",
    "    d_model=128,\n",
    "    num_heads=4,\n",
    "    dropout=0.3,\n",
    "    name=\"sample_transformer\")\n",
    "\n",
    "tf.keras.utils.plot_model(\n",
    "    sample_transformer, to_file='transformer.png', show_shapes=True)"
   ]
  },
  {
   "cell_type": "markdown",
   "metadata": {
    "id": "9HD7GK-nh_KT"
   },
   "source": [
    "## Train model"
   ]
  },
  {
   "cell_type": "markdown",
   "metadata": {
    "id": "0_GCb0LaV1tI"
   },
   "source": [
    "### Loss function\n",
    "\n",
    "Since the target sequences are padded, it is important to apply a padding mask when calculating the loss."
   ]
  },
  {
   "cell_type": "code",
   "execution_count": null,
   "metadata": {
    "id": "UInVM9iGAMv1"
   },
   "outputs": [],
   "source": [
    "def loss_function(y_true, y_pred):\n",
    "  y_true = tf.reshape(y_true, shape=(-1, MAX_LENGTH - 1))\n",
    "\n",
    "  loss = tf.keras.losses.SparseCategoricalCrossentropy(\n",
    "      from_logits=True, reduction='none')(y_true, y_pred)\n",
    "\n",
    "  mask = tf.cast(tf.not_equal(y_true, 0), tf.float32)\n",
    "  loss = tf.multiply(loss, mask)\n",
    "\n",
    "  return tf.reduce_mean(loss)"
   ]
  },
  {
   "cell_type": "markdown",
   "metadata": {
    "id": "XvFM9ajSVybP"
   },
   "source": [
    "### Custom learning rate\n",
    "\n",
    "Use the Adam optimizer with a custom learning rate scheduler according to the formula in the [paper](https://arxiv.org/abs/1706.03762).\n",
    "\n",
    "$$\\Large{lrate = d_{model}^{-0.5} * min(step{\\_}num^{-0.5}, step{\\_}num * warmup{\\_}steps^{-1.5})}$$"
   ]
  },
  {
   "cell_type": "code",
   "execution_count": null,
   "metadata": {
    "id": "WW3SeLDhAMJd"
   },
   "outputs": [],
   "source": [
    "class CustomSchedule(tf.keras.optimizers.schedules.LearningRateSchedule):\n",
    "\n",
    "  def __init__(self, d_model, warmup_steps=4000):\n",
    "    super(CustomSchedule, self).__init__()\n",
    "\n",
    "    self.d_model = tf.constant(d_model,dtype=tf.float32)\n",
    "    self.warmup_steps = warmup_steps\n",
    "\n",
    "  def get_config(self):\n",
    "        return {\"d_model\": self.d_model,\"warmup_steps\":self.warmup_steps}\n",
    "\n",
    "  def __call__(self, step):\n",
    "    # arg1 = tf.math.rsqrt(step)\n",
    "    # arg2 = step * (self.warmup_steps**-1.5)\n",
    "    arg1 = tf.math.rsqrt(tf.cast(step, tf.float32))\n",
    "    arg2 = tf.cast(step, tf.float32) * (self.warmup_steps ** -1.5)\n",
    "\n",
    "    # return tf.math.multiply(tf.math.rsqrt(self.d_model), tf.math.minimum(arg1, arg2))\n",
    "    return tf.math.multiply(tf.math.rsqrt(self.d_model), tf.math.minimum(arg1, arg2))"
   ]
  },
  {
   "cell_type": "code",
   "execution_count": null,
   "metadata": {
    "colab": {
     "base_uri": "https://localhost:8080/",
     "height": 296
    },
    "id": "67BoG_UeaHHw",
    "outputId": "077fe84f-86cc-49f1-fe69-71407f6123a9"
   },
   "outputs": [
    {
     "data": {
      "text/plain": [
       "Text(0.5, 0, 'Train Step')"
      ]
     },
     "execution_count": 134,
     "metadata": {},
     "output_type": "execute_result"
    },
    {
     "data": {
      "image/png": "[encoded data removed]",
      "text/plain": [
       "<Figure size 432x288 with 1 Axes>"
      ]
     },
     "metadata": {},
     "output_type": "display_data"
    }
   ],
   "source": [
    "sample_learning_rate = CustomSchedule(d_model=128)\n",
    "\n",
    "plt.plot(sample_learning_rate(tf.range(200000, dtype=tf.float32)))\n",
    "plt.ylabel(\"Learning Rate\")\n",
    "plt.xlabel(\"Train Step\")"
   ]
  },
  {
   "cell_type": "markdown",
   "metadata": {
    "id": "cCqve3kwWCxd"
   },
   "source": [
    "### Initialize and compile model\n",
    "\n",
    "Initialize and compile model with our predefined custom learning rate and Adam optimizer under the strategy scope."
   ]
  },
  {
   "cell_type": "code",
   "execution_count": null,
   "metadata": {
    "colab": {
     "base_uri": "https://localhost:8080/"
    },
    "id": "1QqojIa5WEQq",
    "outputId": "f54fd793-7857-43d3-d187-954f6617ed90"
   },
   "outputs": [
    {
     "name": "stdout",
     "output_type": "stream",
     "text": [
      "Model: \"transformer\"\n",
      "__________________________________________________________________________________________________\n",
      " Layer (type)                   Output Shape         Param #     Connected to                     \n",
      "==================================================================================================\n",
      " inputs (InputLayer)            [(None, None)]       0           []                               \n",
      "                                                                                                  \n",
      " dec_inputs (InputLayer)        [(None, None)]       0           []                               \n",
      "                                                                                                  \n",
      " enc_padding_mask (Lambda)      (None, 1, 1, None)   0           ['inputs[0][0]']                 \n",
      "                                                                                                  \n",
      " encoder (Functional)           (None, None, 512)    12201472    ['inputs[0][0]',                 \n",
      "                                                                  'enc_padding_mask[0][0]']       \n",
      "                                                                                                  \n",
      " look_ahead_mask (Lambda)       (None, 1, None, Non  0           ['dec_inputs[0][0]']             \n",
      "                                e)                                                                \n",
      "                                                                                                  \n",
      " dec_padding_mask (Lambda)      (None, 1, 1, None)   0           ['inputs[0][0]']                 \n",
      "                                                                                                  \n",
      " decoder (Functional)           (None, None, 512)    14304768    ['dec_inputs[0][0]',             \n",
      "                                                                  'encoder[0][0]',                \n",
      "                                                                  'look_ahead_mask[0][0]',        \n",
      "                                                                  'dec_padding_mask[0][0]']       \n",
      "                                                                                                  \n",
      " outputs (Dense)                (None, None, 17667)  9063171     ['decoder[0][0]']                \n",
      "                                                                                                  \n",
      "==================================================================================================\n",
      "Total params: 35,569,411\n",
      "Trainable params: 35,569,411\n",
      "Non-trainable params: 0\n",
      "__________________________________________________________________________________________________\n"
     ]
    }
   ],
   "source": [
    "# clear backend\n",
    "tf.keras.backend.clear_session()\n",
    "\n",
    "learning_rate = CustomSchedule(D_MODEL)\n",
    "\n",
    "optimizer = tf.keras.optimizers.Adam(\n",
    "    learning_rate, beta_1=0.9, beta_2=0.98, epsilon=1e-9)\n",
    "\n",
    "def accuracy(y_true, y_pred):\n",
    "  # ensure labels have shape (batch_size, MAX_LENGTH - 1)\n",
    "  y_true = tf.reshape(y_true, shape=(-1, MAX_LENGTH - 1))\n",
    "  return tf.keras.metrics.sparse_categorical_accuracy(y_true, y_pred)\n",
    "\n",
    "# initialize and compile model within strategy scope\n",
    "with strategy.scope():\n",
    "  model = transformer(\n",
    "      vocab_size=VOCAB_SIZE,\n",
    "      num_layers=NUM_LAYERS,\n",
    "      units=UNITS,\n",
    "      d_model=D_MODEL,\n",
    "      num_heads=NUM_HEADS,\n",
    "      dropout=DROPOUT)\n",
    "\n",
    "  model.compile(optimizer=optimizer, loss=loss_function, metrics=[accuracy])\n",
    "\n",
    "model.summary()"
   ]
  },
  {
   "cell_type": "markdown",
   "metadata": {
    "id": "vDMd69urLNuc"
   },
   "source": [
    "### Fit model\n",
    "\n",
    "Train our transformer by simply calling `model.fit()`"
   ]
  },
  {
   "cell_type": "code",
   "execution_count": null,
   "metadata": {
    "colab": {
     "background_save": true
    },
    "id": "EjEe4T_69796"
   },
   "outputs": [],
   "source": [
    "start_time = time()"
   ]
  },
  {
   "cell_type": "code",
   "execution_count": null,
   "metadata": {
    "colab": {
     "background_save": true,
     "base_uri": "https://localhost:8080/"
    },
    "id": "d7iahRzlLNG2",
    "outputId": "ccf6d0c7-a55d-4add-d8df-d7bda2d3503b"
   },
   "outputs": [
    {
     "name": "stdout",
     "output_type": "stream",
     "text": [
      "Epoch 1/40\n",
      "445/445 [==============================] - 67s 151ms/step - loss: 0.7826 - accuracy: 0.0731 - val_loss: 0.6053 - val_accuracy: 0.0754\n",
      "Epoch 2/40\n",
      "445/445 [==============================] - 36s 81ms/step - loss: 0.6936 - accuracy: 0.0777 - val_loss: 0.5469 - val_accuracy: 0.0795\n",
      "Epoch 3/40\n",
      "445/445 [==============================] - 38s 85ms/step - loss: 0.6233 - accuracy: 0.0826 - val_loss: 0.5005 - val_accuracy: 0.0810\n",
      "Epoch 4/40\n",
      "445/445 [==============================] - 38s 86ms/step - loss: 0.5600 - accuracy: 0.0881 - val_loss: 0.4589 - val_accuracy: 0.0853\n",
      "Epoch 5/40\n",
      "445/445 [==============================] - 36s 81ms/step - loss: 0.4998 - accuracy: 0.0940 - val_loss: 0.4134 - val_accuracy: 0.0917\n",
      "Epoch 6/40\n",
      "445/445 [==============================] - 36s 81ms/step - loss: 0.4415 - accuracy: 0.1011 - val_loss: 0.3625 - val_accuracy: 0.0971\n",
      "Epoch 7/40\n",
      "445/445 [==============================] - 38s 86ms/step - loss: 0.3901 - accuracy: 0.1078 - val_loss: 0.3269 - val_accuracy: 0.1005\n",
      "Epoch 8/40\n",
      "445/445 [==============================] - 37s 84ms/step - loss: 0.3442 - accuracy: 0.1141 - val_loss: 0.3018 - val_accuracy: 0.1044\n",
      "Epoch 9/40\n",
      "445/445 [==============================] - 39s 87ms/step - loss: 0.2986 - accuracy: 0.1210 - val_loss: 0.2512 - val_accuracy: 0.1096\n",
      "Epoch 10/40\n",
      "445/445 [==============================] - 39s 88ms/step - loss: 0.2556 - accuracy: 0.1277 - val_loss: 0.2204 - val_accuracy: 0.1159\n",
      "Epoch 11/40\n",
      "445/445 [==============================] - 38s 86ms/step - loss: 0.2200 - accuracy: 0.1337 - val_loss: 0.1819 - val_accuracy: 0.1218\n",
      "Epoch 12/40\n",
      "445/445 [==============================] - 39s 87ms/step - loss: 0.1921 - accuracy: 0.1386 - val_loss: 0.1612 - val_accuracy: 0.1263\n",
      "Epoch 13/40\n",
      "445/445 [==============================] - 40s 91ms/step - loss: 0.1691 - accuracy: 0.1433 - val_loss: 0.1472 - val_accuracy: 0.1265\n",
      "Epoch 14/40\n",
      "445/445 [==============================] - 39s 88ms/step - loss: 0.1501 - accuracy: 0.1467 - val_loss: 0.1265 - val_accuracy: 0.1307\n",
      "Epoch 15/40\n",
      "445/445 [==============================] - 38s 85ms/step - loss: 0.1345 - accuracy: 0.1498 - val_loss: 0.1043 - val_accuracy: 0.1359\n",
      "Epoch 16/40\n",
      "445/445 [==============================] - 39s 88ms/step - loss: 0.1219 - accuracy: 0.1523 - val_loss: 0.0911 - val_accuracy: 0.1387\n",
      "Epoch 17/40\n",
      "445/445 [==============================] - 38s 86ms/step - loss: 0.1121 - accuracy: 0.1540 - val_loss: 0.0875 - val_accuracy: 0.1393\n",
      "Epoch 18/40\n",
      "445/445 [==============================] - 36s 80ms/step - loss: 0.1022 - accuracy: 0.1562 - val_loss: 0.0799 - val_accuracy: 0.1408\n",
      "Epoch 19/40\n",
      "445/445 [==============================] - 36s 82ms/step - loss: 0.0934 - accuracy: 0.1583 - val_loss: 0.0703 - val_accuracy: 0.1430\n",
      "Epoch 20/40\n",
      "445/445 [==============================] - 38s 85ms/step - loss: 0.0878 - accuracy: 0.1592 - val_loss: 0.0642 - val_accuracy: 0.1444\n",
      "Epoch 21/40\n",
      "445/445 [==============================] - 40s 89ms/step - loss: 0.0802 - accuracy: 0.1609 - val_loss: 0.0590 - val_accuracy: 0.1453\n",
      "Epoch 22/40\n",
      "445/445 [==============================] - 39s 87ms/step - loss: 0.0763 - accuracy: 0.1617 - val_loss: 0.0603 - val_accuracy: 0.1452\n",
      "Epoch 23/40\n",
      "445/445 [==============================] - 40s 89ms/step - loss: 0.0725 - accuracy: 0.1625 - val_loss: 0.0533 - val_accuracy: 0.1471\n",
      "Epoch 24/40\n",
      "445/445 [==============================] - 40s 89ms/step - loss: 0.0673 - accuracy: 0.1637 - val_loss: 0.0505 - val_accuracy: 0.1478\n",
      "Epoch 25/40\n",
      "445/445 [==============================] - 40s 89ms/step - loss: 0.0657 - accuracy: 0.1640 - val_loss: 0.0504 - val_accuracy: 0.1474\n",
      "Epoch 26/40\n",
      "445/445 [==============================] - 41s 91ms/step - loss: 0.0619 - accuracy: 0.1649 - val_loss: 0.0461 - val_accuracy: 0.1487\n",
      "Epoch 27/40\n",
      "445/445 [==============================] - 42s 94ms/step - loss: 0.0596 - accuracy: 0.1656 - val_loss: 0.0408 - val_accuracy: 0.1501\n",
      "Epoch 28/40\n",
      "445/445 [==============================] - 42s 94ms/step - loss: 0.0570 - accuracy: 0.1662 - val_loss: 0.0430 - val_accuracy: 0.1497\n",
      "Epoch 29/40\n",
      "445/445 [==============================] - 42s 94ms/step - loss: 0.0548 - accuracy: 0.1666 - val_loss: 0.0372 - val_accuracy: 0.1511\n",
      "Epoch 30/40\n",
      "445/445 [==============================] - 39s 89ms/step - loss: 0.0529 - accuracy: 0.1670 - val_loss: 0.0362 - val_accuracy: 0.1517\n",
      "Epoch 31/40\n",
      "445/445 [==============================] - 39s 87ms/step - loss: 0.0507 - accuracy: 0.1675 - val_loss: 0.0344 - val_accuracy: 0.1522\n",
      "Epoch 32/40\n",
      "445/445 [==============================] - 41s 93ms/step - loss: 0.0492 - accuracy: 0.1679 - val_loss: 0.0327 - val_accuracy: 0.1528\n",
      "Epoch 33/40\n",
      "445/445 [==============================] - 40s 90ms/step - loss: 0.0477 - accuracy: 0.1684 - val_loss: 0.0303 - val_accuracy: 0.1532\n",
      "Epoch 34/40\n",
      "445/445 [==============================] - 41s 93ms/step - loss: 0.0472 - accuracy: 0.1685 - val_loss: 0.0305 - val_accuracy: 0.1533\n",
      "Epoch 35/40\n",
      "445/445 [==============================] - 42s 94ms/step - loss: 0.0443 - accuracy: 0.1690 - val_loss: 0.0289 - val_accuracy: 0.1532\n",
      "Epoch 36/40\n",
      "445/445 [==============================] - 43s 98ms/step - loss: 0.0444 - accuracy: 0.1690 - val_loss: 0.0291 - val_accuracy: 0.1535\n",
      "Epoch 37/40\n",
      "445/445 [==============================] - 43s 97ms/step - loss: 0.0432 - accuracy: 0.1693 - val_loss: 0.0260 - val_accuracy: 0.1544\n",
      "Epoch 38/40\n",
      "445/445 [==============================] - 43s 96ms/step - loss: 0.0418 - accuracy: 0.1698 - val_loss: 0.0272 - val_accuracy: 0.1537\n",
      "Epoch 39/40\n",
      "445/445 [==============================] - 41s 92ms/step - loss: 0.0411 - accuracy: 0.1700 - val_loss: 0.0259 - val_accuracy: 0.1539\n",
      "Epoch 40/40\n",
      "445/445 [==============================] - 44s 99ms/step - loss: 0.0402 - accuracy: 0.1702 - val_loss: 0.0228 - val_accuracy: 0.1549\n"
     ]
    }
   ],
   "source": [
    "history = model.fit(train_dataset, validation_data= test_dataset, epochs=EPOCHS )"
   ]
  },
  {
   "cell_type": "code",
   "execution_count": null,
   "metadata": {
    "colab": {
     "background_save": true
    },
    "id": "D8rOH-n1-Igj"
   },
   "outputs": [],
   "source": [
    "training_time = time() - start_time"
   ]
  },
  {
   "cell_type": "markdown",
   "metadata": {
    "id": "PbjzOccLzFDm"
   },
   "source": [
    "## Generalization Curve"
   ]
  },
  {
   "cell_type": "code",
   "execution_count": null,
   "metadata": {
    "colab": {
     "background_save": true
    },
    "id": "MTaKmJ0f4rGn"
   },
   "outputs": [],
   "source": [
    "y= 0.15\n",
    "r= .02"
   ]
  },
  {
   "cell_type": "code",
   "execution_count": null,
   "metadata": {
    "colab": {
     "background_save": true
    },
    "id": "bmWN1M8m7G2T"
   },
   "outputs": [],
   "source": [
    "params_print = [\"ACCURACY :\"+ str(history.history['accuracy'][-1]),\n",
    "                \"VAL_ACCURACY :\"+ str(history.history['val_accuracy'][-1]),\n",
    "                \"------ TRANSFORMER---------- :\",\n",
    "                \"UNITS :\"+ str(UNITS),\n",
    "                \"LAYERS :\"+ str(NUM_LAYERS),\n",
    "                \"DROPOUT :\"+ str(DROPOUT),\n",
    "                \"D_MODEL :\"+ str(D_MODEL),\n",
    "                \"NUM_HEADS :\"+ str(NUM_HEADS),\n",
    "                \"------ DATASET---------- :\",\n",
    "                \"BATCH_SIZE :\"+ str(BATCH_SIZE),\n",
    "                \"TRAINING_RATIO :\"+ str(TRAINING_RATIO),\n",
    "                \"BUFFER_SIZE :\"+ str(BUFFER_SIZE),\n",
    "                \"------ TRAINING---------- :\",\n",
    "                \"EPOCHS:\"+ str(EPOCHS),\n",
    "                \"TIME:\"+ str(format(training_time,\".3f\")),\n",
    "                \"TIME:\"+ str(training_time//60)+\" m\"+ str(training_time%60)+\" s\",\n",
    "                \"REPLICAS:\"+ str(strategy.num_replicas_in_sync)\n",
    "                ]\n"
   ]
  },
  {
   "cell_type": "code",
   "execution_count": null,
   "metadata": {
    "colab": {
     "background_save": true
    },
    "id": "QOpwg7q08vdV",
    "outputId": "085bd167-4264-4c08-9977-c99148b16685"
   },
   "outputs": [
    {
     "data": {
      "image/png": "[encoded data removed]",
      "text/plain": [
       "<Figure size 432x288 with 1 Axes>"
      ]
     },
     "metadata": {},
     "output_type": "display_data"
    },
    {
     "data": {
      "application/javascript": [
       "\n",
       "    async function download(id, filename, size) {\n",
       "      if (!google.colab.kernel.accessAllowed) {\n",
       "        return;\n",
       "      }\n",
       "      const div = document.createElement('div');\n",
       "      const label = document.createElement('label');\n",
       "      label.textContent = `Downloading \"${filename}\": `;\n",
       "      div.appendChild(label);\n",
       "      const progress = document.createElement('progress');\n",
       "      progress.max = size;\n",
       "      div.appendChild(progress);\n",
       "      document.body.appendChild(div);\n",
       "\n",
       "      const buffers = [];\n",
       "      let downloaded = 0;\n",
       "\n",
       "      const channel = await google.colab.kernel.comms.open(id);\n",
       "      // Send a message to notify the kernel that we're ready.\n",
       "      channel.send({})\n",
       "\n",
       "      for await (const message of channel.messages) {\n",
       "        // Send a message to notify the kernel that we're ready.\n",
       "        channel.send({})\n",
       "        if (message.buffers) {\n",
       "          for (const buffer of message.buffers) {\n",
       "            buffers.push(buffer);\n",
       "            downloaded += buffer.byteLength;\n",
       "            progress.value = downloaded;\n",
       "          }\n",
       "        }\n",
       "      }\n",
       "      const blob = new Blob(buffers, {type: 'application/binary'});\n",
       "      const a = document.createElement('a');\n",
       "      a.href = window.URL.createObjectURL(blob);\n",
       "      a.download = filename;\n",
       "      div.appendChild(a);\n",
       "      a.click();\n",
       "      div.remove();\n",
       "    }\n",
       "  "
      ],
      "text/plain": [
       "<IPython.core.display.Javascript object>"
      ]
     },
     "metadata": {},
     "output_type": "display_data"
    },
    {
     "data": {
      "application/javascript": [
       "download(\"download_29733aab-344b-4d88-b9c7-0e23480f6eed\", \"graph.png\", 40960)"
      ],
      "text/plain": [
       "<IPython.core.display.Javascript object>"
      ]
     },
     "metadata": {},
     "output_type": "display_data"
    },
    {
     "data": {
      "text/plain": [
       "<Figure size 432x288 with 0 Axes>"
      ]
     },
     "metadata": {},
     "output_type": "display_data"
    }
   ],
   "source": [
    "i = 0\n",
    "for x in params_print:\n",
    "  plt.text(43, y - r*i , x , fontsize=14 , horizontalalignment='left',verticalalignment='bottom')\n",
    "  i += 1\n",
    "# set other hyperparams also\n",
    "plt.legend(['train', 'test'], loc='upper left')\n",
    "plt.plot(history.history['accuracy'])\n",
    "plt.plot(history.history['val_accuracy'])\n",
    "plt.title('model accuracy')\n",
    "plt.ylabel('accuracy')\n",
    "plt.xlabel('epoch')\n",
    "\n",
    "fig1 = plt.gcf()\n",
    "# fig1.savefig('graph.png', dpi=100)\n",
    "plt.savefig( \"graph\" + '.png', bbox_inches='tight')\n",
    "\n",
    "plt.show()\n",
    "plt.draw()\n",
    "\n",
    "from google.colab import files\n",
    "files.download(\"graph.png\")"
   ]
  },
  {
   "cell_type": "markdown",
   "metadata": {
    "id": "FMtibfDVl7aQ"
   },
   "source": [
    "## Save Model\n"
   ]
  },
  {
   "cell_type": "code",
   "execution_count": null,
   "metadata": {
    "colab": {
     "background_save": true
    },
    "id": "CKNXEtODDtCh"
   },
   "outputs": [],
   "source": [
    "filename = 'weights.h5'\n",
    "model.save_weights(filename)"
   ]
  },
  {
   "cell_type": "markdown",
   "metadata": {
    "id": "HLYwwI1pEKLK"
   },
   "source": [
    "## Load Model"
   ]
  },
  {
   "cell_type": "code",
   "execution_count": null,
   "metadata": {
    "colab": {
     "background_save": true
    },
    "id": "6-BnViJAEJIZ"
   },
   "outputs": [],
   "source": [
    "new_model = transformer(\n",
    "      vocab_size=VOCAB_SIZE,\n",
    "      num_layers=NUM_LAYERS,\n",
    "      units=UNITS,\n",
    "      d_model=D_MODEL,\n",
    "      num_heads=NUM_HEADS,\n",
    "      dropout=DROPOUT)\n",
    "new_model.load_weights(filename)"
   ]
  },
  {
   "cell_type": "markdown",
   "metadata": {
    "id": "gimeirktSYXb"
   },
   "source": [
    "## Work with saved data"
   ]
  },
  {
   "cell_type": "markdown",
   "metadata": {
    "id": "p1DUXog6WqV-"
   },
   "source": [
    "## Evaluate and predict\n",
    "\n",
    "The following steps are used for evaluation:\n",
    "\n",
    "* Apply the same preprocessing method we used to create our dataset for the input sentence.\n",
    "* Tokenize the input sentence and add `START_TOKEN` and `END_TOKEN`.\n",
    "* Calculate the padding masks and the look ahead masks.\n",
    "* The decoder then outputs the predictions by looking at the encoder output and its own output.\n",
    "* Select the last word and calculate the argmax of that.\n",
    "* Concatentate the predicted word to the decoder input as pass it to the decoder.\n",
    "* In this approach, the decoder predicts the next word based on the previous words it predicted.\n",
    "\n",
    "Note: The model used here has less capacity and trained on a subset of the full dataset, hence its performance can be further improved."
   ]
  },
  {
   "cell_type": "code",
   "execution_count": null,
   "metadata": {
    "colab": {
     "background_save": true
    },
    "id": "AxRu4N8QTZtT"
   },
   "outputs": [],
   "source": [
    "def evaluate(sentence):\n",
    "  # sentence = preprocess_sentence(sentence)\n",
    "  sentence = sinhala_pre.preprocess_sentence(sentence)\n",
    "\n",
    "  sentence = tf.expand_dims(\n",
    "      START_TOKEN + tokenizer.encode(sentence) + END_TOKEN, axis=0)\n",
    "\n",
    "  output = tf.expand_dims(START_TOKEN, 0)\n",
    "\n",
    "  for i in range(MAX_LENGTH):\n",
    "    predictions = model(inputs=[sentence, output], training=False)\n",
    "\n",
    "    # select the last word from the seq_len dimension\n",
    "    predictions = predictions[:, -1:, :]\n",
    "    predicted_id = tf.cast(tf.argmax(predictions, axis=-1), tf.int32)\n",
    "\n",
    "    # return the result if the predicted_id is equal to the end token\n",
    "    if tf.equal(predicted_id, END_TOKEN[0]):\n",
    "      break\n",
    "\n",
    "    # concatenated the predicted_id to the output which is given to the decoder\n",
    "    # as its input.\n",
    "    output = tf.concat([output, predicted_id], axis=-1)\n",
    "\n",
    "  return tf.squeeze(output, axis=0)\n",
    "\n",
    "\n",
    "def predict(sentence):\n",
    "  # word_index = []\n",
    "  prediction = evaluate(sentence).numpy()\n",
    "  # print(prediction)\n",
    "  # print(type(prediction))\n",
    "  # predicted_sentence = ''\n",
    "  predicted_sentence = tokenizer.decode(\n",
    "       [i for i in prediction if i < tokenizer.vocab_size])\n",
    "\n",
    "  print('Input: {}'.format(sentence))\n",
    "  print('Indexes: {}'.format(prediction))\n",
    "  print('Output: {}'.format(predicted_sentence))\n",
    "\n",
    "  return predicted_sentence"
   ]
  },
  {
   "cell_type": "markdown",
   "metadata": {
    "id": "9J3Jdtk2P-RT"
   },
   "source": [
    "Let's test our model!"
   ]
  },
  {
   "cell_type": "markdown",
   "metadata": {
    "id": "6nUZxUdWo46b"
   },
   "source": [
    "## Get Prediction"
   ]
  },
  {
   "cell_type": "code",
   "execution_count": null,
   "metadata": {
    "colab": {
     "background_save": true
    },
    "id": "TOSV0ut1rS9i",
    "outputId": "76fb367f-9d9f-4ffa-80ff-906430b18192"
   },
   "outputs": [
    {
     "name": "stdout",
     "output_type": "stream",
     "text": [
      "Input: රටේ දැන් තත්වය ගැන ඔයාය මොකද හිතෙන්නෙ?\n",
      "Indexes: [17665  1035  3113   235   762  1677 15795  1404    44]\n",
      "Output:  දැං තත්වය ගොඩක් නරක අතට හැරෙමින් තියෙන්නෙ .\n",
      "Input: ඔයාගෙ යාලුවට කොහොම ද?\n",
      "Indexes: [17665   231    77 15796    44]\n",
      "Output:  එයාට දැන් හොදය් .\n",
      "Input: ඔයාට පෙම්වතියක් ඉන්නවාද?\n",
      "Indexes: [17665  1642   225    44]\n",
      "Output:  තාම නෑ .\n",
      "Input: ඔයාට සහෝදරියක් කී දෙනෙක් ඉන්නවාද?\n",
      "Indexes: [17665    13  3435   225    44]\n",
      "Output:  මට සහෝදරියො නෑ .\n",
      "Input: ඉතිං කොහොමද\n",
      "Indexes: [17665    13  3613    44    11    19]\n",
      "Output:  මට හොදයි . ඔයාට ?\n",
      "Input: ඔයා කසාද බැදලද ඉන්නෙ?\n",
      "Indexes: [17665   225    44]\n",
      "Output:  නෑ .\n",
      "Input: ඔයා කැමතිම කෑම මොකක්ද?\n",
      "Indexes: [17665   120 11407    81   671    44]\n",
      "Output:  මං කැමතියි බත් වලට .\n",
      "Input: මට කතා කරන්න පුලුවන් ද?\n",
      "Indexes: [17665    82    44  3696  9459    44]\n",
      "Output:  ඔව් . ඕනෙ වෙලාවක .\n",
      "Input: දැන් වෙලාව කීයද?\n",
      "Indexes: [17665  5378    44   483    44 17663    44 14708]\n",
      "Output:  10 . 30 . p . m\n",
      "Input: ඔයා පිටරට ගිහින් තියෙනව ද?\n",
      "Indexes: [17665  2393  5335    44]\n",
      "Output:  අනේ නෑනෙ .\n",
      "Input: ඔයාගෙ ගෙදර අය කොහෙද?\n",
      "Indexes: [17665  1282   906    86    44]\n",
      "Output:  එයාල ඉන්නෙ ගෙදර .\n",
      "Input: ඔයා තනියම ද ඉන්නෙ?\n",
      "Indexes: [17665    82    44   120  4749    44]\n",
      "Output:  ඔව් . මං තනියෙන් .\n",
      "Input: මගෙ යාලුව වෙන්න පුලුවන් ද ඔයාට?\n",
      "Indexes: [17665  1588    53    44]\n",
      "Output:  අනිවාර්යයෙන් ම .\n",
      "Input: ඔයා පීසා වලට කැමති ද?\n",
      "Indexes: [17665    82 11285 11407    44]\n",
      "Output:  ඔව් හුගක් කැමතියි .\n",
      "Input: ඔයා කාල ද ඉන්නෙ?\n",
      "Indexes: [17665    82    44   120    84    44]\n",
      "Output:  ඔව් . මං කෑවා .\n",
      "Input: ඔයා ඉගෙන ගන්න කැමති ද?\n",
      "Indexes: [17665    82    83 11407    44]\n",
      "Output:  ඔව් මම කැමතියි .\n",
      "Input: ඔයාගෙ යාලුවො කවුද?\n",
      "Indexes: [17665    13  3458   235  4208]\n",
      "Output:  මට යාළුවෝ ගොඩක් ඉන්නවා\n",
      "Input: ඔයා හොදින් ද?\n",
      "Indexes: [17665    82    83 14310]\n",
      "Output:  ඔව් මම හොඳින්\n",
      "Input: මට ඔයාගෙ දුරකතන අංකය ගන්න පුලුවං ද?\n",
      "Indexes: [17665 15797]\n",
      "Output:  අනිවාර්යෙන්ම\n",
      "Input: ඔයා ජීවත් වෙන්නෙ කොහෙද?\n",
      "Indexes: [17665    83   574   723  8207]\n",
      "Output:  මම ජීවත් වෙන්නේ ගමක\n",
      "Input: ඔයාගෙ ලිපිනය මොකද්ද?\n",
      "Indexes: [17665 16774   867 16775]\n",
      "Output:  වැල්ලවාය පාර කොස්ලන්ද\n",
      "Input: මට උදව් කරන්න පුලුවං ද ඔයාට?\n",
      "Indexes: [17665    82 15797]\n",
      "Output:  ඔව් අනිවාර්යෙන්ම\n",
      "Input: මට විහිලුවක් කරන්න.\n",
      "Indexes: [17665    82   758]\n",
      "Output:  ඔව් පුළුවන්\n",
      "Input: ඔයා හරිම විනෝදයි.\n",
      "Indexes: [17665 14848 14412]\n",
      "Output:  බොහොම ස්තූතියි\n",
      "Input: ඔයාගෙ රැකියාව මොකද්ද?\n",
      "Indexes: [17665    83  5728]\n",
      "Output:  මම ගොවියෙක්\n",
      "Input: ඔයාට රැකියාවක් තියෙනව ද?\n",
      "Indexes: [17665    13   340  4591]\n",
      "Output:  මට රැකියාවක් තියෙනවා\n",
      "Input: මට කරදර කරන්න එපා.\n",
      "Indexes: [17665 14704]\n",
      "Output:  සමාවෙන්න\n",
      "Input: අපි මොනවහරි බොමුද?\n",
      "Indexes: [17665    82    83 11407    44]\n",
      "Output:  ඔව් මම කැමතියි .\n",
      "Input: දැං වෙලාව කීයද?\n",
      "Indexes: [17665    77  1020 15798  8972]\n",
      "Output:  දැන් වෙලාව දහවල් එකයි\n",
      "Input: ඔයා පූසන්ට කැමති ද?\n",
      "Indexes: [17665    82    82]\n",
      "Output:  ඔව් ඔව්\n",
      "Input: ඔයා වැඩියෙන්ම බය මොනවටද?\n",
      "Indexes: [17665  6278]\n",
      "Output:  කළුවරට\n",
      "Input: ඔයාට දුක හිතුනම ඔයා මොනවද කරන්නෙ?\n",
      "Indexes: [17665 12239  2785  4208]\n",
      "Output:  මිතුරන් සමග ඉන්නවා\n",
      "Input: ඔයාගෙ හොදම මතකය මොකක්ද?\n",
      "Indexes: [17665  2309  1863]\n",
      "Output:  පාසල් ජීවිතය\n",
      "Input: ඔයාව අන්තිමට ඇඩෙව්වෙ කවුද?\n",
      "Indexes: [17665 10625]\n",
      "Output:  යහළුවන්\n",
      "Input: අපි මැරුනම මොකද වෙන්නෙ?\n",
      "Indexes: [17665   350  2652   327   222]\n",
      "Output:  අවසාන කටයුතු සිදු කරනවා\n",
      "Input: ඔයා හොදම යාලුවන්ව විස්වාස කරනව ද?\n",
      "Indexes: [17665    82]\n",
      "Output:  ඔව්\n",
      "Input: ඔයාගෙ දෙමව්පියන්ව දන්නවද?\n",
      "Indexes: [17665    82   120  2729]\n",
      "Output:  ඔව් මං දන්නවා\n",
      "Input: ඔයාගෙ අම්ම කොයි?\n",
      "Indexes: [17665    86]\n",
      "Output:  ගෙදර\n",
      "Input: ඔයාගෙ තාත්තා කොයි?\n",
      "Indexes: [17665  4191]\n",
      "Output:  කාර්යාලයේ\n",
      "Input: ඔයා අභියෝග වලට කැමති ද?\n",
      "Indexes: [17665    82 15797]\n",
      "Output:  ඔව් අනිවාර්යෙන්ම\n",
      "Input: ඔයා වැඩියෙන්ම යන්න කැමති කොහෙද?\n",
      "Indexes: [17665   139]\n",
      "Output:  නුවර\n",
      "Input: ඔයා විනෝද වෙන්න කැමති ද?\n",
      "Indexes: [17665    82  1688   262]\n",
      "Output:  ඔව් ගොඩ කැමති\n",
      "Input: ඔයා භූතයෝ විස්වාස කරනව ද?\n",
      "Indexes: [17665   225]\n",
      "Output:  නෑ\n",
      "Input: ඔයාට ආදරයක් තියෙනව ද?\n",
      "Indexes: [17665    82]\n",
      "Output:  ඔව්\n",
      "Input: ඔයාගෙ සිහින රැකියාව මොකක්ද?\n",
      "Indexes: [17665 13902]\n",
      "Output:  ගායකයෙක්\n",
      "Input: ඔයාගෙ හැකියාවන් මොනවද?\n",
      "Indexes: [17665 15799  4591]\n",
      "Output:  කිහිපයක්ම තියෙනවා\n",
      "Input: ඔයාගෙ දුබලතා මොනව ද?\n",
      "Indexes: [17665  3365   202]\n",
      "Output:  දන්නෙ නැහැ\n",
      "Input: ඔයාව නිතරම සතුටින් තියන්නේ කවුද?\n",
      "Indexes: [17665   683   684]\n",
      "Output:  සුරතල් සතුන්\n",
      "Input: ඔයාට නරක පුරුදු තියෙනව ද?\n",
      "Indexes: [17665  4765   758]\n",
      "Output:  තීරණ පුළුවන්\n",
      "Input: ඔයාට අනාගතය දකින්න පුලුවං ද?\n",
      "Indexes: [17665  7080]\n",
      "Output:  බැහැ\n",
      "Input: ඔයාට අතීතය මතකයි ද?\n",
      "Indexes: [17665   235 12924  8015]\n",
      "Output:  ගොඩක් දුරට මතකයි\n",
      "Input: ඔයාට ආගමක් තියෙනව ද?\n",
      "Indexes: [17665    82  4591]\n",
      "Output:  ඔව් තියෙනවා\n",
      "Input: ඔයාගෙ හොදම ගුනාංගය මොකද්ද ?\n",
      "Indexes: [17665 15800 15801  1172]\n",
      "Output:  සුහද ශීලී බව\n",
      "Input: ඔයා උදේම අවදි වෙනවද?\n",
      "Indexes: [17665 10098 12924  1323]\n",
      "Output:  බොහෝ දුරට යනවා\n",
      "Input: ඔයා රෑට නිදාගන්නවද?\n",
      "Indexes: [17665    82]\n",
      "Output:  ඔව්\n",
      "Input: ඔයාට සුරතලෙක් ඉන්නවද?\n",
      "Indexes: [17665    82    13   683 11300  4208    44]\n",
      "Output:  ඔව් මට සුරතල් පූසෙක් ඉන්නවා .\n",
      "Input: ඔයා මට ආදරෙයිද?\n",
      "Indexes: [17665    82    83    11   310]\n",
      "Output:  ඔව් මම ඔයාට ආදරෙයි\n",
      "Input: ඔයා දැං මොකද කරන්නෙ?\n",
      "Indexes: [17665  1475   222]\n",
      "Output:  පාඩම් කරනවා\n",
      "Input: මං ඔයාට උදව් කරන්න ද?\n",
      "Indexes: [17665    82  6311]\n",
      "Output:  ඔව් කරුණාකරලා\n",
      "Input: ඔයා තේ වලට කැමතිද?\n",
      "Indexes: [17665 11407]\n",
      "Output:  කැමතියි\n",
      "Input: ඔයාගෙ හොදම යාලුවා කවුද?\n",
      "Indexes: [17665   165]\n",
      "Output:  ඔබ\n",
      "Input: ඔයාට දුකයිද?\n",
      "Indexes: [17665  9537]\n",
      "Output:  දුකයි\n",
      "Input: ඔයාට සතුටුයි ද?\n",
      "Indexes: [17665   235  5690]\n",
      "Output:  ගොඩක් සතුටුයි\n",
      "Input: ඔයාට බඩගිනි ද?\n",
      "Indexes: [17665   202]\n",
      "Output:  නැහැ\n",
      "Input: ඔයාට තිබහයි ද?\n",
      "Indexes: [17665    82]\n",
      "Output:  ඔව්\n",
      "Input: ඔයාට වතුර ඕනෙ ද?\n",
      "Indexes: [17665    82]\n",
      "Output:  ඔව්\n"
     ]
    }
   ],
   "source": [
    "file_data = pd.read_csv('https://raw.githubusercontent.com/iresh-rajitha/Sinhala_dataset/main/Random_Question.csv', header = None)\n",
    "file_data=file_data.astype(str)\n",
    "rand_questions = file_data[1][1:].tolist()\n",
    "\n",
    "for q in rand_questions:\n",
    "  predict(q)"
   ]
  },
  {
   "cell_type": "markdown",
   "metadata": {
    "id": "kHcQqmsYo9fh"
   },
   "source": [
    "### From existing dataset"
   ]
  },
  {
   "cell_type": "code",
   "execution_count": null,
   "metadata": {
    "colab": {
     "background_save": true
    },
    "id": "BroDuTF30SLC"
   },
   "outputs": [],
   "source": [
    "# for i in random.sample(range(1, 1000), 3):\n",
    "#   predict(b_data[0][i])\n",
    "#   print(\"Actual :\"+ b_data[1][i])"
   ]
  },
  {
   "cell_type": "code",
   "execution_count": null,
   "metadata": {
    "colab": {
     "background_save": true
    },
    "id": "q66pk3Jjp7KI"
   },
   "outputs": [],
   "source": [
    "# for q in rand_questions:\n",
    "#   predict(q)"
   ]
  },
  {
   "cell_type": "markdown",
   "metadata": {
    "id": "ulwNVG58pxfp"
   },
   "source": [
    "### From random questions"
   ]
  },
  {
   "cell_type": "code",
   "execution_count": null,
   "metadata": {
    "colab": {
     "background_save": true
    },
    "id": "zrVFm1XIYjNL"
   },
   "outputs": [],
   "source": [
    "# dict(reversed(list(tokenizer.int2word.items())))"
   ]
  },
  {
   "cell_type": "code",
   "execution_count": null,
   "metadata": {
    "colab": {
     "background_save": true
    },
    "id": "fU73oaq9S7Hb"
   },
   "outputs": [],
   "source": [
    "# Sample question: i really , really , really wanna go , but i cannot . not unless my sister goes .\n",
    "# Sample answer: i am working on it . but she does not seem to be going for him ."
   ]
  },
  {
   "cell_type": "markdown",
   "metadata": {
    "id": "GUQuibZAf-as"
   },
   "source": [
    "## From Saved model and data"
   ]
  },
  {
   "cell_type": "markdown",
   "metadata": {
    "id": "EkMkB9oIx0hD"
   },
   "source": [
    "### Create new tokenizer"
   ]
  },
  {
   "cell_type": "code",
   "execution_count": null,
   "metadata": {
    "colab": {
     "background_save": true
    },
    "id": "yGrY6at0hBJT"
   },
   "outputs": [],
   "source": [
    "new_tokenizer = SinhalaTokenizer()\n",
    "new_tokenizer.create_data_using_pickle_file(\"data.pkl\")"
   ]
  },
  {
   "cell_type": "markdown",
   "metadata": {
    "id": "Va-ia087x4rT"
   },
   "source": [
    "### Load saved model"
   ]
  },
  {
   "cell_type": "code",
   "execution_count": null,
   "metadata": {
    "colab": {
     "background_save": true
    },
    "id": "IH-hO9msf9TL"
   },
   "outputs": [],
   "source": [
    "new_model = transformer(\n",
    "      vocab_size=VOCAB_SIZE,\n",
    "      num_layers=NUM_LAYERS,\n",
    "      units=UNITS,\n",
    "      d_model=D_MODEL,\n",
    "      num_heads=NUM_HEADS,\n",
    "      dropout=DROPOUT)\n",
    "\n",
    "new_model.load_weights(filename)"
   ]
  },
  {
   "cell_type": "markdown",
   "metadata": {
    "id": "_ufYM-ULyCrb"
   },
   "source": [
    "## Evaluate using new tokenizer and the model"
   ]
  },
  {
   "cell_type": "code",
   "execution_count": null,
   "metadata": {
    "colab": {
     "background_save": true
    },
    "id": "YlxU1v-igQuN"
   },
   "outputs": [],
   "source": [
    "def evaluate_new(sentence):\n",
    "  # sentence = preprocess_sentence(sentence)\n",
    "  sentence = sinhala_pre.preprocess_sentence(sentence)\n",
    "\n",
    "  sentence = tf.expand_dims(\n",
    "      START_TOKEN + new_tokenizer.encode(sentence) + END_TOKEN, axis=0)\n",
    "\n",
    "  output = tf.expand_dims(START_TOKEN, 0)\n",
    "\n",
    "  for i in range(MAX_LENGTH):\n",
    "    predictions = new_model(inputs=[sentence, output], training=False)  # ! NEW MODEL IS HERE\n",
    "\n",
    "    # select the last word from the seq_len dimension\n",
    "    predictions = predictions[:, -1:, :]\n",
    "    predicted_id = tf.cast(tf.argmax(predictions, axis=-1), tf.int32)\n",
    "\n",
    "    # return the result if the predicted_id is equal to the end token\n",
    "    if tf.equal(predicted_id, END_TOKEN[0]):\n",
    "      break\n",
    "\n",
    "    # concatenated the predicted_id to the output which is given to the decoder\n",
    "    # as its input.\n",
    "    output = tf.concat([output, predicted_id], axis=-1)\n",
    "\n",
    "  return tf.squeeze(output, axis=0)\n",
    "\n",
    "\n",
    "def predict_new(sentence):\n",
    "  # word_index = []\n",
    "  prediction = evaluate_new(sentence).numpy()\n",
    "  # print(prediction)\n",
    "  # print(type(prediction))\n",
    "  # predicted_sentence = ''\n",
    "  predicted_sentence = new_tokenizer.decode(\n",
    "       [i for i in prediction if i < new_tokenizer.vocab_size])\n",
    "\n",
    "  print('Input: {}'.format(sentence))\n",
    "  print('Indexes: {}'.format(prediction))\n",
    "  print('Output: {}'.format(predicted_sentence))\n",
    "\n",
    "  return predicted_sentence"
   ]
  },
  {
   "cell_type": "code",
   "execution_count": null,
   "metadata": {
    "colab": {
     "background_save": true
    },
    "id": "OkCzCCiTgav6",
    "outputId": "4e4a1e47-5bfd-4ab8-d81b-77e68cf004ab"
   },
   "outputs": [
    {
     "name": "stdout",
     "output_type": "stream",
     "text": [
      "Input: ඔයා මගෙන් එලියට අහනවා. ඒක හරිම හුරතල්. නැවතත් ඔබේ නම කුමක්ද?\n",
      "Indexes: [17665   231  2331]\n",
      "Output:  එයාට උණ\n"
     ]
    }
   ],
   "source": [
    "output = predict_new('ඔයා මගෙන් එලියට අහනවා. ඒක හරිම හුරතල්. නැවතත් ඔබේ නම කුමක්ද?')"
   ]
  },
  {
   "cell_type": "code",
   "execution_count": null,
   "metadata": {
    "colab": {
     "background_save": true
    },
    "id": "3diUTXrCJaSd",
    "outputId": "454b0350-d0b5-4947-c72a-c62d200154f5"
   },
   "outputs": [
    {
     "name": "stdout",
     "output_type": "stream",
     "text": [
      "Input: ඔබේ හිසකෙස් එවැනි පෙනුමක් ලබා ගන්නේ කෙසේද?\n",
      "Indexes: [17665    68  8611   850  1156   930]\n",
      "Output:  ඒ හැටි මගෙ හිසකෙස් වල\n"
     ]
    }
   ],
   "source": [
    "output = predict_new('ඔබේ හිසකෙස් එවැනි පෙනුමක් ලබා ගන්නේ කෙසේද?')"
   ]
  },
  {
   "cell_type": "code",
   "execution_count": null,
   "metadata": {
    "colab": {
     "background_save": true
    },
    "id": "5fLqb0CiQ_-F",
    "outputId": "d1df2cd8-7860-4346-baa8-221028f2413e"
   },
   "outputs": [
    {
     "name": "stdout",
     "output_type": "stream",
     "text": [
      "Input: ඔයාගෙ වයස කීයද?\n",
      "Indexes: [17665    13   122 15803  6477]\n",
      "Output:  මට වයස 35 යි\n"
     ]
    }
   ],
   "source": [
    "output = predict_new('ඔයාගෙ වයස කීයද?')"
   ]
  },
  {
   "cell_type": "code",
   "execution_count": null,
   "metadata": {
    "colab": {
     "background_save": true
    },
    "id": "nB2-34lUtyLp"
   },
   "outputs": [],
   "source": [
    "def save_data( name , data):\n",
    "    f = open(name, \"wb\")\n",
    "    pickle.dump(data , f)\n",
    "    # close file\n",
    "    f.close()"
   ]
  },
  {
   "cell_type": "code",
   "execution_count": null,
   "metadata": {
    "colab": {
     "background_save": true
    },
    "id": "yAoby3JAu_jP"
   },
   "outputs": [],
   "source": [
    "transformer_params=[VOCAB_SIZE ,NUM_LAYERS , UNITS, D_MODEL ,NUM_HEADS, DROPOUT , MAX_LENGTH , D_MODEL  ]\n",
    "save_data(\"transformer_data.pkl\", transformer_params)"
   ]
  },
  {
   "cell_type": "code",
   "execution_count": null,
   "metadata": {
    "colab": {
     "background_save": true
    },
    "id": "yP0WMr35vS9t"
   },
   "outputs": [],
   "source": [
    "def load_array(path):\n",
    "    a_file = open(path, \"rb\")\n",
    "    return pickle.load(a_file)"
   ]
  },
  {
   "cell_type": "code",
   "execution_count": null,
   "metadata": {
    "colab": {
     "background_save": true
    },
    "id": "vP_VNy-lvvgP",
    "outputId": "fcb31332-6566-41f1-fc87-41d315d5accc"
   },
   "outputs": [
    {
     "ename": "ValueError",
     "evalue": "ignored",
     "output_type": "error",
     "traceback": [
      "\u001B[0;31m---------------------------------------------------------------------------\u001B[0m",
      "\u001B[0;31mValueError\u001B[0m                                Traceback (most recent call last)",
      "\u001B[0;32m<ipython-input-161-aad9a04e7624>\u001B[0m in \u001B[0;36m<module>\u001B[0;34m\u001B[0m\n\u001B[0;32m----> 1\u001B[0;31m \u001B[0mVOCAB_SIZE\u001B[0m \u001B[0;34m,\u001B[0m\u001B[0mNUM_LAYERS\u001B[0m \u001B[0;34m,\u001B[0m \u001B[0mUNITS\u001B[0m\u001B[0;34m,\u001B[0m \u001B[0mD_MODEL\u001B[0m \u001B[0;34m,\u001B[0m\u001B[0mNUM_HEADS\u001B[0m\u001B[0;34m,\u001B[0m \u001B[0mDROPOUT\u001B[0m \u001B[0;34m=\u001B[0m\u001B[0mload_array\u001B[0m\u001B[0;34m(\u001B[0m\u001B[0;34m\"transformer_data.pkl\"\u001B[0m\u001B[0;34m)\u001B[0m\u001B[0;34m\u001B[0m\u001B[0;34m\u001B[0m\u001B[0m\n\u001B[0m",
      "\u001B[0;31mValueError\u001B[0m: too many values to unpack (expected 6)"
     ]
    }
   ],
   "source": [
    "VOCAB_SIZE ,NUM_LAYERS , UNITS, D_MODEL ,NUM_HEADS, DROPOUT =load_array(\"transformer_data.pkl\")"
   ]
  },
  {
   "cell_type": "code",
   "execution_count": null,
   "metadata": {
    "colab": {
     "background_save": true
    },
    "id": "H0Hdr1aROaN0"
   },
   "outputs": [],
   "source": [
    "\n",
    "#@title String fields\n",
    "\n",
    "text = '' #@param {type:\"string\"}\n",
    "\n",
    "print(text)"
   ]
  },
  {
   "cell_type": "code",
   "execution_count": null,
   "metadata": {
    "colab": {
     "background_save": true
    },
    "id": "8mN1RyeZEYbB"
   },
   "outputs": [],
   "source": [
    "from google.colab import files\n",
    "\n",
    "uploaded = files.upload()\n",
    "\n",
    "for fn in uploaded.keys():\n",
    "  print('User uploaded file \"{name}\" with length {length} bytes'.format(\n",
    "      name=fn, length=len(uploaded[fn])))"
   ]
  },
  {
   "cell_type": "code",
   "execution_count": null,
   "metadata": {
    "colab": {
     "background_save": true
    },
    "id": "J0QntZRLK9bl"
   },
   "outputs": [],
   "source": [
    "END_TOKEN"
   ]
  },
  {
   "cell_type": "markdown",
   "metadata": {
    "id": "5-dGPc14QnAP"
   },
   "source": [
    "\n",
    "# Summary\n",
    "\n",
    "Here we are, we have implemented a Transformer in TensorFlow 2.0 in around 500 lines of code.\n",
    "\n",
    "In this tutorial, we focus on the two different approaches to implement complex models with Functional API and Model subclassing, and how to incorporate them.\n",
    "\n",
    "Try using a different dataset or hyper-parameters to train the Transformer! Thanks for reading.\n"
   ]
  }
 ],
 "metadata": {
  "accelerator": "TPU",
  "colab": {
   "provenance": []
  },
  "gpuClass": "standard",
  "kernelspec": {
   "display_name": "Python 3",
   "language": "python",
   "name": "python3"
  },
  "language_info": {
   "codemirror_mode": {
    "name": "ipython",
    "version": 3
   },
   "file_extension": ".py",
   "mimetype": "text/x-python",
   "name": "python",
   "nbconvert_exporter": "python",
   "pygments_lexer": "ipython3",
   "version": "3.7.7"
  }
 },
 "nbformat": 4,
 "nbformat_minor": 0
}
