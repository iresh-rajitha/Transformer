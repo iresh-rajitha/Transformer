{
 "cells": [
  {
   "cell_type": "code",
   "execution_count": 65,
   "id": "initial_id",
   "metadata": {
    "collapsed": true,
    "ExecuteTime": {
     "end_time": "2023-12-05T04:23:12.369302367Z",
     "start_time": "2023-12-05T04:23:12.115409677Z"
    }
   },
   "outputs": [],
   "source": [
    "import numpy as np\n",
    "import tensorflow_datasets as tfds\n",
    "import pandas as pd\n",
    "import tensorflow as tf\n",
    "from sklearn.preprocessing import LabelEncoder"
   ]
  },
  {
   "cell_type": "code",
   "execution_count": 66,
   "outputs": [],
   "source": [
    "# data_set_url = '/home/ireshr/PageroLabs/Full_dataset/secure_archive/dataset.csv'\n",
    "data_set_url = '/home/ireshr/PageroLabs/11-1/dataset_acrhive/processed-dataset.csv'\n",
    "b_data=pd.read_csv( data_set_url , lineterminator='\\n' , header = None)\n",
    "b_data=b_data.astype(str)"
   ],
   "metadata": {
    "collapsed": false,
    "ExecuteTime": {
     "end_time": "2023-12-05T04:23:12.371852256Z",
     "start_time": "2023-12-05T04:23:12.156070766Z"
    }
   },
   "id": "7aaa67722b31128c"
  },
  {
   "cell_type": "code",
   "execution_count": 67,
   "outputs": [],
   "source": [
    "MAX_SAMPLES = 10000"
   ],
   "metadata": {
    "collapsed": false,
    "ExecuteTime": {
     "end_time": "2023-12-05T04:23:12.372021852Z",
     "start_time": "2023-12-05T04:23:12.272811495Z"
    }
   },
   "id": "b07e33c8609ce7cc"
  },
  {
   "cell_type": "markdown",
   "source": [
    "### Fetch Data"
   ],
   "metadata": {
    "collapsed": false
   },
   "id": "c4ed1e40e3f931e7"
  },
  {
   "cell_type": "code",
   "execution_count": 68,
   "outputs": [],
   "source": [
    "subject_array = b_data[2][1:].tolist()\n",
    "description_array = b_data[3][1:].tolist()\n",
    "teams_array = b_data[4][1:].tolist()\n",
    "# teams = b_data[3][:10000]"
   ],
   "metadata": {
    "collapsed": false,
    "ExecuteTime": {
     "end_time": "2023-12-05T04:23:12.372120952Z",
     "start_time": "2023-12-05T04:23:12.275975993Z"
    }
   },
   "id": "10dc3f829ad48a74"
  },
  {
   "cell_type": "code",
   "execution_count": 69,
   "outputs": [
    {
     "data": {
      "text/plain": "['2nd Line - PO & Pay',\n 'Integration Analysts',\n '1st Line DE - HBS',\n '3rd Line R&D - HBS',\n '1st Line DE - HBS',\n 'Projects SE - TMS',\n 'Projects SE - TMS',\n '3rd Line - Pay',\n '3rd Line R&D - HBS',\n '3rd Line R&D - HBS',\n '2nd Line DE - HBS',\n '3rd Line R&D - HBS',\n 'Scrooge',\n 'Integration Analysts',\n '3rd Line R&D - HBS',\n 'Projects DE - HBS',\n 'Integration Consultants – Managed Service',\n '3rd Line R&D - HBS',\n 'Administrators',\n '3rd Line - Pay',\n '3rd Line - Pay',\n '3rd Line - Pay',\n 'Product Owner Pay',\n '1st Line DE - HBS',\n 'Data Capturing DE - HBS',\n '3rd Line - Pay',\n '3rd Line R&D - HBS',\n '3rd Line - Pay',\n 'Projects DE - HBS',\n 'Projects SE - TMS',\n '3rd Line R&D - HBS',\n '3rd Line R&D - HBS',\n '3rd Line R&D - HBS',\n 'Administrators',\n 'Interop',\n 'Administrators',\n 'Projects DE - HBS',\n '3rd Line R&D - HBS',\n 'Pagero Eloomi - Zendesk course',\n 'Eagle',\n 'Light Agents',\n 'Pagero Support Web Admin',\n '3rd Line Integration - HBS',\n 'Eagle',\n 'Team Lead and Management',\n '3rd Line R&D - HBS',\n 'Scrooge',\n 'Eagle',\n 'Eagle',\n 'Pagero Eloomi - Zendesk course',\n 'Projects SE - TMS',\n 'Puffin',\n 'Scrooge',\n '3rd Line R&D - HBS',\n 'Data Capturing DE - HBS',\n 'Data Capturing DE - HBS',\n 'Data Capturing DE - HBS',\n 'Projects DE - HBS',\n 'Projects DE - HBS',\n 'Integration Consultants – Managed Service',\n '3rd Line R&D - HBS',\n '3rd Line R&D - HBS',\n 'Projects SE - TMS',\n 'Administrators',\n 'Administrators',\n 'Administrators',\n '1st Line DE - HBS',\n 'Administrators',\n 'Team Lead and Management',\n 'Team Lead and Management',\n 'Peacock',\n 'Administrators',\n 'Woodpecker',\n 'Pagero Support Web Admin',\n 'Administrators',\n '3rd Line - Pay',\n '3rd Line - Pay',\n 'Integration Consultants – Implementation',\n 'Projects DE - HBS',\n 'Team Lead and Management',\n 'Administrators',\n '2nd Line DE - HBS',\n 'Projects DE - HBS',\n 'Team Lead and Management',\n 'Projects DE - HBS',\n 'Projects DE - HBS',\n 'Administrators',\n 'Administrators',\n 'Data Capturing DE - HBS',\n 'Projects DE - HBS',\n 'Projects DE - HBS',\n 'Projects DE - HBS',\n 'Projects DE - HBS',\n 'Projects DE - HBS',\n 'Projects DE - HBS',\n 'Projects DE - HBS',\n 'Integration Consultants – Solution',\n 'Administrators',\n 'Projects DE - HBS',\n 'Administrators',\n 'Integration Analysts',\n 'Integration Consultants – Managed Service',\n 'Administrators',\n 'Administrators',\n 'Administrators',\n 'Projects SE - TMS',\n 'Projects DE - HBS',\n 'Administrators',\n 'Projects DE - HBS',\n '1st & 2nd Line SE - TMS',\n 'Integration Consultants – USA',\n 'Projects DE - HBS',\n 'Eagle',\n 'Owl',\n 'Projects DE - HBS',\n 'Projects DE - HBS',\n 'Team Lead and Management',\n '3rd Line R&D - HBS',\n '2nd Line DE - HBS',\n '3rd Line - Pay',\n 'Administrators',\n 'Administrators',\n '1st Line DE - HBS',\n '3rd Line R&D - HBS',\n 'Integration Consultants – Implementation',\n 'Pagero Support Web Admin',\n 'Projects DE - HBS',\n 'Raven',\n 'Raven',\n 'Raven',\n 'Projects DE - HBS',\n 'Projects SE - TMS',\n 'Data Capturing DE - HBS',\n 'Projects DE - HBS',\n '3rd Line R&D - HBS',\n 'Projects DE - HBS',\n 'Pagero Support Web Admin',\n 'Projects DE - HBS',\n 'Projects DE - HBS',\n '3rd Line R&D - HBS',\n 'Projects DE - HBS',\n 'Eagle',\n 'Administrators',\n 'Projects SE - TMS',\n 'Administrators',\n 'Data Capturing DE - HBS',\n 'Pagero Support Web Admin',\n '3rd Line R&D - HBS',\n 'Administrators',\n 'Administrators',\n 'Integration Consultants – Solution',\n 'Owl',\n 'Integration Consultants – USA',\n 'Integration Consultants – Implementation',\n 'Projects SE - TMS',\n 'Integration Consultants – Solution',\n 'Owl',\n 'Administrators',\n 'Administrators',\n 'Administrators',\n 'Integration Consultants – Managed Service',\n 'Administrators',\n 'Projects DE - HBS',\n 'Integration Consultants – USA',\n 'Integration Core Specialists',\n '3rd Line R&D - HBS',\n '3rd Line R&D - HBS',\n 'Projects DE - HBS',\n 'Projects DE - HBS',\n '1st & 2nd Line SE - TMS',\n 'Administrators',\n 'Administrators',\n 'Projects DE - HBS',\n 'Integration Consultants – USA',\n 'Raven',\n 'Eagle',\n 'Data Capturing DE - HBS',\n 'Data Capturing DE - HBS',\n 'Eagle',\n 'Projects SE - TMS',\n 'Integration Core Specialists',\n 'Administrators',\n 'Eagle',\n 'Eagle',\n 'Data Capturing DE - HBS',\n 'Integration Consultants – USA',\n 'Projects DE - HBS',\n 'Administrators',\n 'Projects DE - HBS',\n 'Administrators',\n 'Projects DE - HBS',\n 'Data Capturing DE - HBS',\n 'Projects DE - HBS',\n 'Buzzard',\n 'Data Capturing DE - HBS',\n 'Projects SE - TMS',\n 'Integration Consultants – Connectivity',\n 'Data Capturing DE - HBS',\n 'Administrators',\n '2nd Line DE - HBS',\n '2nd Line DE - HBS',\n 'Projects DE - HBS',\n 'Interop',\n 'Projects DE - HBS',\n 'Griffin',\n 'Kingfisher',\n 'Tweety',\n 'Eagle',\n 'Administrators',\n 'Administrators',\n 'Scrooge',\n 'Team Lead and Management',\n 'Team Lead and Management',\n '2nd Line DE - HBS',\n 'Projects DE - HBS',\n '1st Line ES - PO',\n '1st Line ES - PO',\n '1st Line ES - PO',\n '1st Line ES - PO',\n 'Projects DE - HBS',\n '3rd Line R&D - HBS',\n 'Integration Consultants – Managed Service',\n 'Eagle',\n 'Administrators',\n 'Integration Analysts',\n '2nd Line DE - HBS',\n 'Interop',\n '1st Line SE - PO & Pay',\n 'Projects DE - HBS',\n 'Data Capturing DE - HBS',\n '1st Line SE - PO & Pay',\n '1st Line SE - PO & Pay',\n '1st Line SE - PO & Pay',\n '1st Line SE - PO & Pay',\n 'Administrators',\n 'Projects DE - HBS',\n 'Integration Consultants – USA',\n '3rd Line - Pay',\n '1st & 2nd Line SE - TMS',\n 'Integration Core Specialists',\n 'Projects DE - HBS',\n 'Projects SE - TMS',\n 'Integration Consultants – Managed Service',\n 'Projects DE - HBS',\n 'Integration Consultants – Managed Service',\n 'Buzzard',\n 'Projects DE - HBS',\n 'Integration Analysts',\n 'Integration Core Specialists',\n 'Eagle',\n 'Hummingbird',\n 'Interop',\n 'Interop',\n 'Projects SE - TMS',\n 'Administrators',\n 'Integration Consultants – Connectivity',\n 'Phoenix',\n '3rd Line Integration - HBS',\n 'Projects DE - HBS',\n 'Projects DE - HBS',\n '1st Line DE - HBS',\n 'Eagle',\n 'Administrators',\n 'Integration Consultants – Connectivity',\n 'Integration Consultants – Connectivity',\n 'Projects DE - HBS',\n 'Eagle',\n 'Eagle',\n 'Eagle',\n 'Integration Analysts',\n 'Administrators',\n 'Administrators',\n 'Administrators',\n 'Integration Consultants – Managed Service',\n 'Projects DE - HBS',\n 'Integration Consultants – Connectivity',\n 'Interop',\n 'Administrators',\n 'Integration Consultants – Managed Service',\n 'Integration Consultants – Implementation',\n 'Projects SE - TMS',\n 'Projects DE - HBS',\n 'Projects DE - HBS',\n 'Integration Consultants – USA',\n 'Integration Consultants – Managed Service',\n 'Pagero Support Web Admin',\n 'Integration Consultants – USA',\n 'Administrators',\n 'Administrators',\n 'Integration Consultants – Managed Service',\n 'Griffin',\n 'Integration Consultants – Managed Service',\n 'Integration Consultants – Implementation',\n 'Administrators',\n 'Integration Consultants – Implementation',\n 'Integration Consultants – Implementation',\n 'Integration Analysts',\n 'Eagle',\n 'Projects DE - HBS',\n '1st & 2nd Line SE - TMS',\n '3rd Line R&D - HBS',\n '2nd Line DE - HBS',\n 'Integration Consultants – Managed Service',\n 'Integration Core Specialists',\n 'Integration Core Specialists',\n 'Integration Consultants – Managed Service',\n '1st Line DE - HBS',\n '2nd Line DE - HBS',\n 'Integration Consultants – Managed Service',\n 'Integration Consultants – Managed Service',\n 'Integration Consultants – Implementation',\n 'Integration Consultants – Freight',\n '1st Line SE - PO & Pay',\n '1st Line SE - PO & Pay',\n '1st Line ES - PO',\n '1st Line ES - PO',\n '1st Line SE - PO & Pay',\n '1st Line FI - PO & HBS',\n 'Integration Consultants – Implementation',\n 'Integration Consultants – Implementation',\n '2nd Line DE - HBS',\n 'Interop',\n 'Integration Analysts',\n '1st & 2nd Line SE - TMS',\n 'Integration Consultants – Managed Service',\n '1st & 2nd Line SE - TMS',\n 'Integration Core Specialists',\n 'Integration Consultants – Implementation',\n 'Integration Consultants – Managed Service',\n '1st Line DE - HBS',\n '3rd Line Integration - HBS',\n 'Projects DE - HBS',\n '3rd Line R&D - HBS',\n '3rd Line R&D - HBS',\n 'Integration Consultants – Managed Service',\n 'Integration Consultants – USA',\n '3rd Line R&D - HBS',\n '3rd Line R&D - HBS',\n '1st Line 24/7 - PO',\n 'Administrators',\n '1st Line FI - PO & HBS',\n '1st Line SE - PO & Pay',\n '1st Line SE - PO & Pay',\n '1st & 2nd Line SE - TMS',\n '1st & 2nd Line SE - TMS',\n '1st Line SE - PO & Pay',\n '2nd Line - PO & Pay',\n '2nd Line DE - HBS',\n 'Projects SE - Fastlane',\n '1st Line 24/7 - PO',\n 'Raven',\n '1st Line FI - PO & HBS',\n '1st Line 24/7 - PO',\n '1st Line SE - PO & Pay',\n '1st Line DE - HBS',\n 'Integration Analysts',\n '1st & 2nd Line SE - TMS',\n 'Integration Analysts',\n '1st & 2nd Line SE - TMS',\n 'Integration Consultants – Implementation',\n 'Integration Consultants – Implementation',\n 'Integration Consultants – Connectivity',\n '2nd Line - PO & Pay',\n 'Integration Consultants – Implementation',\n 'Integration Consultants – Implementation',\n '1st & 2nd Line SE - TMS',\n '1st Line SE - PO & Pay',\n '1st Line 24/7 - PO',\n '1st Line DE - HBS',\n '1st Line FI - PO & HBS',\n '1st Line 24/7 - PO',\n 'Projects SE - Fastlane',\n '1st & 2nd Line SE - TMS',\n '1st Line 24/7 - PO',\n '1st Line 24/7 - PO',\n '1st Line ES - PO',\n 'Projects DE - HBS',\n '1st & 2nd Line SE - TMS',\n '1st Line DE - HBS',\n '1st Line 24/7 - PO',\n '3rd Line R&D - HBS',\n '1st Line SE - PO & Pay',\n '1st Line SE - PO & Pay',\n '1st Line SE - PO & Pay',\n '1st Line 24/7 - PO',\n '1st Line SE - PO & Pay',\n '1st Line SE - PO & Pay',\n '1st Line 24/7 - PO',\n '2nd Line DE - HBS',\n '1st Line SE - PO & Pay',\n '1st Line FI - PO & HBS',\n '1st Line SE - PO & Pay',\n '1st Line DE - HBS',\n 'Projects FI - Fastlane',\n 'Integration Consultants – Implementation',\n '1st Line DE - HBS',\n '1st Line SE - PO & Pay',\n '1st Line DE - HBS',\n '1st Line DE - HBS',\n '1st Line SE - PO & Pay',\n '2nd Line DE - HBS',\n '1st & 2nd Line SE - TMS',\n '1st Line SE - PO & Pay',\n '1st Line 24/7 - PO',\n '1st Line DE - HBS',\n '1st Line 24/7 - PO',\n '1st Line 24/7 - PO',\n '1st Line DE - HBS',\n '1st Line 24/7 - PO',\n '1st Line SE - PO & Pay',\n '1st Line SE - PO & Pay',\n 'Data Capturing DE - HBS',\n '2nd Line - PO & Pay',\n '1st Line SE - PO & Pay',\n '1st & 2nd Line SE - TMS',\n '2nd Line - PO & Pay',\n '1st Line 24/7 - PO',\n '2nd Line - PO & Pay',\n '1st Line SE - PO & Pay',\n '1st Line SE - PO & Pay',\n '1st Line DE - HBS',\n '1st Line FI - PO & HBS',\n '1st Line DE - HBS',\n '1st Line DE - HBS',\n '1st Line DE - HBS',\n '1st Line SE - PO & Pay',\n '1st Line SE - PO & Pay',\n 'Integration Consultants – Implementation',\n '1st Line SE - PO & Pay',\n '1st Line SE - PO & Pay',\n '1st Line SE - PO & Pay',\n '1st Line SE - PO & Pay',\n '1st Line SE - PO & Pay',\n '1st Line DE - HBS',\n '1st Line DE - HBS',\n '1st Line DE - HBS',\n '1st Line 24/7 - PO',\n '1st Line SE - PO & Pay',\n '1st Line SE - PO & Pay',\n '1st Line SE - PO & Pay',\n '1st Line SE - PO & Pay',\n '1st Line DE - HBS',\n '1st Line SE - PO & Pay',\n '1st Line DE - HBS',\n '2nd Line - PO & Pay',\n '1st Line 24/7 - PO',\n '1st Line 24/7 - PO',\n '1st Line 24/7 - PO',\n '1st Line 24/7 - PO',\n '1st Line 24/7 - PO',\n '1st Line 24/7 - PO',\n '1st Line SE - PO & Pay',\n '1st Line FI - PO & HBS',\n '1st Line SE - PO & Pay',\n '1st Line SE - PO & Pay',\n '1st Line 24/7 - PO',\n '2nd Line - PO & Pay',\n '2nd Line - PO & Pay',\n '2nd Line - PO & Pay',\n '1st Line SE - PO & Pay',\n '1st Line FI - PO & HBS',\n '2nd Line - PO & Pay',\n '1st Line SE - PO & Pay',\n '1st Line SE - PO & Pay',\n '1st Line FI - PO & HBS',\n '2nd Line - PO & Pay',\n '1st & 2nd Line SE - TMS',\n 'Raven',\n '1st Line SE - PO & Pay',\n '1st & 2nd Line SE - TMS',\n '1st Line SE - PO & Pay',\n '1st Line DE - HBS',\n '1st & 2nd Line SE - TMS',\n '1st & 2nd Line SE - TMS',\n '1st & 2nd Line SE - TMS',\n '1st & 2nd Line SE - TMS',\n '1st & 2nd Line SE - TMS',\n '1st & 2nd Line SE - TMS',\n '2nd Line - PO & Pay',\n 'Integration Consultants – Implementation',\n '1st Line FI - PO & HBS',\n '1st Line SE - PO & Pay',\n '3rd Line R&D - HBS',\n 'CI - HBS Projects',\n '2nd Line - PO & Pay',\n 'Integration Core Specialists',\n '1st Line DE - HBS',\n '1st Line SE - PO & Pay',\n 'Integration Consultants – Connectivity',\n '1st Line DE - HBS',\n '1st Line DE - HBS',\n 'Integration Consultants – Implementation',\n '1st Line FI - PO & HBS',\n '1st & 2nd Line SE - TMS',\n '1st Line FI - PO & HBS',\n '1st Line FI - PO & HBS',\n '1st Line FI - PO & HBS',\n '1st Line FI - PO & HBS',\n '1st Line FI - PO & HBS',\n '1st Line DE - HBS',\n '1st Line FI - PO & HBS',\n '2nd Line - PO & Pay',\n '1st Line FI - PO & HBS',\n '1st & 2nd Line SE - TMS',\n '1st Line SE - PO & Pay',\n '3rd Line - Pay',\n '1st Line SE - PO & Pay',\n '1st Line 24/7 - PO',\n '1st Line 24/7 - PO',\n '1st Line FI - PO & HBS',\n 'Data Capturing DE - HBS',\n '1st Line 24/7 - PO',\n '2nd Line - PO & Pay',\n '1st Line 24/7 - PO',\n 'Integration Consultants – Managed Service',\n 'Projects DE - HBS',\n '1st Line DE - HBS',\n 'Integration Consultants – Connectivity',\n 'Integration Consultants – Managed Service',\n '1st & 2nd Line SE - TMS',\n '1st & 2nd Line SE - TMS',\n '1st & 2nd Line SE - TMS',\n '1st & 2nd Line SE - TMS',\n '1st & 2nd Line SE - TMS',\n 'Projects FI - Fastlane',\n '2nd Line - PO & Pay',\n 'Integration Consultants – Managed Service',\n '1st Line SE - PO & Pay',\n '1st Line SE - PO & Pay',\n '1st Line SE - PO & Pay',\n '1st Line 24/7 - PO',\n 'Integration Consultants – Implementation',\n 'Integration Consultants – Implementation',\n '1st Line SE - PO & Pay',\n '1st Line SE - PO & Pay',\n '1st Line 24/7 - PO',\n '1st Line SE - PO & Pay',\n '1st Line 24/7 - PO',\n '1st Line SE - PO & Pay',\n '1st Line SE - PO & Pay',\n '1st Line SE - PO & Pay',\n '1st Line SE - PO & Pay',\n '1st Line SE - PO & Pay',\n '1st Line FI - PO & HBS',\n '1st Line SE - PO & Pay',\n '1st Line FI - PO & HBS',\n 'Integration Consultants – Implementation',\n 'Integration Consultants – Implementation',\n '1st & 2nd Line SE - TMS',\n '2nd Line - PO & Pay',\n '1st & 2nd Line SE - TMS',\n '1st Line DE - HBS',\n '1st Line SE - PO & Pay',\n '1st & 2nd Line SE - TMS',\n '1st Line DE - HBS',\n '1st Line SE - PO & Pay',\n 'Integration Consultants – Implementation',\n '1st & 2nd Line SE - TMS',\n '1st & 2nd Line SE - TMS',\n '1st Line 24/7 - PO',\n '1st Line 24/7 - PO',\n '1st Line SE - PO & Pay',\n 'Integration Consultants – Connectivity',\n 'Data Capturing DE - HBS',\n 'Data Capturing DE - HBS',\n '1st & 2nd Line SE - TMS',\n '1st Line SE - PO & Pay',\n '1st Line ES - PO',\n 'Integration Consultants – Managed Service',\n '1st Line 24/7 - PO',\n '1st Line 24/7 - PO',\n 'Team Lead and Management',\n '3rd Line R&D - HBS',\n 'CI - HBS Projects',\n '1st Line SE - PO & Pay',\n 'Hawk',\n 'Hawk',\n 'Hawk',\n 'Hawk',\n '2nd Line - PO & Pay',\n '2nd Line - PO & Pay',\n '1st Line 24/7 - PO',\n '1st & 2nd Line SE - TMS',\n '1st Line SE - PO & Pay',\n '1st & 2nd Line SE - TMS',\n '2nd Line - PO & Pay',\n '2nd Line - PO & Pay',\n '2nd Line - PO & Pay',\n '2nd Line - PO & Pay',\n '2nd Line - PO & Pay',\n '2nd Line - PO & Pay',\n '2nd Line - PO & Pay',\n '2nd Line - PO & Pay',\n '2nd Line - PO & Pay',\n '1st Line 24/7 - PO',\n '1st Line SE - PO & Pay',\n '1st Line SE - PO & Pay',\n '1st Line 24/7 - PO',\n '1st Line SE - PO & Pay',\n '1st Line SE - PO & Pay',\n '1st Line SE - PO & Pay',\n '1st Line SE - PO & Pay',\n '1st Line DE - HBS',\n '1st Line SE - PO & Pay',\n '1st Line SE - PO & Pay',\n '1st Line FI - PO & HBS',\n '1st Line DE - HBS',\n '1st Line ES - PO',\n '2nd Line - PO & Pay',\n '2nd Line - PO & Pay',\n '1st Line SE - PO & Pay',\n '1st Line DE - HBS',\n '2nd Line - PO & Pay',\n '2nd Line - PO & Pay',\n '2nd Line - PO & Pay',\n '2nd Line - PO & Pay',\n '2nd Line DE - HBS',\n '1st Line DE - HBS',\n '2nd Line - PO & Pay',\n '1st & 2nd Line SE - TMS',\n '1st & 2nd Line SE - TMS',\n '2nd Line - PO & Pay',\n '3rd Line R&D - HBS',\n '1st Line SE - PO & Pay',\n '2nd Line - PO & Pay',\n 'Integration Consultants – Managed Service',\n '2nd Line - PO & Pay',\n '1st & 2nd Line SE - TMS',\n '1st & 2nd Line SE - TMS',\n '1st & 2nd Line SE - TMS',\n '1st Line SE - PO & Pay',\n '1st Line 24/7 - PO',\n '1st Line SE - PO & Pay',\n '1st Line SE - PO & Pay',\n '1st Line FI - PO & HBS',\n '1st & 2nd Line SE - TMS',\n '1st Line SE - PO & Pay',\n '2nd Line - PO & Pay',\n '1st Line SE - PO & Pay',\n '1st Line SE - PO & Pay',\n '1st Line SE - PO & Pay',\n '1st Line SE - PO & Pay',\n 'Integration Consultants – Implementation',\n '1st Line DE - HBS',\n '1st Line 24/7 - PO',\n '1st Line SE - PO & Pay',\n '1st Line DE - HBS',\n '1st Line SE - PO & Pay',\n '1st Line SE - PO & Pay',\n '1st Line SE - PO & Pay',\n '1st Line 24/7 - PO',\n '1st Line ES - PO',\n '1st Line 24/7 - PO',\n '1st Line 24/7 - PO',\n '1st Line 24/7 - PO',\n '2nd Line - PO & Pay',\n '2nd Line - PO & Pay',\n '2nd Line - PO & Pay',\n '1st Line 24/7 - PO',\n '1st Line ES - PO',\n '1st Line 24/7 - PO',\n '2nd Line - PO & Pay',\n '2nd Line - PO & Pay',\n '2nd Line - PO & Pay',\n '1st Line DE - HBS',\n '1st Line ES - PO',\n '1st Line SE - PO & Pay',\n '1st Line FR - PO',\n '1st Line SE - PO & Pay',\n '2nd Line - PO & Pay',\n '1st Line 24/7 - PO',\n '2nd Line - PO & Pay',\n '2nd Line - PO & Pay',\n '2nd Line - PO & Pay',\n '1st Line 24/7 - PO',\n '2nd Line - PO & Pay',\n '2nd Line - PO & Pay',\n '1st Line 24/7 - PO',\n '1st Line 24/7 - PO',\n '1st Line 24/7 - PO',\n '1st Line 24/7 - PO',\n '2nd Line - PO & Pay',\n '1st Line ES - PO',\n '2nd Line - PO & Pay',\n '2nd Line - PO & Pay',\n 'CI - HBS Projects',\n '1st Line 24/7 - PO',\n 'Integration Consultants – USA',\n 'Integration Consultants – USA',\n '1st Line FI - PO & HBS',\n '1st Line 24/7 - PO',\n '1st Line FI - PO & HBS',\n '1st Line 24/7 - PO',\n '1st Line ES - PO',\n '1st Line ES - PO',\n '1st Line 24/7 - PO',\n '1st Line DE - HBS',\n '2nd Line - PO & Pay',\n '1st Line FI - PO & HBS',\n '2nd Line - PO & Pay',\n '1st Line FI - PO & HBS',\n '1st Line DE - HBS',\n '1st Line DE - HBS',\n '1st Line 24/7 - PO',\n '2nd Line - PO & Pay',\n '1st Line 24/7 - PO',\n 'Integration Consultants – Connectivity',\n 'Integration Consultants – Connectivity',\n '2nd Line - PO & Pay',\n '1st Line 24/7 - PO',\n '1st Line 24/7 - PO',\n '2nd Line - PO & Pay',\n '2nd Line - PO & Pay',\n '2nd Line - PO & Pay',\n '1st Line 24/7 - PO',\n '1st Line 24/7 - PO',\n '1st Line 24/7 - PO',\n '1st Line 24/7 - PO',\n '2nd Line - PO & Pay',\n '2nd Line - PO & Pay',\n '2nd Line - PO & Pay',\n '2nd Line - PO & Pay',\n '2nd Line - PO & Pay',\n '2nd Line - PO & Pay',\n '1st Line 24/7 - PO',\n '1st Line 24/7 - PO',\n '1st Line 24/7 - PO',\n '1st Line 24/7 - PO',\n '2nd Line - PO & Pay',\n '2nd Line - PO & Pay',\n '1st Line 24/7 - PO',\n '1st Line 24/7 - PO',\n '1st Line 24/7 - PO',\n '1st Line FR - PO',\n '2nd Line - PO & Pay',\n '2nd Line - PO & Pay',\n '1st Line 24/7 - PO',\n '1st Line 24/7 - PO',\n '1st Line ES - PO',\n '2nd Line - PO & Pay',\n '2nd Line - PO & Pay',\n '2nd Line - PO & Pay',\n '1st Line 24/7 - PO',\n '2nd Line - PO & Pay',\n '2nd Line - PO & Pay',\n '2nd Line - PO & Pay',\n '1st Line 24/7 - PO',\n '2nd Line - PO & Pay',\n '1st Line 24/7 - PO',\n '1st Line 24/7 - PO',\n '1st Line 24/7 - PO',\n '1st Line 24/7 - PO',\n '1st Line 24/7 - PO',\n '1st Line 24/7 - PO',\n '1st Line 24/7 - PO',\n '1st Line 24/7 - PO',\n '1st Line 24/7 - PO',\n '1st Line 24/7 - PO',\n '1st Line 24/7 - PO',\n '1st Line 24/7 - PO',\n '1st Line 24/7 - PO',\n '1st Line 24/7 - PO',\n '2nd Line - PO & Pay',\n '2nd Line - PO & Pay',\n '2nd Line - PO & Pay',\n '1st Line 24/7 - PO',\n '1st Line 24/7 - PO',\n 'Integration Consultants – Connectivity',\n '1st Line 24/7 - PO',\n '1st Line SE - PO & Pay',\n '1st Line SE - PO & Pay',\n '1st Line SE - PO & Pay',\n '1st Line FI - PO & HBS',\n '1st Line FI - PO & HBS',\n '1st Line SE - PO & Pay',\n '1st Line SE - PO & Pay',\n '1st Line SE - PO & Pay',\n '1st Line SE - PO & Pay',\n '1st Line SE - PO & Pay',\n '1st Line SE - PO & Pay',\n '1st Line SE - PO & Pay',\n '1st Line SE - PO & Pay',\n '1st Line SE - PO & Pay',\n '1st Line 24/7 - PO',\n '1st Line SE - PO & Pay',\n '1st Line SE - PO & Pay',\n '1st Line SE - PO & Pay',\n '1st Line SE - PO & Pay',\n '1st Line SE - PO & Pay',\n '1st Line SE - PO & Pay',\n '1st Line SE - PO & Pay',\n '1st Line SE - PO & Pay',\n '1st Line SE - PO & Pay',\n '1st Line SE - PO & Pay',\n '1st Line FI - PO & HBS',\n 'Integration Core Specialists',\n '1st Line FI - PO & HBS',\n '1st Line SE - PO & Pay',\n 'Projects FI - Fastlane',\n '1st Line 24/7 - PO',\n '1st Line SE - PO & Pay',\n '1st Line SE - PO & Pay',\n '1st Line SE - PO & Pay',\n '1st Line FI - PO & HBS',\n '2nd Line - PO & Pay',\n '1st Line 24/7 - PO',\n '1st Line 24/7 - PO',\n '1st Line FI - PO & HBS',\n '1st Line DE - HBS',\n 'Integration Consultants – Connectivity',\n '1st Line FI - PO & HBS',\n '1st Line 24/7 - PO',\n '1st Line 24/7 - PO',\n '1st Line 24/7 - PO',\n '1st Line 24/7 - PO',\n '1st Line 24/7 - PO',\n '1st Line 24/7 - PO',\n '1st Line 24/7 - PO',\n '1st Line 24/7 - PO',\n '1st Line 24/7 - PO',\n '1st Line 24/7 - PO',\n '1st Line 24/7 - PO',\n '1st Line 24/7 - PO',\n '1st Line 24/7 - PO',\n '1st Line 24/7 - PO',\n '1st Line 24/7 - PO',\n '1st Line 24/7 - PO',\n '1st Line 24/7 - PO',\n '1st Line 24/7 - PO',\n '1st Line FI - PO & HBS',\n 'Projects FI - Fastlane',\n 'Projects FI - Fastlane',\n '1st Line SE - PO & Pay',\n '1st Line DE - HBS',\n '1st Line SE - PO & Pay',\n '2nd Line - PO & Pay',\n '2nd Line - PO & Pay',\n '1st Line FI - PO & HBS',\n '1st Line 24/7 - PO',\n '1st Line SE - PO & Pay',\n '1st Line FI - PO & HBS',\n '1st & 2nd Line SE - TMS',\n 'Integration Core Specialists',\n '1st & 2nd Line SE - TMS',\n '2nd Line - PO & Pay',\n '2nd Line DE - HBS',\n '1st Line SE - PO & Pay',\n '1st Line 24/7 - PO',\n '1st Line DE - HBS',\n 'Puffin',\n '1st Line FI - PO & HBS',\n '1st Line DE - HBS',\n '1st Line SE - PO & Pay',\n '1st Line SE - PO & Pay',\n '1st Line SE - PO & Pay',\n '1st Line FI - PO & HBS',\n '1st Line FI - PO & HBS',\n '1st Line 24/7 - PO',\n '1st Line FI - PO & HBS',\n '1st Line SE - PO & Pay',\n '1st Line SE - PO & Pay',\n '1st Line SE - PO & Pay',\n '1st Line SE - PO & Pay',\n '1st Line SE - PO & Pay',\n '1st Line 24/7 - PO',\n 'Projects FI - Fastlane',\n '1st Line 24/7 - PO',\n '1st Line 24/7 - PO',\n '1st Line SE - PO & Pay',\n '1st Line SE - PO & Pay',\n '1st Line FI - PO & HBS',\n '1st Line FI - PO & HBS',\n '1st Line SE - PO & Pay',\n '1st Line FI - PO & HBS',\n '1st Line FI - PO & HBS',\n '1st Line FI - PO & HBS',\n '1st & 2nd Line SE - TMS',\n '1st & 2nd Line SE - TMS',\n '1st Line FI - PO & HBS',\n '1st Line FI - PO & HBS',\n '1st Line SE - PO & Pay',\n '1st & 2nd Line SE - TMS',\n 'Team Lead and Management',\n '1st Line DE - HBS',\n 'Integration Consultants – Managed Service',\n '1st Line SE - PO & Pay',\n '1st Line SE - PO & Pay',\n 'Projects FI - Fastlane',\n '1st Line DE - HBS',\n '1st Line SE - PO & Pay',\n '1st Line SE - PO & Pay',\n '2nd Line - PO & Pay',\n 'Administrators',\n '1st Line SE - PO & Pay',\n 'Administrators',\n '1st Line SE - PO & Pay',\n '1st & 2nd Line SE - TMS',\n 'Projects FI - Fastlane',\n '1st Line DE - HBS',\n '1st Line SE - PO & Pay',\n '1st Line SE - PO & Pay',\n 'Projects FI - Fastlane',\n '1st & 2nd Line SE - TMS',\n '2nd Line - PO & Pay',\n '2nd Line - PO & Pay',\n '1st Line DE - HBS',\n '1st Line SE - PO & Pay',\n '1st Line 24/7 - PO',\n '1st & 2nd Line SE - TMS',\n '1st & 2nd Line SE - TMS',\n '2nd Line - PO & Pay',\n '1st Line SE - PO & Pay',\n '1st Line SE - PO & Pay',\n 'Team Lead and Management',\n '1st Line 24/7 - PO',\n '1st Line 24/7 - PO',\n '1st Line SE - PO & Pay',\n '2nd Line - PO & Pay',\n '1st & 2nd Line SE - TMS',\n '1st Line SE - PO & Pay',\n '1st Line FI - PO & HBS',\n 'Projects DE - HBS',\n '1st Line FI - PO & HBS',\n 'Projects FI - Fastlane',\n '2nd Line - PO & Pay',\n '1st Line SE - PO & Pay',\n 'Projects SE - Fastlane',\n 'Integration Consultants – Managed Service',\n 'Projects SE - Fastlane',\n 'Integration Consultants – Managed Service',\n 'Integration Core Specialists',\n 'Data Capturing DE - HBS',\n 'Integration Consultants – Managed Service',\n 'Projects DE - HBS',\n 'Projects SE - TMS',\n 'Integration Consultants – Implementation',\n 'Projects SE - TMS',\n 'Projects DE - HBS',\n 'Projects DE - HBS',\n 'Projects DE - HBS',\n 'Eagle',\n 'Eagle',\n 'Kingfisher',\n 'Projects DE - HBS',\n '1st Line SE - PO & Pay',\n 'Projects SE - TMS',\n 'Projects SE - TMS',\n '1st Line FI - PO & HBS',\n '1st Line FI - PO & HBS',\n '1st Line 24/7 - PO',\n 'Integration Consultants – Implementation',\n '1st Line SE - PO & Pay',\n '1st Line DE - HBS',\n 'Integration Consultants – Implementation',\n '1st Line DE - HBS',\n '1st Line FI - PO & HBS',\n '1st Line 24/7 - PO',\n '1st Line DE - HBS',\n '1st Line DE - HBS',\n '1st Line DE - HBS',\n 'Projects FI - Fastlane',\n '1st Line FI - PO & HBS',\n '1st Line FI - PO & HBS',\n '1st Line 24/7 - PO',\n '1st Line SE - PO & Pay',\n '1st Line FI - PO & HBS',\n 'Projects FI - Fastlane',\n '1st Line SE - PO & Pay',\n 'Integration Core Specialists',\n 'Projects FI - Fastlane',\n 'Integration Core Specialists',\n 'Projects FI - Fastlane',\n '1st Line 24/7 - PO',\n '1st Line FI - PO & HBS',\n '1st & 2nd Line SE - TMS',\n '1st & 2nd Line SE - TMS',\n '1st & 2nd Line SE - TMS',\n '1st & 2nd Line SE - TMS',\n '1st Line FI - PO & HBS',\n 'Integration Consultants – Connectivity',\n 'Integration Consultants – Connectivity',\n 'Integration Consultants – Connectivity',\n 'Integration Core Specialists',\n '2nd Line - PO & Pay',\n 'Integration Consultants – Connectivity',\n '1st Line 24/7 - PO',\n 'Integration Consultants – Managed Service',\n '1st Line SE - PO & Pay',\n '1st Line DE - HBS',\n '1st Line DE - HBS',\n '1st Line DE - HBS',\n '1st Line DE - HBS',\n '1st Line DE - HBS',\n '1st Line SE - PO & Pay',\n '1st Line SE - PO & Pay',\n '1st Line SE - PO & Pay',\n '1st Line 24/7 - PO',\n '1st Line 24/7 - PO',\n 'Integration Consultants – Connectivity',\n 'Integration Consultants – Implementation',\n ...]"
     },
     "execution_count": 69,
     "metadata": {},
     "output_type": "execute_result"
    }
   ],
   "source": [
    "teams_array"
   ],
   "metadata": {
    "collapsed": false,
    "ExecuteTime": {
     "end_time": "2023-12-05T04:23:12.372961405Z",
     "start_time": "2023-12-05T04:23:12.296635882Z"
    }
   },
   "id": "63c319ff7b3aefc8"
  },
  {
   "cell_type": "code",
   "execution_count": 70,
   "outputs": [
    {
     "data": {
      "text/plain": "9998"
     },
     "execution_count": 70,
     "metadata": {},
     "output_type": "execute_result"
    }
   ],
   "source": [
    "len(teams_array)"
   ],
   "metadata": {
    "collapsed": false,
    "ExecuteTime": {
     "end_time": "2023-12-05T04:23:12.373200123Z",
     "start_time": "2023-12-05T04:23:12.297013471Z"
    }
   },
   "id": "95640774e66b0584"
  },
  {
   "cell_type": "markdown",
   "source": [
    "### Preprocess"
   ],
   "metadata": {
    "collapsed": false
   },
   "id": "5f07e1a20e78f49f"
  },
  {
   "cell_type": "code",
   "execution_count": 71,
   "outputs": [],
   "source": [
    "import re\n",
    "\n",
    "def preprocess_sentence(text):\n",
    "    text = re.sub(r\"\\S{21,}\", \" \", text)\n",
    "    text = ' '.join(re.findall(r'\\b[a-zA-ZäöåÄÖÅ]+\\b', text))\n",
    "    text = re.sub(r'\\s+', ' ', text).strip()\n",
    "    return text"
   ],
   "metadata": {
    "collapsed": false,
    "ExecuteTime": {
     "end_time": "2023-12-05T04:23:12.396693880Z",
     "start_time": "2023-12-05T04:23:12.302767880Z"
    }
   },
   "id": "345dedda61721320"
  },
  {
   "cell_type": "code",
   "execution_count": 72,
   "outputs": [],
   "source": [
    "def preprocess_sentences(sentences):\n",
    "    new_sentences = []\n",
    "    for sentence in sentences:\n",
    "        new_sentences.append(preprocess_sentence(sentence))\n",
    "    return new_sentences"
   ],
   "metadata": {
    "collapsed": false,
    "ExecuteTime": {
     "end_time": "2023-12-05T04:23:12.397201082Z",
     "start_time": "2023-12-05T04:23:12.347861377Z"
    }
   },
   "id": "cfc9c7b91f59ff64"
  },
  {
   "cell_type": "code",
   "execution_count": 73,
   "outputs": [],
   "source": [
    "subject_array = preprocess_sentences(subject_array)"
   ],
   "metadata": {
    "collapsed": false,
    "ExecuteTime": {
     "end_time": "2023-12-05T04:23:12.446798399Z",
     "start_time": "2023-12-05T04:23:12.348024197Z"
    }
   },
   "id": "20775b7fe10a394f"
  },
  {
   "cell_type": "code",
   "execution_count": 74,
   "outputs": [],
   "source": [
    "description_array = preprocess_sentences(description_array)"
   ],
   "metadata": {
    "collapsed": false,
    "ExecuteTime": {
     "end_time": "2023-12-05T04:23:13.030349038Z",
     "start_time": "2023-12-05T04:23:12.395873123Z"
    }
   },
   "id": "8b0d959438fe9f46"
  },
  {
   "cell_type": "code",
   "execution_count": 75,
   "outputs": [],
   "source": [
    "special_token = ['<PAD>', '<EOS>', '<OUT>', '<SOS>', '<ST>']"
   ],
   "metadata": {
    "collapsed": false,
    "ExecuteTime": {
     "end_time": "2023-12-05T04:23:13.054143277Z",
     "start_time": "2023-12-05T04:23:13.031308599Z"
    }
   },
   "id": "5ef3ee014acd929f"
  },
  {
   "cell_type": "code",
   "execution_count": 76,
   "outputs": [],
   "source": [
    "tokenizer = tfds.deprecated.text.SubwordTextEncoder.build_from_corpus(\n",
    "    special_token + subject_array + description_array, target_vocab_size=2**18)"
   ],
   "metadata": {
    "collapsed": false,
    "ExecuteTime": {
     "end_time": "2023-12-05T04:23:52.746778505Z",
     "start_time": "2023-12-05T04:23:13.055066809Z"
    }
   },
   "id": "c1254b18579f39d5"
  },
  {
   "cell_type": "code",
   "execution_count": 77,
   "outputs": [],
   "source": [
    "VOCAB_SIZE = tokenizer.vocab_size"
   ],
   "metadata": {
    "collapsed": false,
    "ExecuteTime": {
     "end_time": "2023-12-05T04:23:52.796535024Z",
     "start_time": "2023-12-05T04:23:52.788536813Z"
    }
   },
   "id": "6208ff4fc1c30506"
  },
  {
   "cell_type": "code",
   "execution_count": 78,
   "outputs": [
    {
     "name": "stdout",
     "output_type": "stream",
     "text": [
      "46994\n"
     ]
    }
   ],
   "source": [
    "print(VOCAB_SIZE)"
   ],
   "metadata": {
    "collapsed": false,
    "ExecuteTime": {
     "end_time": "2023-12-05T04:23:52.797754614Z",
     "start_time": "2023-12-05T04:23:52.789426056Z"
    }
   },
   "id": "acde95b293bb3039"
  },
  {
   "cell_type": "code",
   "execution_count": 79,
   "outputs": [],
   "source": [
    "label_encoder = LabelEncoder()\n",
    "encoded_labels = label_encoder.fit_transform(teams_array)"
   ],
   "metadata": {
    "collapsed": false,
    "ExecuteTime": {
     "end_time": "2023-12-05T04:23:52.798110278Z",
     "start_time": "2023-12-05T04:23:52.790170597Z"
    }
   },
   "id": "78e82f6c128b86d5"
  },
  {
   "cell_type": "code",
   "execution_count": 80,
   "outputs": [],
   "source": [
    "total_teams = len(label_encoder.classes_)"
   ],
   "metadata": {
    "collapsed": false,
    "ExecuteTime": {
     "end_time": "2023-12-05T04:23:52.798407339Z",
     "start_time": "2023-12-05T04:23:52.790662434Z"
    }
   },
   "id": "f1301044f576f0fa"
  },
  {
   "cell_type": "code",
   "execution_count": 81,
   "outputs": [],
   "source": [
    "from datetime import  datetime\n",
    "# \n",
    "now = datetime.now()\n",
    "# tokenizer.save_to_file('./dictionary_'+ now.strftime(\"%m %d %Y, %H:%M:%S\"))"
   ],
   "metadata": {
    "collapsed": false,
    "ExecuteTime": {
     "end_time": "2023-12-05T04:23:52.798644316Z",
     "start_time": "2023-12-05T04:23:52.791096728Z"
    }
   },
   "id": "a1ccd2eaddf87d2"
  },
  {
   "cell_type": "code",
   "execution_count": 82,
   "outputs": [],
   "source": [
    "subwords = tokenizer.subwords\n",
    "\n",
    "# Step 3: Sort the subwords\n",
    "subwords.sort()\n",
    "\n",
    "# Step 4: Save the sorted subwords to a file\n",
    "file_path = './dictionary_'+ now.strftime(\"%m %d %Y, %H:%M:%S\")\n",
    "with open(file_path, \"w\", encoding=\"utf-8\") as file:\n",
    "    for subword in subwords:\n",
    "        file.write(subword + \"\\n\")"
   ],
   "metadata": {
    "collapsed": false,
    "ExecuteTime": {
     "end_time": "2023-12-05T04:23:52.798874211Z",
     "start_time": "2023-12-05T04:23:52.791621204Z"
    }
   },
   "id": "97afafe658666166"
  },
  {
   "cell_type": "code",
   "execution_count": 83,
   "outputs": [],
   "source": [
    "START_TOKEN, END_TOKEN , SUBJECT_TOKEN = [tokenizer.vocab_size], [tokenizer.vocab_size + 1] , [tokenizer.vocab_size + 2]"
   ],
   "metadata": {
    "collapsed": false,
    "ExecuteTime": {
     "end_time": "2023-12-05T04:23:52.841649033Z",
     "start_time": "2023-12-05T04:23:52.805789280Z"
    }
   },
   "id": "d2fe9dffcc85795c"
  },
  {
   "cell_type": "code",
   "execution_count": 84,
   "outputs": [],
   "source": [
    "def concat_subject_and_description(subjects, descriptions):\n",
    "    inputs = []\n",
    "    for (subject, description) in zip(subjects, descriptions):\n",
    "        input = ' <ST> '+ subject + ' <ST> ' + description\n",
    "        inputs.append(input)\n",
    "    return inputs\n",
    "\n",
    "ticket_input = concat_subject_and_description(subject_array, description_array)"
   ],
   "metadata": {
    "collapsed": false,
    "ExecuteTime": {
     "end_time": "2023-12-05T04:23:52.862031760Z",
     "start_time": "2023-12-05T04:23:52.817208558Z"
    }
   },
   "id": "e32651175844558b"
  },
  {
   "cell_type": "code",
   "execution_count": 85,
   "outputs": [],
   "source": [
    "def maximum_input_size(inputs):\n",
    "    max = len(tokenizer.encode(inputs[0]))\n",
    "    sentence = ''\n",
    "    for element in inputs:\n",
    "        tokens = tokenizer.encode(element)\n",
    "        if max > len(tokens):\n",
    "            max = max\n",
    "        else:\n",
    "            max = len(tokens)\n",
    "            sentence = element\n",
    "\n",
    "    return max , sentence\n",
    "\n",
    "MAX_LENGTH , sentence = maximum_input_size(ticket_input)\n"
   ],
   "metadata": {
    "collapsed": false,
    "ExecuteTime": {
     "end_time": "2023-12-05T04:23:54.458145804Z",
     "start_time": "2023-12-05T04:23:52.907775499Z"
    }
   },
   "id": "27fdd7be7e6168e6"
  },
  {
   "cell_type": "code",
   "execution_count": 86,
   "outputs": [
    {
     "name": "stdout",
     "output_type": "stream",
     "text": [
      "3737\n"
     ]
    },
    {
     "data": {
      "text/plain": "' <ST> request faturas rejeitadas stryker portugal produtos medicos lda <ST> estimado cliente dear customer pt obrigado pelo seu contato esta uma resposta que confirma o registo do caso na saphety com o o seu tempo importante para iremos analisar o seu pedido e responder lhe com a maior brevidade para garantir uma sempre que solicitamos a do completo do documento sem os nif emissor recetor uma imagem do erro estaremos sempre se pretender prestar receber adicional sobre este caso por favor responda a este e mail en information thank you for your contact this is an automated response that confirms saphety case registration your ticket number is your time is important to us we will analise your request and an answer will be given as soon as possible to ensure a quick analysis whenever aplicable please suply the following information the complete document number without abbreviations sender receiver vat an image of the error we will always be available if you wish to provide receive additional information on this case please reply to this email es gracias por tu contacto esta es una respuesta que confirma el registro del caso en saphety con el su tiempo es importante para nosotros revisaremos su pedido y le responderemos lo antes posible para garantizar un cuando se aplique solicitamos la el completo del documento sin abreviaturas cif emisor receptor una imagen del error siempre estaremos disponibles si desea proporcionar recibir adicional sobre este caso por favor responda a este e mail atentamente best regards saludos saphety customer support contactsa sua mensagem your message su mensaje from support pagero com date to cc subject request faturas rejeitadas stryker portugal produtos medicos lda description warning this email is originated from outside your organization do not click on any links or open attachments unless you recognize the sender and know the content is safe please type your reply above this line pagero dear customer your request has been updated to add additional comments click the link or reply to this email pagero recommends that you follow the link above to our support center for the best support experience there you can create new support requests handle and follow their status the pagero support center provides you with a great overview of all your support requests daniel blanco pagero support center apr gmt good afternoon saphety kind reminder of tha last request we sent you as indicated by your feedback on this matter it seems that the connections between the entites involved in the rejected documents will need to be created again however we checked in our system and found previous replies and emails where you state that these connections were indeed confirmed and activated for the following entities chmt centro hospitalar tejo e p e hospital distrital da figueira da foz epe hospital fernando fonseca amadora sintra de santarem de vila franca de xira epe instituto de oncologia de francisco gentil epe de coimbra comunidade intermunicipal do alentejo cent de albufeira de coruche de santarem de alcanena hospitalar de leiria e p e centro hospitalar baixo vouga e p e de oncologia de lisboa francisco gentil e p e local de de castelo branco epe hospital santa maria maior epe hospitalar lisboa norte epe unidade de local da guarda epe joaquim chaves europa could you clarify thank you for your cooperation and let us know if you need something more from our side best regards saludos cordiales daniel blanco pagero pagero support jerez pagero support center apr gmt good afternoon saphety kind reminder of tha last request we sent you as indicated by your feedback on this matter it seems that the connections between the entites involved in the rejected documents will need to be created again however we checked in our system and found previous replies and emails where you state that these connections were indeed confirmed and activated for the following entities chmt centro hospitalar tejo e p e hospital distrital da figueira da foz epe hospital fernando fonseca amadora sintra de santarem de vila franca de xira epe instituto de oncologia de francisco gentil epe de coimbra comunidade intermunicipal do alentejo cent de albufeira de coruche de santarem de alcanena hospitalar de leiria e p e centro hospitalar baixo vouga e p e de oncologia de lisboa francisco gentil e p e local de de castelo branco epe hospital santa maria maior epe hospitalar lisboa norte epe unidade de local da guarda epe joaquim chaves europa could you clarify thank you for your cooperation and let us know if you need something more from our side best regards saludos cordiales jerez pagero pagero support andrei ghitcu pagero support center apr gmt good afternoon saphety kind reminder of tha last request we sent you as indicated by your feedback on this matter it seems that the connections between the entites involved in the rejected documents will need to be created again however we checked in our system and found previous replies and emails where you state that these connections were indeed confirmed and activated for the following entities chmt centro hospitalar tejo e p e hospital distrital da figueira da foz epe hospital fernando fonseca amadora sintra de santarem de vila franca de xira epe instituto de oncologia de francisco gentil epe de coimbra comunidade intermunicipal do alentejo cent de albufeira de coruche de santarem de alcanena hospitalar de leiria e p e centro hospitalar baixo vouga e p e de oncologia de lisboa francisco gentil e p e local de de castelo branco epe hospital santa maria maior epe hospitalar lisboa norte epe unidade de local da guarda epe joaquim chaves europa could you clarify thank you for your cooperation and let us know if you need something more from our side best regards saludos cordiales andrei ghitcu pagero pagero support saphety customer support mar gmt cliente dear customer pt obrigado pelo seu contato esta uma resposta que confirma o registo do caso na saphety com o o seu tempo importante para iremos analisar o seu pedido e responder lhe com a maior brevidade para garantir uma sempre que solicitamos a do completo do documento sem os nif emissor recetor uma imagem do erro estaremos sempre se pretender prestar receber adicional sobre este caso por favor responda a este e mail en information thank you for your contact this is an automated response that confirms saphety case registration your ticket number is your time is important to us we will analise your request and an answer will be given as soon as possible to ensure a quick analysis whenever aplicable please suply the following information the complete document number without vat an image of the error we will always be available if you wish to provide receive additional information on this case please reply to this email es gracias por tu contacto esta es una respuesta que confirma el registro del caso en saphety con el su tiempo es importante para nosotros revisaremos su pedido y le responderemos lo antes posible para garantizar un cuando se aplique solicitamos la el completo del documento sin abreviaturas cif emisor receptor una imagen del error siempre estaremos disponibles si desea proporcionar recibir adicional sobre este caso por favor responda a este e mail atentamente best regards saludos saphety customer support contactsa sua mensagem your message su mensaje maria pagero support center mar gmt dear saphety as indicated by your feedback on this matter it seems that the connections between the entites involved in the rejected documents will need to be created again however we checked in our system and found previous replies and emails where you state that these connections were indeed confirmed and actived for the following enteties chmt centro hospitalar tejo e p e hospital distrital da figueira da foz epe hospital fernando fonseca amadora sintra de santarem de vila franca de xira epe instituto de oncologia de francisco gentil epe de coimbra comunidade intermunicipal do alentejo cent de albufeira de coruche de santarem de alcanena hospitalar de leiria e p e centro hospitalar baixo vouga e p e de oncologia de lisboa francisco gentil e p e local de de castelo branco epe hospital santa maria maior epe hospitalar lisboa norte epe unidade de local da guarda epe joaquim chaves europa could you clarify thank you for your cooperation and let us know if you need something more from our side best regards saludos cordiales atentamente maria pagero pagero support saphety customer support mar gmt good morning thank you for contacting us as indicated previously in the first answer the connections were not created they were completed and the documents received successfully once the documents are rejected the client must validate with the hospital the reason for rejecting the documents best regards saphety customer support original message warning this email is originated from outside your organization do not click on any links or open attachments unless you recognize the sender and know the content is safe saphety customer support mar gmt cliente dear customer pt obrigado pelo seu contato esta uma resposta que confirma o registo do caso na saphety com o o seu tempo importante para iremos analisar o seu pedido e responder lhe com a maior brevidade para garantir uma sempre que solicitamos a do completo do documento sem os nif emissor recetor uma imagem do erro estaremos sempre se pretender prestar receber adicional sobre este caso por favor responda a este e mail en information thank you for your contact this is an automated response that confirms saphety case registration your ticket number is your time is important to us we will analise your request and an answer will be given as soon as possible to ensure a quick analysis whenever aplicable please suply the following information the complete document number without vat an image of the error we will always be available if you wish to provide receive additional information on this case please reply to this email es gracias por tu contacto esta es una respuesta que confirma el registro del caso en saphety con el su tiempo es importante para nosotros revisaremos su pedido y le responderemos lo antes posible para garantizar un cuando se aplique solicitamos la el completo del documento sin abreviaturas cif emisor receptor una imagen del error siempre estaremos disponibles si desea proporcionar recibir adicional sobre este caso por favor responda a este e mail atentamente best regards saludos saphety customer support contactsa sua mensagem your message su mensaje daniel blanco pagero support center mar gmt estimada saphety relativamente aos documentos que tem sido rejeitados provienientes no nosso cliente stryker portugal produtos medicos lda recebemos a seguinte resposta da vossa parte no passado dia de fevereiro onde confirmavam que o problema era originado do vosso lado bom dia agradecemos o vosso contacto informamos que algumas para a entidade striker foram atualizadas e desconfiguradas entretanto foram restabelecidas as com as entidades abaixo e nesse sentido solicitamos que reenviem os documentos que entendam no entanto ontem obtivemos a seguinte resposta onde indicam que afinal o erro acontece uma vez que as entidades mencionadas tem estabelecida regarding your inquiry we inform you that the entity stryker portugal produtos lda isn t connected to the entities considered in the e mail below to establish the connection between the designated entities you must use the form that was previously sent to you tendo em conta que as respostas poderiam nos indicar qual correcta aguardamos resposta best regards saludos cordiales daniel blanco pagero pagero support saphety customer support mar gmt cliente dear customer parent case pt informamos que a que no dia se encontra a ser acompanhada no caso n e respondida no do mesmo dado feedback assim que a ou caso seja adicional en information please be advised that the situation you on is being followed in feedback will be given as soon as the resolution is completed or additional information is required es tenga en cuenta que se siguiendo la que el en el los comentarios se tan pronto como se complete la o se requiera adicional atentamente best regards saludos saphety customer support contactsa sua mensagem your message su mensaje from request faturas rejeitadas stryker portugal produtos medicos lda saphety customer support mar gmt cliente dear customer parent case pt informamos que a que no dia se encontra a ser acompanhada no caso n e respondida no do mesmo dado feedback assim que a ou caso seja adicional en information please be advised that the situation you on is being followed in feedback will be given as soon as the resolution is completed or additional information is required es tenga en cuenta que se siguiendo la que el en el los comentarios se tan pronto como se complete la o se requiera adicional atentamente best regards saludos saphety customer support contactsa sua mensagem your message su mensaje from request faturas rejeitadas stryker portugal produtos medicos lda saphety customer support mar gmt cliente dear customer pt obrigado pelo seu contato esta uma resposta que confirma o registo do caso na saphety com o o seu tempo importante para iremos analisar o seu pedido e responder lhe com a maior brevidade para garantir uma sempre que solicitamos a do completo do documento sem os nif emissor recetor uma imagem do erro estaremos sempre se pretender prestar receber adicional sobre este caso por favor responda a este e mail en information thank you for your contact this is an automated response that confirms saphety case registration your ticket number is your time is important to us we will analise your request and an answer will be given as soon as possible to ensure a quick analysis whenever aplicable please suply the following information the complete document number without vat an image of the error we will always be available if you wish to provide receive additional information on this case please reply to this email es gracias por tu contacto esta es una respuesta que confirma el registro del caso en saphety con el su tiempo es importante para nosotros revisaremos su pedido y le responderemos lo antes posible para garantizar un cuando se aplique solicitamos la el completo del documento sin abreviaturas cif emisor receptor una imagen del error siempre estaremos disponibles si desea proporcionar recibir adicional sobre este caso por favor responda a este e mail atentamente best regards saludos saphety customer support contactsa sua mensagem your message su mensaje daniel blanco pagero support center mar gmt estimada saphety relativamente aos documentos que tem sido rejeitados provienientes no nosso cliente stryker portugal produtos medicos lda recebemos a seguinte resposta da vossa parte no passado dia de fevereiro onde confirmavam que o problema era originado do vosso lado bom dia agradecemos o vosso contacto informamos que algumas para a entidade striker foram atualizadas e desconfiguradas entretanto foram restabelecidas as com as entidades abaixo e nesse sentido solicitamos que reenviem os documentos que entendam no entanto ontem obtivemos a seguinte resposta onde indicam que afinal o erro acontece uma vez que as entidades mencionadas tem estabelecida regarding your inquiry we inform you that the entity stryker portugal produtos lda isn t connected to the entities considered in the e mail below to establish the connection between the designated entities you must use the form that was previously sent to you tendo em conta que as respostas poderiam nos indicar qual correcta aguardamos resposta best regards saludos cordiales daniel blanco pagero pagero support saphety customer support mar gmt cliente dear customer pt obrigado pelo seu contato esta uma resposta que confirma o registo do caso na saphety com o o seu tempo importante para iremos analisar o seu pedido e responder lhe com a maior brevidade para garantir uma sempre que solicitamos a do completo do documento sem os nif emissor recetor uma imagem do erro estaremos sempre se pretender prestar receber adicional sobre este caso por favor responda a este e mail en information thank you for your contact this is an automated response that confirms saphety case registration your ticket number is your time is important to us we will analise your request and an answer will be given as soon as possible to ensure a quick analysis whenever aplicable please suply the following information the complete document number without vat an image of the error we will always be available if you wish to provide receive additional information on this case please reply to this email es gracias por tu contacto esta es una respuesta que confirma el registro del caso en saphety con el su tiempo es importante para nosotros revisaremos su pedido y le responderemos lo antes posible para garantizar un cuando se aplique solicitamos la el completo del documento sin abreviaturas cif emisor receptor una imagen del error siempre estaremos disponibles si desea proporcionar recibir adicional sobre este caso por favor responda a este e mail atentamente best regards saludos saphety customer support contactsa sua mensagem your message su mensaje jason tetzlaff pagero support center mar gmt hello that doesnt make much sense the last message we have received from you in portuguese bom dia agradecemos o vosso contacto informamos que algumas para a entidade striker foram atualizadas e desconfiguradas entretanto foram restabelecidas as com as entidades abaixo e nesse sentido solicitamos que reenviem os documentos que entendam which roughly translates to good morning thank you for your contact after analysis we inform that some connections for the striker entity were updated and misconfigured however the connections with the entities below were restored and in this regard you should resend the documents which one is the correct response your last response or the one we received at first kind regards best regards saludos cordiales jason tetzlaff pagero pagero support saphety customer support mar gmt hello jason thank you for your contact regarding your inquiry we inform you that the entity stryker portugal produtos lda isn t connected to the entities considered in the e mail below to establish the connection between the designated entities you must use the form that was previously sent to you please let us know if you have any further questions best regards petra nascimentosaphety customer support original message warning this email is originated from outside your organization do not click on any links or open attachments unless you recognize the sender and know the content is safe saphety customer support mar gmt cliente dear customer parent case pt informamos que a que no dia se encontra a ser acompanhada no caso n e respondida no do mesmo dado feedback assim que a ou caso seja adicional en information please be advised that the situation you on is being followed in feedback will be given as soon as the resolution is completed or additional information is required es tenga en cuenta que se siguiendo la que el en el los comentarios se tan pronto como se complete la o se requiera adicional atentamente best regards saludos saphety customer support contactsa sua mensagem your message su mensaje from request faturas rejeitadas stryker portugal produtos medicos lda saphety customer support feb gmt cliente dear customer pt obrigado pelo seu contato esta uma resposta que confirma o registo do caso na saphety com o o seu tempo importante para iremos analisar o seu pedido e responder lhe com a maior brevidade para garantir uma sempre que solicitamos a do completo do documento sem os nif emissor recetor uma imagem do erro estaremos sempre se pretender prestar receber adicional sobre este caso por favor responda a este e mail en information thank you for your contact this is an automated response that confirms saphety case registration your ticket number is your time is important to us we will analise your request and an answer will be given as soon as possible to ensure a quick analysis whenever aplicable please suply the following information the complete document number without vat an image of the error we will always be available if you wish to provide receive additional information on this case please reply to this email es gracias por tu contacto esta es una respuesta que confirma el registro del caso en saphety con el su tiempo es importante para nosotros revisaremos su pedido y le responderemos lo antes posible para garantizar un cuando se aplique solicitamos la el completo del documento sin abreviaturas cif emisor receptor una imagen del error siempre estaremos disponibles si desea proporcionar recibir adicional sobre este caso por favor responda a este e mail atentamente best regards saludos saphety customer support contactsa sua mensagem your message su mensaje maria pagero support center feb gmt estimada saphety infelizmente os documentos mencionados abaixo enviados pelo nosso cliente stryker portugal produtos medicos lda continuam a ser rejeitados do vosso lado com o seguinte erro error the document sender belong to an another network and there is no integration connection defined between the sender and the error entities aren t connected by mais de faturas foram reenviadas sem sucesso seria verificarem novamente a e corrigir o problema obrigada pela best regards saludos cordiales atentamente maria pagero pagero support saphety customer support feb gmt bom dia agradecemos o vosso contacto informamos que algumas para a entidade striker foram atualizadas e desconfiguradas entretanto foram restabelecidas as com as entidades abaixo e nesse sentido solicitamos que reenviem os documentos que entendam atentamente carlos almeida saphety customer support original message warning this email is originated from outside your organization do not click on any links or open attachments unless you recognize the sender and know the content is safe saphety customer support feb gmt cliente dear customer pt obrigado pelo seu contato esta uma resposta que confirma o registo do caso na saphety com o o seu tempo importante para iremos analisar o seu pedido e responder lhe com a maior brevidade para garantir uma sempre que solicitamos a do completo do documento sem os nif emissor recetor uma imagem do erro estaremos sempre se pretender prestar receber adicional sobre este caso por favor responda a este e mail en information thank you for your contact this is an automated response that confirms saphety case registration your ticket number is your time is important to us we will analise your request and an answer will be given as soon as possible to ensure a quick analysis whenever aplicable please suply the following information the complete document num'"
     },
     "execution_count": 86,
     "metadata": {},
     "output_type": "execute_result"
    }
   ],
   "source": [
    "print(MAX_LENGTH)\n",
    "MAX_LENGTH = MAX_LENGTH + 3\n",
    "sentence\n",
    "# print(sentence)"
   ],
   "metadata": {
    "collapsed": false,
    "ExecuteTime": {
     "end_time": "2023-12-05T04:23:54.466766898Z",
     "start_time": "2023-12-05T04:23:54.459516453Z"
    }
   },
   "id": "88c0a1bca517ea8e"
  },
  {
   "cell_type": "code",
   "execution_count": 87,
   "outputs": [],
   "source": [
    "# unique_teams = sorted(list(set(teams_array)))\n",
    "# unique_teams"
   ],
   "metadata": {
    "collapsed": false,
    "ExecuteTime": {
     "end_time": "2023-12-05T04:23:54.466945884Z",
     "start_time": "2023-12-05T04:23:54.464169269Z"
    }
   },
   "id": "93e480a309ed5295"
  },
  {
   "cell_type": "code",
   "execution_count": 88,
   "outputs": [],
   "source": [
    "# Tokenize, filter and pad sentences\n",
    "def tokenize_and_filter(inputs, outputs):\n",
    "    tokenized_inputs,labeled_team = [], []\n",
    "\n",
    "    for (sentence1, team) in zip(inputs, outputs):\n",
    "        # tokenize sentence\n",
    "        sentence1 = START_TOKEN + tokenizer.encode(sentence1) + END_TOKEN\n",
    "        # sentence2 = START_TOKEN + tokenizer.encode(sentence2) + END_TOKEN\n",
    "        team = label_encoder.transform([team])\n",
    "        # check tokenized sentence max length\n",
    "        if len(sentence1) <= MAX_LENGTH:\n",
    "            tokenized_inputs.append(sentence1)\n",
    "            labeled_team.append(team[0])\n",
    "\n",
    "    # pad tokenized sentences\n",
    "    tokenized_inputs = tf.keras.preprocessing.sequence.pad_sequences(\n",
    "        tokenized_inputs, maxlen=MAX_LENGTH, padding='post')\n",
    "\n",
    "    return tokenized_inputs, labeled_team\n",
    "\n",
    "\n",
    "questions, answers = tokenize_and_filter(ticket_input, teams_array)"
   ],
   "metadata": {
    "collapsed": false,
    "ExecuteTime": {
     "end_time": "2023-12-05T04:23:56.563923852Z",
     "start_time": "2023-12-05T04:23:54.513378844Z"
    }
   },
   "id": "fcf32318c558f637"
  },
  {
   "cell_type": "code",
   "execution_count": 89,
   "outputs": [],
   "source": [
    "# for (a,b) in zip(teams_array, answers):\n",
    "#     print(a,b)"
   ],
   "metadata": {
    "collapsed": false,
    "ExecuteTime": {
     "end_time": "2023-12-05T04:23:56.572585129Z",
     "start_time": "2023-12-05T04:23:56.564166698Z"
    }
   },
   "id": "77a5d7776ec6d2af"
  },
  {
   "cell_type": "code",
   "execution_count": 90,
   "outputs": [],
   "source": [
    "data_to_save = {\n",
    "    'questions': questions,\n",
    "    'answers': answers,\n",
    "    'VOCAB_SIZE': VOCAB_SIZE,\n",
    "    'total_teams': total_teams\n",
    "}"
   ],
   "metadata": {
    "collapsed": false,
    "ExecuteTime": {
     "end_time": "2023-12-05T04:23:56.572890593Z",
     "start_time": "2023-12-05T04:23:56.566886614Z"
    }
   },
   "id": "a6a80a5c19431885"
  },
  {
   "cell_type": "code",
   "execution_count": 91,
   "outputs": [],
   "source": [
    "import pickle\n",
    "with open('data1.pkl', 'wb') as file:\n",
    "    pickle.dump(data_to_save, file)\n",
    "\n",
    "# Load the data from the pickle file\n",
    "with open('data1.pkl', 'rb') as file:\n",
    "    loaded_data = pickle.load(file)"
   ],
   "metadata": {
    "collapsed": false,
    "ExecuteTime": {
     "end_time": "2023-12-05T04:23:56.818372109Z",
     "start_time": "2023-12-05T04:23:56.573633010Z"
    }
   },
   "id": "b43cb5aba13ca6bc"
  },
  {
   "cell_type": "code",
   "execution_count": 92,
   "outputs": [
    {
     "name": "stdout",
     "output_type": "stream",
     "text": [
      "Loaded Array 1: [46994 46770 46798 ...     0     0     0]\n",
      "Loaded Array 2: 8\n",
      "Loaded Variable: 46994\n",
      "total teams: 55\n"
     ]
    }
   ],
   "source": [
    "loaded_array1 = loaded_data['questions']\n",
    "loaded_array2 = loaded_data['answers']\n",
    "loaded_variable = loaded_data['VOCAB_SIZE']\n",
    "total_teams = loaded_data['total_teams']\n",
    "\n",
    "# Print the loaded arrays and variable\n",
    "print(\"Loaded Array 1:\", loaded_array1[0])\n",
    "print(\"Loaded Array 2:\", loaded_array2[0])\n",
    "print(\"Loaded Variable:\", loaded_variable)\n",
    "print(\"total teams:\", total_teams)"
   ],
   "metadata": {
    "collapsed": false,
    "ExecuteTime": {
     "end_time": "2023-12-05T04:23:56.837310567Z",
     "start_time": "2023-12-05T04:23:56.828503593Z"
    }
   },
   "id": "f7084635dc8ee56b"
  }
 ],
 "metadata": {
  "kernelspec": {
   "display_name": "Python 3",
   "language": "python",
   "name": "python3"
  },
  "language_info": {
   "codemirror_mode": {
    "name": "ipython",
    "version": 2
   },
   "file_extension": ".py",
   "mimetype": "text/x-python",
   "name": "python",
   "nbconvert_exporter": "python",
   "pygments_lexer": "ipython2",
   "version": "2.7.6"
  }
 },
 "nbformat": 4,
 "nbformat_minor": 5
}
