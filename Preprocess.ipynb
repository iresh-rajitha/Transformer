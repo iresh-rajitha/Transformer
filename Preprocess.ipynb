{
 "cells": [
  {
   "cell_type": "code",
   "execution_count": 37,
   "id": "initial_id",
   "metadata": {
    "collapsed": true,
    "ExecuteTime": {
     "end_time": "2023-12-04T20:11:08.484342687Z",
     "start_time": "2023-12-04T20:11:08.437993327Z"
    }
   },
   "outputs": [],
   "source": [
    "import numpy as np\n",
    "import tensorflow_datasets as tfds\n",
    "import pandas as pd\n",
    "import tensorflow as tf\n",
    "from sklearn.preprocessing import LabelEncoder"
   ]
  },
  {
   "cell_type": "code",
   "execution_count": 38,
   "outputs": [],
   "source": [
    "# data_set_url = '/home/ireshr/PageroLabs/Full_dataset/secure_archive/dataset.csv'\n",
    "data_set_url = '/home/ireshr/PageroLabs/11-1/dataset_acrhive/processed-dataset.csv'\n",
    "b_data=pd.read_csv( data_set_url , lineterminator='\\n' , header = None)\n",
    "b_data=b_data.astype(str)"
   ],
   "metadata": {
    "collapsed": false,
    "ExecuteTime": {
     "end_time": "2023-12-04T20:11:09.004062035Z",
     "start_time": "2023-12-04T20:11:08.442511288Z"
    }
   },
   "id": "7aaa67722b31128c"
  },
  {
   "cell_type": "code",
   "execution_count": 39,
   "outputs": [],
   "source": [
    "MAX_SAMPLES = 10000"
   ],
   "metadata": {
    "collapsed": false,
    "ExecuteTime": {
     "end_time": "2023-12-04T20:11:09.004479174Z",
     "start_time": "2023-12-04T20:11:08.607358906Z"
    }
   },
   "id": "b07e33c8609ce7cc"
  },
  {
   "cell_type": "markdown",
   "source": [
    "### Fetch Data"
   ],
   "metadata": {
    "collapsed": false
   },
   "id": "c4ed1e40e3f931e7"
  },
  {
   "cell_type": "code",
   "execution_count": 40,
   "outputs": [],
   "source": [
    "subject_array = b_data[2][1:].tolist()\n",
    "description_array = b_data[3][1:].tolist()\n",
    "teams_array = b_data[4][1:].tolist()\n",
    "# teams = b_data[3][:10000]"
   ],
   "metadata": {
    "collapsed": false,
    "ExecuteTime": {
     "end_time": "2023-12-04T20:11:09.004706463Z",
     "start_time": "2023-12-04T20:11:08.608130980Z"
    }
   },
   "id": "10dc3f829ad48a74"
  },
  {
   "cell_type": "code",
   "execution_count": 41,
   "outputs": [
    {
     "data": {
      "text/plain": "['2nd Line - PO & Pay',\n 'Integration Analysts',\n '1st Line DE - HBS',\n '3rd Line R&D - HBS',\n '1st Line DE - HBS',\n 'Projects SE - TMS',\n 'Projects SE - TMS',\n '3rd Line - Pay',\n '3rd Line R&D - HBS',\n '3rd Line R&D - HBS',\n '2nd Line DE - HBS',\n '3rd Line R&D - HBS',\n 'Scrooge',\n 'Integration Analysts',\n '3rd Line R&D - HBS',\n 'Projects DE - HBS',\n 'Integration Consultants – Managed Service',\n '3rd Line R&D - HBS',\n 'Administrators',\n '3rd Line - Pay',\n '3rd Line - Pay',\n '3rd Line - Pay',\n 'Product Owner Pay',\n '1st Line DE - HBS',\n 'Data Capturing DE - HBS',\n '3rd Line - Pay',\n '3rd Line R&D - HBS',\n '3rd Line - Pay',\n 'Projects DE - HBS',\n 'Projects SE - TMS',\n '3rd Line R&D - HBS',\n '3rd Line R&D - HBS',\n '3rd Line R&D - HBS',\n 'Administrators',\n 'Interop',\n 'Administrators',\n 'Projects DE - HBS',\n '3rd Line R&D - HBS',\n 'Pagero Eloomi - Zendesk course',\n 'Eagle',\n 'Light Agents',\n 'Pagero Support Web Admin',\n '3rd Line Integration - HBS',\n 'Eagle',\n 'Team Lead and Management',\n '3rd Line R&D - HBS',\n 'Scrooge',\n 'Eagle',\n 'Eagle',\n 'Pagero Eloomi - Zendesk course',\n 'Projects SE - TMS',\n 'Puffin',\n 'Scrooge',\n '3rd Line R&D - HBS',\n 'Data Capturing DE - HBS',\n 'Data Capturing DE - HBS',\n 'Data Capturing DE - HBS',\n 'Projects DE - HBS',\n 'Projects DE - HBS',\n 'Integration Consultants – Managed Service',\n '3rd Line R&D - HBS',\n '3rd Line R&D - HBS',\n 'Projects SE - TMS',\n 'Administrators',\n 'Administrators',\n 'Administrators',\n '1st Line DE - HBS',\n 'Administrators',\n 'Team Lead and Management',\n 'Team Lead and Management',\n 'Peacock',\n 'Administrators',\n 'Woodpecker',\n 'Pagero Support Web Admin',\n 'Administrators',\n '3rd Line - Pay',\n '3rd Line - Pay',\n 'Integration Consultants – Implementation',\n 'Projects DE - HBS',\n 'Team Lead and Management',\n 'Administrators',\n '2nd Line DE - HBS',\n 'Projects DE - HBS',\n 'Team Lead and Management',\n 'Projects DE - HBS',\n 'Projects DE - HBS',\n 'Administrators',\n 'Administrators',\n 'Data Capturing DE - HBS',\n 'Projects DE - HBS',\n 'Projects DE - HBS',\n 'Projects DE - HBS',\n 'Projects DE - HBS',\n 'Projects DE - HBS',\n 'Projects DE - HBS',\n 'Projects DE - HBS',\n 'Integration Consultants – Solution',\n 'Administrators',\n 'Projects DE - HBS',\n 'Administrators',\n 'Integration Analysts',\n 'Integration Consultants – Managed Service',\n 'Administrators',\n 'Administrators',\n 'Administrators',\n 'Projects SE - TMS',\n 'Projects DE - HBS',\n 'Administrators',\n 'Projects DE - HBS',\n '1st & 2nd Line SE - TMS',\n 'Integration Consultants – USA',\n 'Projects DE - HBS',\n 'Eagle',\n 'Owl',\n 'Projects DE - HBS',\n 'Projects DE - HBS',\n 'Team Lead and Management',\n '3rd Line R&D - HBS',\n '2nd Line DE - HBS',\n '3rd Line - Pay',\n 'Administrators',\n 'Administrators',\n '1st Line DE - HBS',\n '3rd Line R&D - HBS',\n 'Integration Consultants – Implementation',\n 'Pagero Support Web Admin',\n 'Projects DE - HBS',\n 'Raven',\n 'Raven',\n 'Raven',\n 'Projects DE - HBS',\n 'Projects SE - TMS',\n 'Data Capturing DE - HBS',\n 'Projects DE - HBS',\n '3rd Line R&D - HBS',\n 'Projects DE - HBS',\n 'Pagero Support Web Admin',\n 'Projects DE - HBS',\n 'Projects DE - HBS',\n '3rd Line R&D - HBS',\n 'Projects DE - HBS',\n 'Eagle',\n 'Administrators',\n 'Projects SE - TMS',\n 'Administrators',\n 'Data Capturing DE - HBS',\n 'Pagero Support Web Admin',\n '3rd Line R&D - HBS',\n 'Administrators',\n 'Administrators',\n 'Integration Consultants – Solution',\n 'Owl',\n 'Integration Consultants – USA',\n 'Integration Consultants – Implementation',\n 'Projects SE - TMS',\n 'Integration Consultants – Solution',\n 'Owl',\n 'Administrators',\n 'Administrators',\n 'Administrators',\n 'Integration Consultants – Managed Service',\n 'Administrators',\n 'Projects DE - HBS',\n 'Integration Consultants – USA',\n 'Integration Core Specialists',\n '3rd Line R&D - HBS',\n '3rd Line R&D - HBS',\n 'Projects DE - HBS',\n 'Projects DE - HBS',\n '1st & 2nd Line SE - TMS',\n 'Administrators',\n 'Administrators',\n 'Projects DE - HBS',\n 'Integration Consultants – USA',\n 'Raven',\n 'Eagle',\n 'Data Capturing DE - HBS',\n 'Data Capturing DE - HBS',\n 'Eagle',\n 'Projects SE - TMS',\n 'Integration Core Specialists',\n 'Administrators',\n 'Eagle',\n 'Eagle',\n 'Data Capturing DE - HBS',\n 'Integration Consultants – USA',\n 'Projects DE - HBS',\n 'Administrators',\n 'Projects DE - HBS',\n 'Administrators',\n 'Projects DE - HBS',\n 'Data Capturing DE - HBS',\n 'Projects DE - HBS',\n 'Buzzard',\n 'Data Capturing DE - HBS',\n 'Projects SE - TMS',\n 'Integration Consultants – Connectivity',\n 'Data Capturing DE - HBS',\n 'Administrators',\n '2nd Line DE - HBS',\n '2nd Line DE - HBS',\n 'Projects DE - HBS',\n 'Interop',\n 'Projects DE - HBS',\n 'Griffin',\n 'Kingfisher',\n 'Tweety',\n 'Eagle',\n 'Administrators',\n 'Administrators',\n 'Scrooge',\n 'Team Lead and Management',\n 'Team Lead and Management',\n '2nd Line DE - HBS',\n 'Projects DE - HBS',\n '1st Line ES - PO',\n '1st Line ES - PO',\n '1st Line ES - PO',\n '1st Line ES - PO',\n 'Projects DE - HBS',\n '3rd Line R&D - HBS',\n 'Integration Consultants – Managed Service',\n 'Eagle',\n 'Administrators',\n 'Integration Analysts',\n '2nd Line DE - HBS',\n 'Interop',\n '1st Line SE - PO & Pay',\n 'Projects DE - HBS',\n 'Data Capturing DE - HBS',\n '1st Line SE - PO & Pay',\n '1st Line SE - PO & Pay',\n '1st Line SE - PO & Pay',\n '1st Line SE - PO & Pay',\n 'Administrators',\n 'Projects DE - HBS',\n 'Integration Consultants – USA',\n '3rd Line - Pay',\n '1st & 2nd Line SE - TMS',\n 'Integration Core Specialists',\n 'Projects DE - HBS',\n 'Projects SE - TMS',\n 'Integration Consultants – Managed Service',\n 'Projects DE - HBS',\n 'Integration Consultants – Managed Service',\n 'Buzzard',\n 'Projects DE - HBS',\n 'Integration Analysts',\n 'Integration Core Specialists',\n 'Eagle',\n 'Hummingbird',\n 'Interop',\n 'Interop',\n 'Projects SE - TMS',\n 'Administrators',\n 'Integration Consultants – Connectivity',\n 'Phoenix',\n '3rd Line Integration - HBS',\n 'Projects DE - HBS',\n 'Projects DE - HBS',\n '1st Line DE - HBS',\n 'Eagle',\n 'Administrators',\n 'Integration Consultants – Connectivity',\n 'Integration Consultants – Connectivity',\n 'Projects DE - HBS',\n 'Eagle',\n 'Eagle',\n 'Eagle',\n 'Integration Analysts',\n 'Administrators',\n 'Administrators',\n 'Administrators',\n 'Integration Consultants – Managed Service',\n 'Projects DE - HBS',\n 'Integration Consultants – Connectivity',\n 'Interop',\n 'Administrators',\n 'Integration Consultants – Managed Service',\n 'Integration Consultants – Implementation',\n 'Projects SE - TMS',\n 'Projects DE - HBS',\n 'Projects DE - HBS',\n 'Integration Consultants – USA',\n 'Integration Consultants – Managed Service',\n 'Pagero Support Web Admin',\n 'Integration Consultants – USA',\n 'Administrators',\n 'Administrators',\n 'Integration Consultants – Managed Service',\n 'Griffin',\n 'Integration Consultants – Managed Service',\n 'Integration Consultants – Implementation',\n 'Administrators',\n 'Integration Consultants – Implementation',\n 'Integration Consultants – Implementation',\n 'Integration Analysts',\n 'Eagle',\n 'Projects DE - HBS',\n '1st & 2nd Line SE - TMS',\n '3rd Line R&D - HBS',\n '2nd Line DE - HBS',\n 'Integration Consultants – Managed Service',\n 'Integration Core Specialists',\n 'Integration Core Specialists',\n 'Integration Consultants – Managed Service',\n '1st Line DE - HBS',\n '2nd Line DE - HBS',\n 'Integration Consultants – Managed Service',\n 'Integration Consultants – Managed Service',\n 'Integration Consultants – Implementation',\n 'Integration Consultants – Freight',\n '1st Line SE - PO & Pay',\n '1st Line SE - PO & Pay',\n '1st Line ES - PO',\n '1st Line ES - PO',\n '1st Line SE - PO & Pay',\n '1st Line FI - PO & HBS',\n 'Integration Consultants – Implementation',\n 'Integration Consultants – Implementation',\n '2nd Line DE - HBS',\n 'Interop',\n 'Integration Analysts',\n '1st & 2nd Line SE - TMS',\n 'Integration Consultants – Managed Service',\n '1st & 2nd Line SE - TMS',\n 'Integration Core Specialists',\n 'Integration Consultants – Implementation',\n 'Integration Consultants – Managed Service',\n '1st Line DE - HBS',\n '3rd Line Integration - HBS',\n 'Projects DE - HBS',\n '3rd Line R&D - HBS',\n '3rd Line R&D - HBS',\n 'Integration Consultants – Managed Service',\n 'Integration Consultants – USA',\n '3rd Line R&D - HBS',\n '3rd Line R&D - HBS',\n '1st Line 24/7 - PO',\n 'Administrators',\n '1st Line FI - PO & HBS',\n '1st Line SE - PO & Pay',\n '1st Line SE - PO & Pay',\n '1st & 2nd Line SE - TMS',\n '1st & 2nd Line SE - TMS',\n '1st Line SE - PO & Pay',\n '2nd Line - PO & Pay',\n '2nd Line DE - HBS',\n 'Projects SE - Fastlane',\n '1st Line 24/7 - PO',\n 'Raven',\n '1st Line FI - PO & HBS',\n '1st Line 24/7 - PO',\n '1st Line SE - PO & Pay',\n '1st Line DE - HBS',\n 'Integration Analysts',\n '1st & 2nd Line SE - TMS',\n 'Integration Analysts',\n '1st & 2nd Line SE - TMS',\n 'Integration Consultants – Implementation',\n 'Integration Consultants – Implementation',\n 'Integration Consultants – Connectivity',\n '2nd Line - PO & Pay',\n 'Integration Consultants – Implementation',\n 'Integration Consultants – Implementation',\n '1st & 2nd Line SE - TMS',\n '1st Line SE - PO & Pay',\n '1st Line 24/7 - PO',\n '1st Line DE - HBS',\n '1st Line FI - PO & HBS',\n '1st Line 24/7 - PO',\n 'Projects SE - Fastlane',\n '1st & 2nd Line SE - TMS',\n '1st Line 24/7 - PO',\n '1st Line 24/7 - PO',\n '1st Line ES - PO',\n 'Projects DE - HBS',\n '1st & 2nd Line SE - TMS',\n '1st Line DE - HBS',\n '1st Line 24/7 - PO',\n '3rd Line R&D - HBS',\n '1st Line SE - PO & Pay',\n '1st Line SE - PO & Pay',\n '1st Line SE - PO & Pay',\n '1st Line 24/7 - PO',\n '1st Line SE - PO & Pay',\n '1st Line SE - PO & Pay',\n '1st Line 24/7 - PO',\n '2nd Line DE - HBS',\n '1st Line SE - PO & Pay',\n '1st Line FI - PO & HBS',\n '1st Line SE - PO & Pay',\n '1st Line DE - HBS',\n 'Projects FI - Fastlane',\n 'Integration Consultants – Implementation',\n '1st Line DE - HBS',\n '1st Line SE - PO & Pay',\n '1st Line DE - HBS',\n '1st Line DE - HBS',\n '1st Line SE - PO & Pay',\n '2nd Line DE - HBS',\n '1st & 2nd Line SE - TMS',\n '1st Line SE - PO & Pay',\n '1st Line 24/7 - PO',\n '1st Line DE - HBS',\n '1st Line 24/7 - PO',\n '1st Line 24/7 - PO',\n '1st Line DE - HBS',\n '1st Line 24/7 - PO',\n '1st Line SE - PO & Pay',\n '1st Line SE - PO & Pay',\n 'Data Capturing DE - HBS',\n '2nd Line - PO & Pay',\n '1st Line SE - PO & Pay',\n '1st & 2nd Line SE - TMS',\n '2nd Line - PO & Pay',\n '1st Line 24/7 - PO',\n '2nd Line - PO & Pay',\n '1st Line SE - PO & Pay',\n '1st Line SE - PO & Pay',\n '1st Line DE - HBS',\n '1st Line FI - PO & HBS',\n '1st Line DE - HBS',\n '1st Line DE - HBS',\n '1st Line DE - HBS',\n '1st Line SE - PO & Pay',\n '1st Line SE - PO & Pay',\n 'Integration Consultants – Implementation',\n '1st Line SE - PO & Pay',\n '1st Line SE - PO & Pay',\n '1st Line SE - PO & Pay',\n '1st Line SE - PO & Pay',\n '1st Line SE - PO & Pay',\n '1st Line DE - HBS',\n '1st Line DE - HBS',\n '1st Line DE - HBS',\n '1st Line 24/7 - PO',\n '1st Line SE - PO & Pay',\n '1st Line SE - PO & Pay',\n '1st Line SE - PO & Pay',\n '1st Line SE - PO & Pay',\n '1st Line DE - HBS',\n '1st Line SE - PO & Pay',\n '1st Line DE - HBS',\n '2nd Line - PO & Pay',\n '1st Line 24/7 - PO',\n '1st Line 24/7 - PO',\n '1st Line 24/7 - PO',\n '1st Line 24/7 - PO',\n '1st Line 24/7 - PO',\n '1st Line 24/7 - PO',\n '1st Line SE - PO & Pay',\n '1st Line FI - PO & HBS',\n '1st Line SE - PO & Pay',\n '1st Line SE - PO & Pay',\n '1st Line 24/7 - PO',\n '2nd Line - PO & Pay',\n '2nd Line - PO & Pay',\n '2nd Line - PO & Pay',\n '1st Line SE - PO & Pay',\n '1st Line FI - PO & HBS',\n '2nd Line - PO & Pay',\n '1st Line SE - PO & Pay',\n '1st Line SE - PO & Pay',\n '1st Line FI - PO & HBS',\n '2nd Line - PO & Pay',\n '1st & 2nd Line SE - TMS',\n 'Raven',\n '1st Line SE - PO & Pay',\n '1st & 2nd Line SE - TMS',\n '1st Line SE - PO & Pay',\n '1st Line DE - HBS',\n '1st & 2nd Line SE - TMS',\n '1st & 2nd Line SE - TMS',\n '1st & 2nd Line SE - TMS',\n '1st & 2nd Line SE - TMS',\n '1st & 2nd Line SE - TMS',\n '1st & 2nd Line SE - TMS',\n '2nd Line - PO & Pay',\n 'Integration Consultants – Implementation',\n '1st Line FI - PO & HBS',\n '1st Line SE - PO & Pay',\n '3rd Line R&D - HBS',\n 'CI - HBS Projects',\n '2nd Line - PO & Pay',\n 'Integration Core Specialists',\n '1st Line DE - HBS',\n '1st Line SE - PO & Pay',\n 'Integration Consultants – Connectivity',\n '1st Line DE - HBS',\n '1st Line DE - HBS',\n 'Integration Consultants – Implementation',\n '1st Line FI - PO & HBS',\n '1st & 2nd Line SE - TMS',\n '1st Line FI - PO & HBS',\n '1st Line FI - PO & HBS',\n '1st Line FI - PO & HBS',\n '1st Line FI - PO & HBS',\n '1st Line FI - PO & HBS',\n '1st Line DE - HBS',\n '1st Line FI - PO & HBS',\n '2nd Line - PO & Pay',\n '1st Line FI - PO & HBS',\n '1st & 2nd Line SE - TMS',\n '1st Line SE - PO & Pay',\n '3rd Line - Pay',\n '1st Line SE - PO & Pay',\n '1st Line 24/7 - PO',\n '1st Line 24/7 - PO',\n '1st Line FI - PO & HBS',\n 'Data Capturing DE - HBS',\n '1st Line 24/7 - PO',\n '2nd Line - PO & Pay',\n '1st Line 24/7 - PO',\n 'Integration Consultants – Managed Service',\n 'Projects DE - HBS',\n '1st Line DE - HBS',\n 'Integration Consultants – Connectivity',\n 'Integration Consultants – Managed Service',\n '1st & 2nd Line SE - TMS',\n '1st & 2nd Line SE - TMS',\n '1st & 2nd Line SE - TMS',\n '1st & 2nd Line SE - TMS',\n '1st & 2nd Line SE - TMS',\n 'Projects FI - Fastlane',\n '2nd Line - PO & Pay',\n 'Integration Consultants – Managed Service',\n '1st Line SE - PO & Pay',\n '1st Line SE - PO & Pay',\n '1st Line SE - PO & Pay',\n '1st Line 24/7 - PO',\n 'Integration Consultants – Implementation',\n 'Integration Consultants – Implementation',\n '1st Line SE - PO & Pay',\n '1st Line SE - PO & Pay',\n '1st Line 24/7 - PO',\n '1st Line SE - PO & Pay',\n '1st Line 24/7 - PO',\n '1st Line SE - PO & Pay',\n '1st Line SE - PO & Pay',\n '1st Line SE - PO & Pay',\n '1st Line SE - PO & Pay',\n '1st Line SE - PO & Pay',\n '1st Line FI - PO & HBS',\n '1st Line SE - PO & Pay',\n '1st Line FI - PO & HBS',\n 'Integration Consultants – Implementation',\n 'Integration Consultants – Implementation',\n '1st & 2nd Line SE - TMS',\n '2nd Line - PO & Pay',\n '1st & 2nd Line SE - TMS',\n '1st Line DE - HBS',\n '1st Line SE - PO & Pay',\n '1st & 2nd Line SE - TMS',\n '1st Line DE - HBS',\n '1st Line SE - PO & Pay',\n 'Integration Consultants – Implementation',\n '1st & 2nd Line SE - TMS',\n '1st & 2nd Line SE - TMS',\n '1st Line 24/7 - PO',\n '1st Line 24/7 - PO',\n '1st Line SE - PO & Pay',\n 'Integration Consultants – Connectivity',\n 'Data Capturing DE - HBS',\n 'Data Capturing DE - HBS',\n '1st & 2nd Line SE - TMS',\n '1st Line SE - PO & Pay',\n '1st Line ES - PO',\n 'Integration Consultants – Managed Service',\n '1st Line 24/7 - PO',\n '1st Line 24/7 - PO',\n 'Team Lead and Management',\n '3rd Line R&D - HBS',\n 'CI - HBS Projects',\n '1st Line SE - PO & Pay',\n 'Hawk',\n 'Hawk',\n 'Hawk',\n 'Hawk',\n '2nd Line - PO & Pay',\n '2nd Line - PO & Pay',\n '1st Line 24/7 - PO',\n '1st & 2nd Line SE - TMS',\n '1st Line SE - PO & Pay',\n '1st & 2nd Line SE - TMS',\n '2nd Line - PO & Pay',\n '2nd Line - PO & Pay',\n '2nd Line - PO & Pay',\n '2nd Line - PO & Pay',\n '2nd Line - PO & Pay',\n '2nd Line - PO & Pay',\n '2nd Line - PO & Pay',\n '2nd Line - PO & Pay',\n '2nd Line - PO & Pay',\n '1st Line 24/7 - PO',\n '1st Line SE - PO & Pay',\n '1st Line SE - PO & Pay',\n '1st Line 24/7 - PO',\n '1st Line SE - PO & Pay',\n '1st Line SE - PO & Pay',\n '1st Line SE - PO & Pay',\n '1st Line SE - PO & Pay',\n '1st Line DE - HBS',\n '1st Line SE - PO & Pay',\n '1st Line SE - PO & Pay',\n '1st Line FI - PO & HBS',\n '1st Line DE - HBS',\n '1st Line ES - PO',\n '2nd Line - PO & Pay',\n '2nd Line - PO & Pay',\n '1st Line SE - PO & Pay',\n '1st Line DE - HBS',\n '2nd Line - PO & Pay',\n '2nd Line - PO & Pay',\n '2nd Line - PO & Pay',\n '2nd Line - PO & Pay',\n '2nd Line DE - HBS',\n '1st Line DE - HBS',\n '2nd Line - PO & Pay',\n '1st & 2nd Line SE - TMS',\n '1st & 2nd Line SE - TMS',\n '2nd Line - PO & Pay',\n '3rd Line R&D - HBS',\n '1st Line SE - PO & Pay',\n '2nd Line - PO & Pay',\n 'Integration Consultants – Managed Service',\n '2nd Line - PO & Pay',\n '1st & 2nd Line SE - TMS',\n '1st & 2nd Line SE - TMS',\n '1st & 2nd Line SE - TMS',\n '1st Line SE - PO & Pay',\n '1st Line 24/7 - PO',\n '1st Line SE - PO & Pay',\n '1st Line SE - PO & Pay',\n '1st Line FI - PO & HBS',\n '1st & 2nd Line SE - TMS',\n '1st Line SE - PO & Pay',\n '2nd Line - PO & Pay',\n '1st Line SE - PO & Pay',\n '1st Line SE - PO & Pay',\n '1st Line SE - PO & Pay',\n '1st Line SE - PO & Pay',\n 'Integration Consultants – Implementation',\n '1st Line DE - HBS',\n '1st Line 24/7 - PO',\n '1st Line SE - PO & Pay',\n '1st Line DE - HBS',\n '1st Line SE - PO & Pay',\n '1st Line SE - PO & Pay',\n '1st Line SE - PO & Pay',\n '1st Line 24/7 - PO',\n '1st Line ES - PO',\n '1st Line 24/7 - PO',\n '1st Line 24/7 - PO',\n '1st Line 24/7 - PO',\n '2nd Line - PO & Pay',\n '2nd Line - PO & Pay',\n '2nd Line - PO & Pay',\n '1st Line 24/7 - PO',\n '1st Line ES - PO',\n '1st Line 24/7 - PO',\n '2nd Line - PO & Pay',\n '2nd Line - PO & Pay',\n '2nd Line - PO & Pay',\n '1st Line DE - HBS',\n '1st Line ES - PO',\n '1st Line SE - PO & Pay',\n '1st Line FR - PO',\n '1st Line SE - PO & Pay',\n '2nd Line - PO & Pay',\n '1st Line 24/7 - PO',\n '2nd Line - PO & Pay',\n '2nd Line - PO & Pay',\n '2nd Line - PO & Pay',\n '1st Line 24/7 - PO',\n '2nd Line - PO & Pay',\n '2nd Line - PO & Pay',\n '1st Line 24/7 - PO',\n '1st Line 24/7 - PO',\n '1st Line 24/7 - PO',\n '1st Line 24/7 - PO',\n '2nd Line - PO & Pay',\n '1st Line ES - PO',\n '2nd Line - PO & Pay',\n '2nd Line - PO & Pay',\n 'CI - HBS Projects',\n '1st Line 24/7 - PO',\n 'Integration Consultants – USA',\n 'Integration Consultants – USA',\n '1st Line FI - PO & HBS',\n '1st Line 24/7 - PO',\n '1st Line FI - PO & HBS',\n '1st Line 24/7 - PO',\n '1st Line ES - PO',\n '1st Line ES - PO',\n '1st Line 24/7 - PO',\n '1st Line DE - HBS',\n '2nd Line - PO & Pay',\n '1st Line FI - PO & HBS',\n '2nd Line - PO & Pay',\n '1st Line FI - PO & HBS',\n '1st Line DE - HBS',\n '1st Line DE - HBS',\n '1st Line 24/7 - PO',\n '2nd Line - PO & Pay',\n '1st Line 24/7 - PO',\n 'Integration Consultants – Connectivity',\n 'Integration Consultants – Connectivity',\n '2nd Line - PO & Pay',\n '1st Line 24/7 - PO',\n '1st Line 24/7 - PO',\n '2nd Line - PO & Pay',\n '2nd Line - PO & Pay',\n '2nd Line - PO & Pay',\n '1st Line 24/7 - PO',\n '1st Line 24/7 - PO',\n '1st Line 24/7 - PO',\n '1st Line 24/7 - PO',\n '2nd Line - PO & Pay',\n '2nd Line - PO & Pay',\n '2nd Line - PO & Pay',\n '2nd Line - PO & Pay',\n '2nd Line - PO & Pay',\n '2nd Line - PO & Pay',\n '1st Line 24/7 - PO',\n '1st Line 24/7 - PO',\n '1st Line 24/7 - PO',\n '1st Line 24/7 - PO',\n '2nd Line - PO & Pay',\n '2nd Line - PO & Pay',\n '1st Line 24/7 - PO',\n '1st Line 24/7 - PO',\n '1st Line 24/7 - PO',\n '1st Line FR - PO',\n '2nd Line - PO & Pay',\n '2nd Line - PO & Pay',\n '1st Line 24/7 - PO',\n '1st Line 24/7 - PO',\n '1st Line ES - PO',\n '2nd Line - PO & Pay',\n '2nd Line - PO & Pay',\n '2nd Line - PO & Pay',\n '1st Line 24/7 - PO',\n '2nd Line - PO & Pay',\n '2nd Line - PO & Pay',\n '2nd Line - PO & Pay',\n '1st Line 24/7 - PO',\n '2nd Line - PO & Pay',\n '1st Line 24/7 - PO',\n '1st Line 24/7 - PO',\n '1st Line 24/7 - PO',\n '1st Line 24/7 - PO',\n '1st Line 24/7 - PO',\n '1st Line 24/7 - PO',\n '1st Line 24/7 - PO',\n '1st Line 24/7 - PO',\n '1st Line 24/7 - PO',\n '1st Line 24/7 - PO',\n '1st Line 24/7 - PO',\n '1st Line 24/7 - PO',\n '1st Line 24/7 - PO',\n '1st Line 24/7 - PO',\n '2nd Line - PO & Pay',\n '2nd Line - PO & Pay',\n '2nd Line - PO & Pay',\n '1st Line 24/7 - PO',\n '1st Line 24/7 - PO',\n 'Integration Consultants – Connectivity',\n '1st Line 24/7 - PO',\n '1st Line SE - PO & Pay',\n '1st Line SE - PO & Pay',\n '1st Line SE - PO & Pay',\n '1st Line FI - PO & HBS',\n '1st Line FI - PO & HBS',\n '1st Line SE - PO & Pay',\n '1st Line SE - PO & Pay',\n '1st Line SE - PO & Pay',\n '1st Line SE - PO & Pay',\n '1st Line SE - PO & Pay',\n '1st Line SE - PO & Pay',\n '1st Line SE - PO & Pay',\n '1st Line SE - PO & Pay',\n '1st Line SE - PO & Pay',\n '1st Line 24/7 - PO',\n '1st Line SE - PO & Pay',\n '1st Line SE - PO & Pay',\n '1st Line SE - PO & Pay',\n '1st Line SE - PO & Pay',\n '1st Line SE - PO & Pay',\n '1st Line SE - PO & Pay',\n '1st Line SE - PO & Pay',\n '1st Line SE - PO & Pay',\n '1st Line SE - PO & Pay',\n '1st Line SE - PO & Pay',\n '1st Line FI - PO & HBS',\n 'Integration Core Specialists',\n '1st Line FI - PO & HBS',\n '1st Line SE - PO & Pay',\n 'Projects FI - Fastlane',\n '1st Line 24/7 - PO',\n '1st Line SE - PO & Pay',\n '1st Line SE - PO & Pay',\n '1st Line SE - PO & Pay',\n '1st Line FI - PO & HBS',\n '2nd Line - PO & Pay',\n '1st Line 24/7 - PO',\n '1st Line 24/7 - PO',\n '1st Line FI - PO & HBS',\n '1st Line DE - HBS',\n 'Integration Consultants – Connectivity',\n '1st Line FI - PO & HBS',\n '1st Line 24/7 - PO',\n '1st Line 24/7 - PO',\n '1st Line 24/7 - PO',\n '1st Line 24/7 - PO',\n '1st Line 24/7 - PO',\n '1st Line 24/7 - PO',\n '1st Line 24/7 - PO',\n '1st Line 24/7 - PO',\n '1st Line 24/7 - PO',\n '1st Line 24/7 - PO',\n '1st Line 24/7 - PO',\n '1st Line 24/7 - PO',\n '1st Line 24/7 - PO',\n '1st Line 24/7 - PO',\n '1st Line 24/7 - PO',\n '1st Line 24/7 - PO',\n '1st Line 24/7 - PO',\n '1st Line 24/7 - PO',\n '1st Line FI - PO & HBS',\n 'Projects FI - Fastlane',\n 'Projects FI - Fastlane',\n '1st Line SE - PO & Pay',\n '1st Line DE - HBS',\n '1st Line SE - PO & Pay',\n '2nd Line - PO & Pay',\n '2nd Line - PO & Pay',\n '1st Line FI - PO & HBS',\n '1st Line 24/7 - PO',\n '1st Line SE - PO & Pay',\n '1st Line FI - PO & HBS',\n '1st & 2nd Line SE - TMS',\n 'Integration Core Specialists',\n '1st & 2nd Line SE - TMS',\n '2nd Line - PO & Pay',\n '2nd Line DE - HBS',\n '1st Line SE - PO & Pay',\n '1st Line 24/7 - PO',\n '1st Line DE - HBS',\n 'Puffin',\n '1st Line FI - PO & HBS',\n '1st Line DE - HBS',\n '1st Line SE - PO & Pay',\n '1st Line SE - PO & Pay',\n '1st Line SE - PO & Pay',\n '1st Line FI - PO & HBS',\n '1st Line FI - PO & HBS',\n '1st Line 24/7 - PO',\n '1st Line FI - PO & HBS',\n '1st Line SE - PO & Pay',\n '1st Line SE - PO & Pay',\n '1st Line SE - PO & Pay',\n '1st Line SE - PO & Pay',\n '1st Line SE - PO & Pay',\n '1st Line 24/7 - PO',\n 'Projects FI - Fastlane',\n '1st Line 24/7 - PO',\n '1st Line 24/7 - PO',\n '1st Line SE - PO & Pay',\n '1st Line SE - PO & Pay',\n '1st Line FI - PO & HBS',\n '1st Line FI - PO & HBS',\n '1st Line SE - PO & Pay',\n '1st Line FI - PO & HBS',\n '1st Line FI - PO & HBS',\n '1st Line FI - PO & HBS',\n '1st & 2nd Line SE - TMS',\n '1st & 2nd Line SE - TMS',\n '1st Line FI - PO & HBS',\n '1st Line FI - PO & HBS',\n '1st Line SE - PO & Pay',\n '1st & 2nd Line SE - TMS',\n 'Team Lead and Management',\n '1st Line DE - HBS',\n 'Integration Consultants – Managed Service',\n '1st Line SE - PO & Pay',\n '1st Line SE - PO & Pay',\n 'Projects FI - Fastlane',\n '1st Line DE - HBS',\n '1st Line SE - PO & Pay',\n '1st Line SE - PO & Pay',\n '2nd Line - PO & Pay',\n 'Administrators',\n '1st Line SE - PO & Pay',\n 'Administrators',\n '1st Line SE - PO & Pay',\n '1st & 2nd Line SE - TMS',\n 'Projects FI - Fastlane',\n '1st Line DE - HBS',\n '1st Line SE - PO & Pay',\n '1st Line SE - PO & Pay',\n 'Projects FI - Fastlane',\n '1st & 2nd Line SE - TMS',\n '2nd Line - PO & Pay',\n '2nd Line - PO & Pay',\n '1st Line DE - HBS',\n '1st Line SE - PO & Pay',\n '1st Line 24/7 - PO',\n '1st & 2nd Line SE - TMS',\n '1st & 2nd Line SE - TMS',\n '2nd Line - PO & Pay',\n '1st Line SE - PO & Pay',\n '1st Line SE - PO & Pay',\n 'Team Lead and Management',\n '1st Line 24/7 - PO',\n '1st Line 24/7 - PO',\n '1st Line SE - PO & Pay',\n '2nd Line - PO & Pay',\n '1st & 2nd Line SE - TMS',\n '1st Line SE - PO & Pay',\n '1st Line FI - PO & HBS',\n 'Projects DE - HBS',\n '1st Line FI - PO & HBS',\n 'Projects FI - Fastlane',\n '2nd Line - PO & Pay',\n '1st Line SE - PO & Pay',\n 'Projects SE - Fastlane',\n 'Integration Consultants – Managed Service',\n 'Projects SE - Fastlane',\n 'Integration Consultants – Managed Service',\n 'Integration Core Specialists',\n 'Data Capturing DE - HBS',\n 'Integration Consultants – Managed Service',\n 'Projects DE - HBS',\n 'Projects SE - TMS',\n 'Integration Consultants – Implementation',\n 'Projects SE - TMS',\n 'Projects DE - HBS',\n 'Projects DE - HBS',\n 'Projects DE - HBS',\n 'Eagle',\n 'Eagle',\n 'Kingfisher',\n 'Projects DE - HBS',\n '1st Line SE - PO & Pay',\n 'Projects SE - TMS',\n 'Projects SE - TMS',\n '1st Line FI - PO & HBS',\n '1st Line FI - PO & HBS',\n '1st Line 24/7 - PO',\n 'Integration Consultants – Implementation',\n '1st Line SE - PO & Pay',\n '1st Line DE - HBS',\n 'Integration Consultants – Implementation',\n '1st Line DE - HBS',\n '1st Line FI - PO & HBS',\n '1st Line 24/7 - PO',\n '1st Line DE - HBS',\n '1st Line DE - HBS',\n '1st Line DE - HBS',\n 'Projects FI - Fastlane',\n '1st Line FI - PO & HBS',\n '1st Line FI - PO & HBS',\n '1st Line 24/7 - PO',\n '1st Line SE - PO & Pay',\n '1st Line FI - PO & HBS',\n 'Projects FI - Fastlane',\n '1st Line SE - PO & Pay',\n 'Integration Core Specialists',\n 'Projects FI - Fastlane',\n 'Integration Core Specialists',\n 'Projects FI - Fastlane',\n '1st Line 24/7 - PO',\n '1st Line FI - PO & HBS',\n '1st & 2nd Line SE - TMS',\n '1st & 2nd Line SE - TMS',\n '1st & 2nd Line SE - TMS',\n '1st & 2nd Line SE - TMS',\n '1st Line FI - PO & HBS',\n 'Integration Consultants – Connectivity',\n 'Integration Consultants – Connectivity',\n 'Integration Consultants – Connectivity',\n 'Integration Core Specialists',\n '2nd Line - PO & Pay',\n 'Integration Consultants – Connectivity',\n '1st Line 24/7 - PO',\n 'Integration Consultants – Managed Service',\n '1st Line SE - PO & Pay',\n '1st Line DE - HBS',\n '1st Line DE - HBS',\n '1st Line DE - HBS',\n '1st Line DE - HBS',\n '1st Line DE - HBS',\n '1st Line SE - PO & Pay',\n '1st Line SE - PO & Pay',\n '1st Line SE - PO & Pay',\n '1st Line 24/7 - PO',\n '1st Line 24/7 - PO',\n 'Integration Consultants – Connectivity',\n 'Integration Consultants – Implementation',\n ...]"
     },
     "execution_count": 41,
     "metadata": {},
     "output_type": "execute_result"
    }
   ],
   "source": [
    "teams_array"
   ],
   "metadata": {
    "collapsed": false,
    "ExecuteTime": {
     "end_time": "2023-12-04T20:11:09.006358509Z",
     "start_time": "2023-12-04T20:11:08.608628030Z"
    }
   },
   "id": "63c319ff7b3aefc8"
  },
  {
   "cell_type": "code",
   "execution_count": 42,
   "outputs": [
    {
     "data": {
      "text/plain": "9998"
     },
     "execution_count": 42,
     "metadata": {},
     "output_type": "execute_result"
    }
   ],
   "source": [
    "len(teams_array)"
   ],
   "metadata": {
    "collapsed": false,
    "ExecuteTime": {
     "end_time": "2023-12-04T20:11:09.021144659Z",
     "start_time": "2023-12-04T20:11:08.630565380Z"
    }
   },
   "id": "95640774e66b0584"
  },
  {
   "cell_type": "markdown",
   "source": [
    "### Preprocess"
   ],
   "metadata": {
    "collapsed": false
   },
   "id": "5f07e1a20e78f49f"
  },
  {
   "cell_type": "code",
   "execution_count": 43,
   "outputs": [],
   "source": [
    "import re\n",
    "\n",
    "def preprocess_sentence(text):\n",
    "    text = re.sub(r\"\\S{21,}\", \" \", text)\n",
    "    text = ' '.join(re.findall(r'\\b[a-zA-ZäöåÄÖÅ]+\\b', text))\n",
    "    text = re.sub(r'\\s+', ' ', text).strip()\n",
    "    return text"
   ],
   "metadata": {
    "collapsed": false,
    "ExecuteTime": {
     "end_time": "2023-12-04T20:11:09.021624609Z",
     "start_time": "2023-12-04T20:11:08.679400319Z"
    }
   },
   "id": "345dedda61721320"
  },
  {
   "cell_type": "code",
   "execution_count": 44,
   "outputs": [],
   "source": [
    "def preprocess_sentences(sentences):\n",
    "    new_sentences = []\n",
    "    for sentence in sentences:\n",
    "        new_sentences.append(preprocess_sentence(sentence))\n",
    "    return new_sentences"
   ],
   "metadata": {
    "collapsed": false,
    "ExecuteTime": {
     "end_time": "2023-12-04T20:11:09.021867941Z",
     "start_time": "2023-12-04T20:11:08.680100889Z"
    }
   },
   "id": "cfc9c7b91f59ff64"
  },
  {
   "cell_type": "code",
   "execution_count": 45,
   "outputs": [],
   "source": [
    "subject_array = preprocess_sentences(subject_array)"
   ],
   "metadata": {
    "collapsed": false,
    "ExecuteTime": {
     "end_time": "2023-12-04T20:11:09.022810775Z",
     "start_time": "2023-12-04T20:11:08.723071968Z"
    }
   },
   "id": "20775b7fe10a394f"
  },
  {
   "cell_type": "code",
   "execution_count": 46,
   "outputs": [],
   "source": [
    "description_array = preprocess_sentences(description_array)"
   ],
   "metadata": {
    "collapsed": false,
    "ExecuteTime": {
     "end_time": "2023-12-04T20:11:09.470896085Z",
     "start_time": "2023-12-04T20:11:08.852727579Z"
    }
   },
   "id": "8b0d959438fe9f46"
  },
  {
   "cell_type": "code",
   "execution_count": 47,
   "outputs": [],
   "source": [
    "special_token = ['<PAD>', '<EOS>', '<OUT>', '<SOS>', '<ST>']"
   ],
   "metadata": {
    "collapsed": false,
    "ExecuteTime": {
     "end_time": "2023-12-04T20:11:09.480568088Z",
     "start_time": "2023-12-04T20:11:09.471985902Z"
    }
   },
   "id": "5ef3ee014acd929f"
  },
  {
   "cell_type": "code",
   "execution_count": 48,
   "outputs": [],
   "source": [
    "tokenizer = tfds.deprecated.text.SubwordTextEncoder.build_from_corpus(\n",
    "    special_token + subject_array + description_array, target_vocab_size=2**18)"
   ],
   "metadata": {
    "collapsed": false,
    "ExecuteTime": {
     "end_time": "2023-12-04T20:11:45.517451573Z",
     "start_time": "2023-12-04T20:11:09.474250254Z"
    }
   },
   "id": "c1254b18579f39d5"
  },
  {
   "cell_type": "code",
   "execution_count": 49,
   "outputs": [],
   "source": [
    "VOCAB_SIZE = tokenizer.vocab_size"
   ],
   "metadata": {
    "collapsed": false,
    "ExecuteTime": {
     "end_time": "2023-12-04T20:11:45.565212361Z",
     "start_time": "2023-12-04T20:11:45.559031632Z"
    }
   },
   "id": "6208ff4fc1c30506"
  },
  {
   "cell_type": "code",
   "execution_count": 50,
   "outputs": [
    {
     "name": "stdout",
     "output_type": "stream",
     "text": [
      "46994\n"
     ]
    }
   ],
   "source": [
    "print(VOCAB_SIZE)"
   ],
   "metadata": {
    "collapsed": false,
    "ExecuteTime": {
     "end_time": "2023-12-04T20:11:45.566187653Z",
     "start_time": "2023-12-04T20:11:45.559400049Z"
    }
   },
   "id": "acde95b293bb3039"
  },
  {
   "cell_type": "code",
   "execution_count": 51,
   "outputs": [],
   "source": [
    "label_encoder = LabelEncoder()\n",
    "encoded_labels = label_encoder.fit_transform(teams_array)"
   ],
   "metadata": {
    "collapsed": false,
    "ExecuteTime": {
     "end_time": "2023-12-04T20:11:45.566547497Z",
     "start_time": "2023-12-04T20:11:45.559653003Z"
    }
   },
   "id": "78e82f6c128b86d5"
  },
  {
   "cell_type": "code",
   "execution_count": 52,
   "outputs": [],
   "source": [
    "total_teams = len(label_encoder.classes_)"
   ],
   "metadata": {
    "collapsed": false,
    "ExecuteTime": {
     "end_time": "2023-12-04T20:11:45.566813596Z",
     "start_time": "2023-12-04T20:11:45.559827238Z"
    }
   },
   "id": "f1301044f576f0fa"
  },
  {
   "cell_type": "code",
   "execution_count": 53,
   "outputs": [],
   "source": [
    "from datetime import  datetime\n",
    "# \n",
    "now = datetime.now()\n",
    "# tokenizer.save_to_file('./dictionary_'+ now.strftime(\"%m %d %Y, %H:%M:%S\"))"
   ],
   "metadata": {
    "collapsed": false,
    "ExecuteTime": {
     "end_time": "2023-12-04T20:11:45.567056956Z",
     "start_time": "2023-12-04T20:11:45.559971255Z"
    }
   },
   "id": "a1ccd2eaddf87d2"
  },
  {
   "cell_type": "code",
   "execution_count": 54,
   "outputs": [],
   "source": [
    "subwords = tokenizer.subwords\n",
    "\n",
    "# Step 3: Sort the subwords\n",
    "subwords.sort()\n",
    "\n",
    "# Step 4: Save the sorted subwords to a file\n",
    "file_path = './dictionary_'+ now.strftime(\"%m %d %Y, %H:%M:%S\")\n",
    "with open(file_path, \"w\", encoding=\"utf-8\") as file:\n",
    "    for subword in subwords:\n",
    "        file.write(subword + \"\\n\")"
   ],
   "metadata": {
    "collapsed": false,
    "ExecuteTime": {
     "end_time": "2023-12-04T20:11:45.662103444Z",
     "start_time": "2023-12-04T20:11:45.560105446Z"
    }
   },
   "id": "97afafe658666166"
  },
  {
   "cell_type": "code",
   "execution_count": 55,
   "outputs": [],
   "source": [
    "START_TOKEN, END_TOKEN , SUBJECT_TOKEN = [tokenizer.vocab_size], [tokenizer.vocab_size + 1] , [tokenizer.vocab_size + 2]"
   ],
   "metadata": {
    "collapsed": false,
    "ExecuteTime": {
     "end_time": "2023-12-04T20:11:45.667155181Z",
     "start_time": "2023-12-04T20:11:45.572275161Z"
    }
   },
   "id": "d2fe9dffcc85795c"
  },
  {
   "cell_type": "code",
   "execution_count": 56,
   "outputs": [],
   "source": [
    "def concat_subject_and_description(subjects, descriptions):\n",
    "    inputs = []\n",
    "    for (subject, description) in zip(subjects, descriptions):\n",
    "        input = ' <ST> '+ subject + ' <ST> ' + description\n",
    "        inputs.append(input)\n",
    "    return inputs\n",
    "\n",
    "ticket_input = concat_subject_and_description(subject_array, description_array)"
   ],
   "metadata": {
    "collapsed": false,
    "ExecuteTime": {
     "end_time": "2023-12-04T20:11:45.766941182Z",
     "start_time": "2023-12-04T20:11:45.592289237Z"
    }
   },
   "id": "e32651175844558b"
  },
  {
   "cell_type": "code",
   "execution_count": 57,
   "outputs": [],
   "source": [
    "def maximum_input_size(inputs):\n",
    "    max = len(tokenizer.encode(inputs[0]))\n",
    "    sentence = ''\n",
    "    for element in inputs:\n",
    "        tokens = tokenizer.encode(element)\n",
    "        if max > len(tokens):\n",
    "            max = max\n",
    "        else:\n",
    "            max = len(tokens)\n",
    "            sentence = element\n",
    "\n",
    "    return max , sentence\n",
    "\n",
    "MAX_LENGTH , sentence = maximum_input_size(ticket_input)\n"
   ],
   "metadata": {
    "collapsed": false,
    "ExecuteTime": {
     "end_time": "2023-12-04T20:11:46.612250510Z",
     "start_time": "2023-12-04T20:11:45.604568522Z"
    }
   },
   "id": "27fdd7be7e6168e6"
  },
  {
   "cell_type": "code",
   "execution_count": 58,
   "outputs": [
    {
     "name": "stdout",
     "output_type": "stream",
     "text": [
      "3737\n"
     ]
    }
   ],
   "source": [
    "print(MAX_LENGTH)\n",
    "MAX_LENGTH = MAX_LENGTH + 3\n",
    "# print(sentence)"
   ],
   "metadata": {
    "collapsed": false,
    "ExecuteTime": {
     "end_time": "2023-12-04T20:11:46.616051071Z",
     "start_time": "2023-12-04T20:11:46.612939456Z"
    }
   },
   "id": "88c0a1bca517ea8e"
  },
  {
   "cell_type": "code",
   "execution_count": 59,
   "outputs": [],
   "source": [
    "# unique_teams = sorted(list(set(teams_array)))\n",
    "# unique_teams"
   ],
   "metadata": {
    "collapsed": false,
    "ExecuteTime": {
     "end_time": "2023-12-04T20:11:46.619340251Z",
     "start_time": "2023-12-04T20:11:46.615370370Z"
    }
   },
   "id": "93e480a309ed5295"
  },
  {
   "cell_type": "code",
   "execution_count": 60,
   "outputs": [],
   "source": [
    "# Tokenize, filter and pad sentences\n",
    "def tokenize_and_filter(inputs, outputs):\n",
    "    tokenized_inputs,labeled_team = [], []\n",
    "\n",
    "    for (sentence1, team) in zip(inputs, outputs):\n",
    "        # tokenize sentence\n",
    "        sentence1 = START_TOKEN + tokenizer.encode(sentence1) + END_TOKEN\n",
    "        # sentence2 = START_TOKEN + tokenizer.encode(sentence2) + END_TOKEN\n",
    "        team = label_encoder.transform([team])\n",
    "        # check tokenized sentence max length\n",
    "        if len(sentence1) <= MAX_LENGTH:\n",
    "            tokenized_inputs.append(sentence1)\n",
    "            labeled_team.append(team[0])\n",
    "\n",
    "    # pad tokenized sentences\n",
    "    tokenized_inputs = tf.keras.preprocessing.sequence.pad_sequences(\n",
    "        tokenized_inputs, maxlen=MAX_LENGTH, padding='post')\n",
    "\n",
    "    return tokenized_inputs, labeled_team\n",
    "\n",
    "\n",
    "questions, answers = tokenize_and_filter(ticket_input, teams_array)"
   ],
   "metadata": {
    "collapsed": false,
    "ExecuteTime": {
     "end_time": "2023-12-04T20:11:48.568821851Z",
     "start_time": "2023-12-04T20:11:46.629741057Z"
    }
   },
   "id": "fcf32318c558f637"
  },
  {
   "cell_type": "code",
   "execution_count": 61,
   "outputs": [],
   "source": [
    "# for (a,b) in zip(teams_array, answers):\n",
    "#     print(a,b)"
   ],
   "metadata": {
    "collapsed": false,
    "ExecuteTime": {
     "end_time": "2023-12-04T20:11:48.578460652Z",
     "start_time": "2023-12-04T20:11:48.570229506Z"
    }
   },
   "id": "77a5d7776ec6d2af"
  },
  {
   "cell_type": "code",
   "execution_count": 62,
   "outputs": [],
   "source": [
    "data_to_save = {\n",
    "    'questions': questions,\n",
    "    'answers': answers,\n",
    "    'VOCAB_SIZE': VOCAB_SIZE,\n",
    "    'total_teams': total_teams\n",
    "}"
   ],
   "metadata": {
    "collapsed": false,
    "ExecuteTime": {
     "end_time": "2023-12-04T20:11:48.590144092Z",
     "start_time": "2023-12-04T20:11:48.573549701Z"
    }
   },
   "id": "a6a80a5c19431885"
  },
  {
   "cell_type": "code",
   "execution_count": 63,
   "outputs": [],
   "source": [
    "import pickle\n",
    "with open('data1.pkl', 'wb') as file:\n",
    "    pickle.dump(data_to_save, file)\n",
    "\n",
    "# Load the data from the pickle file\n",
    "with open('data1.pkl', 'rb') as file:\n",
    "    loaded_data = pickle.load(file)"
   ],
   "metadata": {
    "collapsed": false,
    "ExecuteTime": {
     "end_time": "2023-12-04T20:11:48.793655487Z",
     "start_time": "2023-12-04T20:11:48.583847542Z"
    }
   },
   "id": "b43cb5aba13ca6bc"
  },
  {
   "cell_type": "code",
   "execution_count": 64,
   "outputs": [
    {
     "name": "stdout",
     "output_type": "stream",
     "text": [
      "Loaded Array 1: [46994 46770 46798 ...     0     0     0]\n",
      "Loaded Array 2: 8\n",
      "Loaded Variable: 46994\n",
      "total teams: 55\n"
     ]
    }
   ],
   "source": [
    "loaded_array1 = loaded_data['questions']\n",
    "loaded_array2 = loaded_data['answers']\n",
    "loaded_variable = loaded_data['VOCAB_SIZE']\n",
    "total_teams = loaded_data['total_teams']\n",
    "\n",
    "# Print the loaded arrays and variable\n",
    "print(\"Loaded Array 1:\", loaded_array1[0])\n",
    "print(\"Loaded Array 2:\", loaded_array2[0])\n",
    "print(\"Loaded Variable:\", loaded_variable)\n",
    "print(\"total teams:\", total_teams)"
   ],
   "metadata": {
    "collapsed": false,
    "ExecuteTime": {
     "end_time": "2023-12-04T20:11:48.806939927Z",
     "start_time": "2023-12-04T20:11:48.803895282Z"
    }
   },
   "id": "f7084635dc8ee56b"
  }
 ],
 "metadata": {
  "kernelspec": {
   "display_name": "Python 3",
   "language": "python",
   "name": "python3"
  },
  "language_info": {
   "codemirror_mode": {
    "name": "ipython",
    "version": 2
   },
   "file_extension": ".py",
   "mimetype": "text/x-python",
   "name": "python",
   "nbconvert_exporter": "python",
   "pygments_lexer": "ipython2",
   "version": "2.7.6"
  }
 },
 "nbformat": 4,
 "nbformat_minor": 5
}
